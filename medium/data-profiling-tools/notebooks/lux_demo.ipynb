{
  "nbformat": 4,
  "nbformat_minor": 0,
  "metadata": {
    "colab": {
      "provenance": []
    },
    "kernelspec": {
      "name": "python3",
      "display_name": "Python 3"
    },
    "language_info": {
      "name": "python"
    },
    "widgets": {
      "application/vnd.jupyter.widget-state+json": {
        "d6b652510a8542a1b2d45bca10a3ddd8": {
          "model_module": "@jupyter-widgets/controls",
          "model_name": "ButtonModel",
          "model_module_version": "1.5.0",
          "state": {
            "_dom_classes": [],
            "_model_module": "@jupyter-widgets/controls",
            "_model_module_version": "1.5.0",
            "_model_name": "ButtonModel",
            "_view_count": null,
            "_view_module": "@jupyter-widgets/controls",
            "_view_module_version": "1.5.0",
            "_view_name": "ButtonView",
            "button_style": "",
            "description": "Toggle Pandas/Lux",
            "disabled": false,
            "icon": "",
            "layout": "IPY_MODEL_9add1541406441b88995309176c3a0cb",
            "style": "IPY_MODEL_fd7235b2395b486b9d5c775c29c06494",
            "tooltip": ""
          }
        },
        "9add1541406441b88995309176c3a0cb": {
          "model_module": "@jupyter-widgets/base",
          "model_name": "LayoutModel",
          "model_module_version": "1.2.0",
          "state": {
            "_model_module": "@jupyter-widgets/base",
            "_model_module_version": "1.2.0",
            "_model_name": "LayoutModel",
            "_view_count": null,
            "_view_module": "@jupyter-widgets/base",
            "_view_module_version": "1.2.0",
            "_view_name": "LayoutView",
            "align_content": null,
            "align_items": null,
            "align_self": null,
            "border": null,
            "bottom": null,
            "display": null,
            "flex": null,
            "flex_flow": null,
            "grid_area": null,
            "grid_auto_columns": null,
            "grid_auto_flow": null,
            "grid_auto_rows": null,
            "grid_column": null,
            "grid_gap": null,
            "grid_row": null,
            "grid_template_areas": null,
            "grid_template_columns": null,
            "grid_template_rows": null,
            "height": null,
            "justify_content": null,
            "justify_items": null,
            "left": null,
            "margin": null,
            "max_height": null,
            "max_width": null,
            "min_height": null,
            "min_width": null,
            "object_fit": null,
            "object_position": null,
            "order": null,
            "overflow": null,
            "overflow_x": null,
            "overflow_y": null,
            "padding": null,
            "right": null,
            "top": "5px",
            "visibility": null,
            "width": "140px"
          }
        },
        "fd7235b2395b486b9d5c775c29c06494": {
          "model_module": "@jupyter-widgets/controls",
          "model_name": "ButtonStyleModel",
          "model_module_version": "1.5.0",
          "state": {
            "_model_module": "@jupyter-widgets/controls",
            "_model_module_version": "1.5.0",
            "_model_name": "ButtonStyleModel",
            "_view_count": null,
            "_view_module": "@jupyter-widgets/base",
            "_view_module_version": "1.2.0",
            "_view_name": "StyleView",
            "button_color": null,
            "font_weight": ""
          }
        },
        "783759064df34c91b3bce086e82d847e": {
          "model_module": "@jupyter-widgets/output",
          "model_name": "OutputModel",
          "model_module_version": "1.0.0",
          "state": {
            "_dom_classes": [],
            "_model_module": "@jupyter-widgets/output",
            "_model_module_version": "1.0.0",
            "_model_name": "OutputModel",
            "_view_count": null,
            "_view_module": "@jupyter-widgets/output",
            "_view_module_version": "1.0.0",
            "_view_name": "OutputView",
            "layout": "IPY_MODEL_e3bf2ad84359419d8fa38beb7ae432ee",
            "msg_id": "",
            "outputs": [
              {
                "output_type": "display_data",
                "data": {
                  "text/plain": "LuxWidget(message='<ul><li>The column <code>Hemoglobin</code> contains missing values, not shown in the displa…",
                  "application/vnd.jupyter.widget-view+json": {
                    "version_major": 2,
                    "version_minor": 0,
                    "model_id": "1d14658d68cf4c63acb7eb34e882ccef"
                  }
                },
                "metadata": {
                  "application/vnd.jupyter.widget-view+json": {
                    "colab": {
                      "custom_widget_manager": {
                        "url": "https://ssl.gstatic.com/colaboratory-static/widgets/colab-cdn-widget-manager/b3e629b1971e1542/manager.min.js"
                      }
                    }
                  }
                }
              }
            ]
          }
        },
        "e3bf2ad84359419d8fa38beb7ae432ee": {
          "model_module": "@jupyter-widgets/base",
          "model_name": "LayoutModel",
          "model_module_version": "1.2.0",
          "state": {
            "_model_module": "@jupyter-widgets/base",
            "_model_module_version": "1.2.0",
            "_model_name": "LayoutModel",
            "_view_count": null,
            "_view_module": "@jupyter-widgets/base",
            "_view_module_version": "1.2.0",
            "_view_name": "LayoutView",
            "align_content": null,
            "align_items": null,
            "align_self": null,
            "border": null,
            "bottom": null,
            "display": null,
            "flex": null,
            "flex_flow": null,
            "grid_area": null,
            "grid_auto_columns": null,
            "grid_auto_flow": null,
            "grid_auto_rows": null,
            "grid_column": null,
            "grid_gap": null,
            "grid_row": null,
            "grid_template_areas": null,
            "grid_template_columns": null,
            "grid_template_rows": null,
            "height": null,
            "justify_content": null,
            "justify_items": null,
            "left": null,
            "margin": null,
            "max_height": null,
            "max_width": null,
            "min_height": null,
            "min_width": null,
            "object_fit": null,
            "object_position": null,
            "order": null,
            "overflow": null,
            "overflow_x": null,
            "overflow_y": null,
            "padding": null,
            "right": null,
            "top": null,
            "visibility": null,
            "width": null
          }
        },
        "2362011b7c894670abae5ac159b88d1a": {
          "model_module": "@jupyter-widgets/base",
          "model_name": "LayoutModel",
          "model_module_version": "1.2.0",
          "state": {
            "_model_module": "@jupyter-widgets/base",
            "_model_module_version": "1.2.0",
            "_model_name": "LayoutModel",
            "_view_count": null,
            "_view_module": "@jupyter-widgets/base",
            "_view_module_version": "1.2.0",
            "_view_name": "LayoutView",
            "align_content": null,
            "align_items": null,
            "align_self": null,
            "border": null,
            "bottom": null,
            "display": null,
            "flex": null,
            "flex_flow": null,
            "grid_area": null,
            "grid_auto_columns": null,
            "grid_auto_flow": null,
            "grid_auto_rows": null,
            "grid_column": null,
            "grid_gap": null,
            "grid_row": null,
            "grid_template_areas": null,
            "grid_template_columns": null,
            "grid_template_rows": null,
            "height": null,
            "justify_content": null,
            "justify_items": null,
            "left": null,
            "margin": null,
            "max_height": null,
            "max_width": null,
            "min_height": null,
            "min_width": null,
            "object_fit": null,
            "object_position": null,
            "order": null,
            "overflow": null,
            "overflow_x": null,
            "overflow_y": null,
            "padding": null,
            "right": null,
            "top": null,
            "visibility": null,
            "width": null
          }
        },
        "1d14658d68cf4c63acb7eb34e882ccef": {
          "model_module": "luxwidget",
          "model_name": "LuxModel",
          "model_module_version": "0.1.11",
          "state": {
            "_dom_classes": [],
            "_model_module": "luxwidget",
            "_model_module_version": "0.1.11",
            "_model_name": "LuxModel",
            "_selectedVisIdxs": {},
            "_view_count": null,
            "_view_module": "luxwidget",
            "_view_module_version": "0.1.11",
            "_view_name": "LuxWidgetView",
            "all_column": false,
            "current_vis": {},
            "data": [],
            "deletedIndices": {},
            "intent": "",
            "layout": "IPY_MODEL_2362011b7c894670abae5ac159b88d1a",
            "message": "<ul><li>The column <code>Hemoglobin</code> contains missing values, not shown in the displayed histogram.</li><li>The column <code>Total_Bil</code> contains missing values, not shown in the displayed histogram.</li><li>The column <code>Dir_Bil</code> contains missing values, not shown in the displayed histogram.</li><li>The column <code>Ferritin</code> contains missing values, not shown in the displayed histogram.</li></ul>",
            "plotting_scale": 1,
            "recommendations": [
              {
                "action": "Correlation",
                "description": "Show relationships between two <p class='highlight-descriptor'>quantitative</p> attributes.",
                "long_description": "Correlation searches through all pairwise relationship between two quantitative attributes             (e.g., Age, Total_Bil). The visualizations are ranked from most to least linearly correlated based on                 their Pearson’s correlation score.",
                "vspec": [
                  {
                    "config": {
                      "view": {
                        "continuousWidth": 400,
                        "continuousHeight": 300
                      },
                      "axis": {
                        "labelColor": "#505050",
                        "labelFont": "Helvetica Neue",
                        "labelFontSize": 9,
                        "labelFontWeight": 400,
                        "titleFont": "Helvetica Neue",
                        "titleFontSize": 11,
                        "titleFontWeight": 500
                      },
                      "legend": {
                        "labelFont": "Helvetica Neue",
                        "labelFontSize": 9,
                        "labelFontWeight": 400,
                        "titleFont": "Helvetica Neue",
                        "titleFontSize": 10,
                        "titleFontWeight": 500
                      },
                      "mark": {
                        "tooltip": {
                          "content": "encoding"
                        }
                      },
                      "title": {
                        "font": "Helvetica Neue",
                        "fontSize": 13,
                        "fontWeight": 500
                      }
                    },
                    "data": {
                      "name": "data-3a462dfffd87d747e0ff39e594b6c871"
                    },
                    "mark": "circle",
                    "encoding": {
                      "x": {
                        "axis": {
                          "title": "Dir_Bil"
                        },
                        "field": "Dir_Bil",
                        "scale": {
                          "domain": [
                            0.1,
                            29.3
                          ]
                        },
                        "type": "quantitative"
                      },
                      "y": {
                        "axis": {
                          "title": "Total_Bil"
                        },
                        "field": "Total_Bil",
                        "scale": {
                          "domain": [
                            0.3,
                            40.5
                          ]
                        },
                        "type": "quantitative"
                      }
                    },
                    "height": 150,
                    "selection": {
                      "selector001": {
                        "type": "interval",
                        "bind": "scales",
                        "encodings": [
                          "x",
                          "y"
                        ]
                      }
                    },
                    "width": 160,
                    "$schema": "https://vega.github.io/schema/vega-lite/v4.17.0.json",
                    "datasets": {
                      "data-3a462dfffd87d747e0ff39e594b6c871": [
                        {
                          "Dir_Bil": 0.5,
                          "Total_Bil": 2.1
                        },
                        {
                          "Dir_Bil": null,
                          "Total_Bil": null
                        },
                        {
                          "Dir_Bil": 0.1,
                          "Total_Bil": 0.4
                        },
                        {
                          "Dir_Bil": 0.2,
                          "Total_Bil": 0.4
                        },
                        {
                          "Dir_Bil": null,
                          "Total_Bil": 0.7
                        },
                        {
                          "Dir_Bil": 1.4,
                          "Total_Bil": 3.5
                        },
                        {
                          "Dir_Bil": 2.19,
                          "Total_Bil": 2.72
                        },
                        {
                          "Dir_Bil": 1.3,
                          "Total_Bil": 3.2
                        },
                        {
                          "Dir_Bil": 1.2,
                          "Total_Bil": 3.3
                        },
                        {
                          "Dir_Bil": 0.7,
                          "Total_Bil": 0.5
                        },
                        {
                          "Dir_Bil": 1.1,
                          "Total_Bil": 3
                        },
                        {
                          "Dir_Bil": 0.3,
                          "Total_Bil": 1.3
                        },
                        {
                          "Dir_Bil": 0.8,
                          "Total_Bil": 8.5
                        },
                        {
                          "Dir_Bil": null,
                          "Total_Bil": 1
                        },
                        {
                          "Dir_Bil": 4.5,
                          "Total_Bil": 10.5
                        },
                        {
                          "Dir_Bil": 1.3,
                          "Total_Bil": 3.1
                        },
                        {
                          "Dir_Bil": 2.9,
                          "Total_Bil": 9.8
                        },
                        {
                          "Dir_Bil": 3.8,
                          "Total_Bil": 0.5
                        },
                        {
                          "Dir_Bil": 0.9,
                          "Total_Bil": 0.9
                        },
                        {
                          "Dir_Bil": 1.6,
                          "Total_Bil": 3.4
                        },
                        {
                          "Dir_Bil": 0.7,
                          "Total_Bil": 1.7
                        },
                        {
                          "Dir_Bil": 0.2,
                          "Total_Bil": 1
                        },
                        {
                          "Dir_Bil": 0.5,
                          "Total_Bil": 1.2
                        },
                        {
                          "Dir_Bil": 1.6,
                          "Total_Bil": 3.8
                        },
                        {
                          "Dir_Bil": 0.7,
                          "Total_Bil": 1.3
                        },
                        {
                          "Dir_Bil": 0.7,
                          "Total_Bil": 1.6
                        },
                        {
                          "Dir_Bil": 0.7,
                          "Total_Bil": 1.3
                        },
                        {
                          "Dir_Bil": 1,
                          "Total_Bil": 3.2
                        },
                        {
                          "Dir_Bil": 0.4,
                          "Total_Bil": 1.1
                        },
                        {
                          "Dir_Bil": 1.1,
                          "Total_Bil": 1.8
                        },
                        {
                          "Dir_Bil": null,
                          "Total_Bil": 0.7
                        },
                        {
                          "Dir_Bil": null,
                          "Total_Bil": 1
                        },
                        {
                          "Dir_Bil": null,
                          "Total_Bil": 0.6
                        },
                        {
                          "Dir_Bil": null,
                          "Total_Bil": 0.5
                        },
                        {
                          "Dir_Bil": 0.77,
                          "Total_Bil": 1.7
                        },
                        {
                          "Dir_Bil": 0.37,
                          "Total_Bil": 0.77
                        },
                        {
                          "Dir_Bil": 3.3,
                          "Total_Bil": 7.8
                        },
                        {
                          "Dir_Bil": 0.2,
                          "Total_Bil": 1.1
                        },
                        {
                          "Dir_Bil": 0.3,
                          "Total_Bil": 1.3
                        },
                        {
                          "Dir_Bil": 0.6,
                          "Total_Bil": 1.4
                        },
                        {
                          "Dir_Bil": 0.3,
                          "Total_Bil": 0.8
                        },
                        {
                          "Dir_Bil": 0.3,
                          "Total_Bil": 0.7
                        },
                        {
                          "Dir_Bil": 0.3,
                          "Total_Bil": 1
                        },
                        {
                          "Dir_Bil": 0.2,
                          "Total_Bil": 2.5
                        },
                        {
                          "Dir_Bil": 0.5,
                          "Total_Bil": 2.2
                        },
                        {
                          "Dir_Bil": null,
                          "Total_Bil": 0.9
                        },
                        {
                          "Dir_Bil": null,
                          "Total_Bil": null
                        },
                        {
                          "Dir_Bil": 4.1,
                          "Total_Bil": 6.8
                        },
                        {
                          "Dir_Bil": null,
                          "Total_Bil": 1
                        },
                        {
                          "Dir_Bil": 0.4,
                          "Total_Bil": 2.1
                        },
                        {
                          "Dir_Bil": 0.3,
                          "Total_Bil": 0.3
                        },
                        {
                          "Dir_Bil": 0.8,
                          "Total_Bil": 2.3
                        },
                        {
                          "Dir_Bil": null,
                          "Total_Bil": 0.7
                        },
                        {
                          "Dir_Bil": 0.3,
                          "Total_Bil": 1.4
                        },
                        {
                          "Dir_Bil": 5.5,
                          "Total_Bil": 8.2
                        },
                        {
                          "Dir_Bil": null,
                          "Total_Bil": 0.9
                        },
                        {
                          "Dir_Bil": null,
                          "Total_Bil": 0.5
                        },
                        {
                          "Dir_Bil": 0.85,
                          "Total_Bil": 0.8
                        },
                        {
                          "Dir_Bil": 1.9,
                          "Total_Bil": 4.2
                        },
                        {
                          "Dir_Bil": null,
                          "Total_Bil": 0.9
                        },
                        {
                          "Dir_Bil": 0.5,
                          "Total_Bil": 1.7
                        },
                        {
                          "Dir_Bil": 1.9,
                          "Total_Bil": 3.7
                        },
                        {
                          "Dir_Bil": 2.2,
                          "Total_Bil": 4.9
                        },
                        {
                          "Dir_Bil": 0.5,
                          "Total_Bil": 2.4
                        },
                        {
                          "Dir_Bil": 0.5,
                          "Total_Bil": 1.4
                        },
                        {
                          "Dir_Bil": 0.2,
                          "Total_Bil": 1.3
                        },
                        {
                          "Dir_Bil": 0.3,
                          "Total_Bil": 1.4
                        },
                        {
                          "Dir_Bil": 0.2,
                          "Total_Bil": 1.6
                        },
                        {
                          "Dir_Bil": 1.2,
                          "Total_Bil": 3.9
                        },
                        {
                          "Dir_Bil": 1.3,
                          "Total_Bil": 2.1
                        },
                        {
                          "Dir_Bil": 0.8,
                          "Total_Bil": 2.8
                        },
                        {
                          "Dir_Bil": 1.1,
                          "Total_Bil": 1.9
                        },
                        {
                          "Dir_Bil": 0.8,
                          "Total_Bil": 2.3
                        },
                        {
                          "Dir_Bil": null,
                          "Total_Bil": 0.6
                        },
                        {
                          "Dir_Bil": 0.3,
                          "Total_Bil": 1
                        },
                        {
                          "Dir_Bil": 4.6,
                          "Total_Bil": 9.6
                        },
                        {
                          "Dir_Bil": 1.2,
                          "Total_Bil": 2.2
                        },
                        {
                          "Dir_Bil": null,
                          "Total_Bil": 0.9
                        },
                        {
                          "Dir_Bil": 0.5,
                          "Total_Bil": 0.5
                        },
                        {
                          "Dir_Bil": 9.6,
                          "Total_Bil": 16
                        },
                        {
                          "Dir_Bil": 0.5,
                          "Total_Bil": 1.2
                        },
                        {
                          "Dir_Bil": 1.7,
                          "Total_Bil": 4.6
                        },
                        {
                          "Dir_Bil": 1.4,
                          "Total_Bil": 2.6
                        },
                        {
                          "Dir_Bil": 1.4,
                          "Total_Bil": 3.4
                        },
                        {
                          "Dir_Bil": 0.3,
                          "Total_Bil": 1.1
                        },
                        {
                          "Dir_Bil": 0.7,
                          "Total_Bil": 2.9
                        },
                        {
                          "Dir_Bil": null,
                          "Total_Bil": null
                        },
                        {
                          "Dir_Bil": null,
                          "Total_Bil": 0.5
                        },
                        {
                          "Dir_Bil": 0.9,
                          "Total_Bil": 2.1
                        },
                        {
                          "Dir_Bil": 1,
                          "Total_Bil": 1.5
                        },
                        {
                          "Dir_Bil": 1,
                          "Total_Bil": 4.3
                        },
                        {
                          "Dir_Bil": 0.3,
                          "Total_Bil": 1.3
                        },
                        {
                          "Dir_Bil": 0.2,
                          "Total_Bil": 1
                        },
                        {
                          "Dir_Bil": 0.6,
                          "Total_Bil": 1.9
                        },
                        {
                          "Dir_Bil": null,
                          "Total_Bil": 0.8
                        },
                        {
                          "Dir_Bil": null,
                          "Total_Bil": 0.6
                        },
                        {
                          "Dir_Bil": null,
                          "Total_Bil": null
                        },
                        {
                          "Dir_Bil": 1.1,
                          "Total_Bil": 3.3
                        },
                        {
                          "Dir_Bil": null,
                          "Total_Bil": 0.8
                        },
                        {
                          "Dir_Bil": 5.5,
                          "Total_Bil": 9.5
                        },
                        {
                          "Dir_Bil": 1.5,
                          "Total_Bil": 3.5
                        },
                        {
                          "Dir_Bil": 19.5,
                          "Total_Bil": 28.9
                        },
                        {
                          "Dir_Bil": null,
                          "Total_Bil": 0.8
                        },
                        {
                          "Dir_Bil": 29.3,
                          "Total_Bil": 40.5
                        },
                        {
                          "Dir_Bil": null,
                          "Total_Bil": 1
                        },
                        {
                          "Dir_Bil": 0.3,
                          "Total_Bil": 1.2
                        },
                        {
                          "Dir_Bil": null,
                          "Total_Bil": 0.4
                        },
                        {
                          "Dir_Bil": null,
                          "Total_Bil": 0.5
                        },
                        {
                          "Dir_Bil": 0.5,
                          "Total_Bil": 1.7
                        },
                        {
                          "Dir_Bil": 0.7,
                          "Total_Bil": 1.4
                        },
                        {
                          "Dir_Bil": 1.8,
                          "Total_Bil": 4.8
                        },
                        {
                          "Dir_Bil": 22.1,
                          "Total_Bil": 32.3
                        },
                        {
                          "Dir_Bil": 0.3,
                          "Total_Bil": 1.7
                        },
                        {
                          "Dir_Bil": 0.3,
                          "Total_Bil": 1.3
                        },
                        {
                          "Dir_Bil": 1.9,
                          "Total_Bil": 5.7
                        },
                        {
                          "Dir_Bil": 0.3,
                          "Total_Bil": 0.8
                        },
                        {
                          "Dir_Bil": null,
                          "Total_Bil": 0.7
                        },
                        {
                          "Dir_Bil": 9.7,
                          "Total_Bil": 19
                        },
                        {
                          "Dir_Bil": null,
                          "Total_Bil": 7.9
                        },
                        {
                          "Dir_Bil": 1,
                          "Total_Bil": 1.4
                        },
                        {
                          "Dir_Bil": 2.8,
                          "Total_Bil": 4.9
                        },
                        {
                          "Dir_Bil": 0.4,
                          "Total_Bil": 1.1
                        },
                        {
                          "Dir_Bil": 1.5,
                          "Total_Bil": 2.6
                        },
                        {
                          "Dir_Bil": null,
                          "Total_Bil": 0.5
                        },
                        {
                          "Dir_Bil": null,
                          "Total_Bil": 0.8
                        },
                        {
                          "Dir_Bil": 0.5,
                          "Total_Bil": 1.5
                        },
                        {
                          "Dir_Bil": 0.7,
                          "Total_Bil": 2.4
                        },
                        {
                          "Dir_Bil": 1,
                          "Total_Bil": 2.8
                        },
                        {
                          "Dir_Bil": null,
                          "Total_Bil": 0.7
                        },
                        {
                          "Dir_Bil": null,
                          "Total_Bil": 0.9
                        },
                        {
                          "Dir_Bil": 0.3,
                          "Total_Bil": 0.6
                        },
                        {
                          "Dir_Bil": 3.8,
                          "Total_Bil": 8.6
                        },
                        {
                          "Dir_Bil": 0.7,
                          "Total_Bil": 1.3
                        },
                        {
                          "Dir_Bil": null,
                          "Total_Bil": 0.8
                        },
                        {
                          "Dir_Bil": 0.12,
                          "Total_Bil": 0.32
                        },
                        {
                          "Dir_Bil": null,
                          "Total_Bil": 0.6
                        },
                        {
                          "Dir_Bil": 0.6,
                          "Total_Bil": 1.3
                        },
                        {
                          "Dir_Bil": null,
                          "Total_Bil": 0.8
                        },
                        {
                          "Dir_Bil": null,
                          "Total_Bil": 0.9
                        },
                        {
                          "Dir_Bil": 0.4,
                          "Total_Bil": 0.5
                        },
                        {
                          "Dir_Bil": null,
                          "Total_Bil": 0.5
                        },
                        {
                          "Dir_Bil": null,
                          "Total_Bil": 1
                        },
                        {
                          "Dir_Bil": 0.3,
                          "Total_Bil": 1.4
                        },
                        {
                          "Dir_Bil": 1.1,
                          "Total_Bil": 3.7
                        },
                        {
                          "Dir_Bil": 0.4,
                          "Total_Bil": 1.5
                        },
                        {
                          "Dir_Bil": 0.33,
                          "Total_Bil": 0.76
                        },
                        {
                          "Dir_Bil": 0.6,
                          "Total_Bil": 1.6
                        },
                        {
                          "Dir_Bil": 1,
                          "Total_Bil": 2.6
                        },
                        {
                          "Dir_Bil": 0.3,
                          "Total_Bil": 1.2
                        },
                        {
                          "Dir_Bil": null,
                          "Total_Bil": null
                        },
                        {
                          "Dir_Bil": 0.2,
                          "Total_Bil": 0.7
                        },
                        {
                          "Dir_Bil": 0.4,
                          "Total_Bil": 1
                        },
                        {
                          "Dir_Bil": null,
                          "Total_Bil": 1
                        },
                        {
                          "Dir_Bil": 1.3,
                          "Total_Bil": 2.4
                        },
                        {
                          "Dir_Bil": 1,
                          "Total_Bil": 3
                        },
                        {
                          "Dir_Bil": 2.9,
                          "Total_Bil": 5.8
                        },
                        {
                          "Dir_Bil": 0.6,
                          "Total_Bil": 1.2
                        },
                        {
                          "Dir_Bil": 0.3,
                          "Total_Bil": 1.3
                        },
                        {
                          "Dir_Bil": null,
                          "Total_Bil": 0.3
                        },
                        {
                          "Dir_Bil": 0.7,
                          "Total_Bil": 1.9
                        },
                        {
                          "Dir_Bil": null,
                          "Total_Bil": 0.5
                        },
                        {
                          "Dir_Bil": 2.3,
                          "Total_Bil": 3.6
                        },
                        {
                          "Dir_Bil": null,
                          "Total_Bil": 0.6
                        },
                        {
                          "Dir_Bil": null,
                          "Total_Bil": 1.1
                        },
                        {
                          "Dir_Bil": 19.8,
                          "Total_Bil": 28.5
                        }
                      ]
                    },
                    "vislib": "vegalite"
                  },
                  {
                    "config": {
                      "view": {
                        "continuousWidth": 400,
                        "continuousHeight": 300
                      },
                      "axis": {
                        "labelColor": "#505050",
                        "labelFont": "Helvetica Neue",
                        "labelFontSize": 9,
                        "labelFontWeight": 400,
                        "titleFont": "Helvetica Neue",
                        "titleFontSize": 11,
                        "titleFontWeight": 500
                      },
                      "legend": {
                        "labelFont": "Helvetica Neue",
                        "labelFontSize": 9,
                        "labelFontWeight": 400,
                        "titleFont": "Helvetica Neue",
                        "titleFontSize": 10,
                        "titleFontWeight": 500
                      },
                      "mark": {
                        "tooltip": {
                          "content": "encoding"
                        }
                      },
                      "title": {
                        "font": "Helvetica Neue",
                        "fontSize": 13,
                        "fontWeight": 500
                      }
                    },
                    "data": {
                      "name": "data-33e5219c2e9584577774fe618c7ebb16"
                    },
                    "mark": "circle",
                    "encoding": {
                      "x": {
                        "axis": {
                          "title": "Ferritin"
                        },
                        "field": "Ferritin",
                        "scale": {
                          "domain": [
                            0,
                            2230
                          ]
                        },
                        "type": "quantitative"
                      },
                      "y": {
                        "axis": {
                          "title": "Dir_Bil"
                        },
                        "field": "Dir_Bil",
                        "scale": {
                          "domain": [
                            0.1,
                            29.3
                          ]
                        },
                        "type": "quantitative"
                      }
                    },
                    "height": 150,
                    "selection": {
                      "selector002": {
                        "type": "interval",
                        "bind": "scales",
                        "encodings": [
                          "x",
                          "y"
                        ]
                      }
                    },
                    "width": 160,
                    "$schema": "https://vega.github.io/schema/vega-lite/v4.17.0.json",
                    "datasets": {
                      "data-33e5219c2e9584577774fe618c7ebb16": [
                        {
                          "Ferritin": null,
                          "Dir_Bil": 0.5
                        },
                        {
                          "Ferritin": null,
                          "Dir_Bil": null
                        },
                        {
                          "Ferritin": 16,
                          "Dir_Bil": 0.1
                        },
                        {
                          "Ferritin": null,
                          "Dir_Bil": 0.2
                        },
                        {
                          "Ferritin": 22,
                          "Dir_Bil": null
                        },
                        {
                          "Ferritin": 111,
                          "Dir_Bil": 1.4
                        },
                        {
                          "Ferritin": 1452,
                          "Dir_Bil": 2.19
                        },
                        {
                          "Ferritin": 706,
                          "Dir_Bil": 1.3
                        },
                        {
                          "Ferritin": 982,
                          "Dir_Bil": 1.2
                        },
                        {
                          "Ferritin": null,
                          "Dir_Bil": 0.7
                        },
                        {
                          "Ferritin": null,
                          "Dir_Bil": 1.1
                        },
                        {
                          "Ferritin": 277,
                          "Dir_Bil": 0.3
                        },
                        {
                          "Ferritin": null,
                          "Dir_Bil": 0.8
                        },
                        {
                          "Ferritin": null,
                          "Dir_Bil": null
                        },
                        {
                          "Ferritin": 302,
                          "Dir_Bil": 4.5
                        },
                        {
                          "Ferritin": 60,
                          "Dir_Bil": 1.3
                        },
                        {
                          "Ferritin": 767,
                          "Dir_Bil": 2.9
                        },
                        {
                          "Ferritin": 443,
                          "Dir_Bil": 3.8
                        },
                        {
                          "Ferritin": 295,
                          "Dir_Bil": 0.9
                        },
                        {
                          "Ferritin": 774,
                          "Dir_Bil": 1.6
                        },
                        {
                          "Ferritin": 76.9,
                          "Dir_Bil": 0.7
                        },
                        {
                          "Ferritin": 84,
                          "Dir_Bil": 0.2
                        },
                        {
                          "Ferritin": 1001,
                          "Dir_Bil": 0.5
                        },
                        {
                          "Ferritin": null,
                          "Dir_Bil": 1.6
                        },
                        {
                          "Ferritin": null,
                          "Dir_Bil": 0.7
                        },
                        {
                          "Ferritin": 79,
                          "Dir_Bil": 0.7
                        },
                        {
                          "Ferritin": null,
                          "Dir_Bil": 0.7
                        },
                        {
                          "Ferritin": null,
                          "Dir_Bil": 1
                        },
                        {
                          "Ferritin": 70,
                          "Dir_Bil": 0.4
                        },
                        {
                          "Ferritin": 369,
                          "Dir_Bil": 1.1
                        },
                        {
                          "Ferritin": null,
                          "Dir_Bil": null
                        },
                        {
                          "Ferritin": 239,
                          "Dir_Bil": null
                        },
                        {
                          "Ferritin": null,
                          "Dir_Bil": null
                        },
                        {
                          "Ferritin": null,
                          "Dir_Bil": null
                        },
                        {
                          "Ferritin": null,
                          "Dir_Bil": 0.77
                        },
                        {
                          "Ferritin": null,
                          "Dir_Bil": 0.37
                        },
                        {
                          "Ferritin": 870,
                          "Dir_Bil": 3.3
                        },
                        {
                          "Ferritin": 134,
                          "Dir_Bil": 0.2
                        },
                        {
                          "Ferritin": null,
                          "Dir_Bil": 0.3
                        },
                        {
                          "Ferritin": null,
                          "Dir_Bil": 0.6
                        },
                        {
                          "Ferritin": 120,
                          "Dir_Bil": 0.3
                        },
                        {
                          "Ferritin": null,
                          "Dir_Bil": 0.3
                        },
                        {
                          "Ferritin": 279,
                          "Dir_Bil": 0.3
                        },
                        {
                          "Ferritin": null,
                          "Dir_Bil": 0.2
                        },
                        {
                          "Ferritin": null,
                          "Dir_Bil": 0.5
                        },
                        {
                          "Ferritin": null,
                          "Dir_Bil": null
                        },
                        {
                          "Ferritin": null,
                          "Dir_Bil": null
                        },
                        {
                          "Ferritin": 888,
                          "Dir_Bil": 4.1
                        },
                        {
                          "Ferritin": 802,
                          "Dir_Bil": null
                        },
                        {
                          "Ferritin": 905,
                          "Dir_Bil": 0.4
                        },
                        {
                          "Ferritin": null,
                          "Dir_Bil": 0.3
                        },
                        {
                          "Ferritin": 497,
                          "Dir_Bil": 0.8
                        },
                        {
                          "Ferritin": 635,
                          "Dir_Bil": null
                        },
                        {
                          "Ferritin": 59,
                          "Dir_Bil": 0.3
                        },
                        {
                          "Ferritin": 742,
                          "Dir_Bil": 5.5
                        },
                        {
                          "Ferritin": null,
                          "Dir_Bil": null
                        },
                        {
                          "Ferritin": 48,
                          "Dir_Bil": null
                        },
                        {
                          "Ferritin": 18,
                          "Dir_Bil": 0.85
                        },
                        {
                          "Ferritin": 176,
                          "Dir_Bil": 1.9
                        },
                        {
                          "Ferritin": null,
                          "Dir_Bil": null
                        },
                        {
                          "Ferritin": null,
                          "Dir_Bil": 0.5
                        },
                        {
                          "Ferritin": 363,
                          "Dir_Bil": 1.9
                        },
                        {
                          "Ferritin": null,
                          "Dir_Bil": 2.2
                        },
                        {
                          "Ferritin": null,
                          "Dir_Bil": 0.5
                        },
                        {
                          "Ferritin": 0,
                          "Dir_Bil": 0.5
                        },
                        {
                          "Ferritin": null,
                          "Dir_Bil": 0.2
                        },
                        {
                          "Ferritin": 393,
                          "Dir_Bil": 0.3
                        },
                        {
                          "Ferritin": 48,
                          "Dir_Bil": 0.2
                        },
                        {
                          "Ferritin": 419,
                          "Dir_Bil": 1.2
                        },
                        {
                          "Ferritin": 639,
                          "Dir_Bil": 1.3
                        },
                        {
                          "Ferritin": 20,
                          "Dir_Bil": 0.8
                        },
                        {
                          "Ferritin": null,
                          "Dir_Bil": 1.1
                        },
                        {
                          "Ferritin": 227,
                          "Dir_Bil": 0.8
                        },
                        {
                          "Ferritin": null,
                          "Dir_Bil": null
                        },
                        {
                          "Ferritin": 255,
                          "Dir_Bil": 0.3
                        },
                        {
                          "Ferritin": 960,
                          "Dir_Bil": 4.6
                        },
                        {
                          "Ferritin": 355,
                          "Dir_Bil": 1.2
                        },
                        {
                          "Ferritin": null,
                          "Dir_Bil": null
                        },
                        {
                          "Ferritin": 141,
                          "Dir_Bil": 0.5
                        },
                        {
                          "Ferritin": null,
                          "Dir_Bil": 9.6
                        },
                        {
                          "Ferritin": null,
                          "Dir_Bil": 0.5
                        },
                        {
                          "Ferritin": 316,
                          "Dir_Bil": 1.7
                        },
                        {
                          "Ferritin": 859,
                          "Dir_Bil": 1.4
                        },
                        {
                          "Ferritin": 221,
                          "Dir_Bil": 1.4
                        },
                        {
                          "Ferritin": null,
                          "Dir_Bil": 0.3
                        },
                        {
                          "Ferritin": 108,
                          "Dir_Bil": 0.7
                        },
                        {
                          "Ferritin": null,
                          "Dir_Bil": null
                        },
                        {
                          "Ferritin": 30,
                          "Dir_Bil": null
                        },
                        {
                          "Ferritin": 28,
                          "Dir_Bil": 0.9
                        },
                        {
                          "Ferritin": null,
                          "Dir_Bil": 1
                        },
                        {
                          "Ferritin": 173,
                          "Dir_Bil": 1
                        },
                        {
                          "Ferritin": 423,
                          "Dir_Bil": 0.3
                        },
                        {
                          "Ferritin": null,
                          "Dir_Bil": 0.2
                        },
                        {
                          "Ferritin": null,
                          "Dir_Bil": 0.6
                        },
                        {
                          "Ferritin": 278,
                          "Dir_Bil": null
                        },
                        {
                          "Ferritin": 810,
                          "Dir_Bil": null
                        },
                        {
                          "Ferritin": null,
                          "Dir_Bil": null
                        },
                        {
                          "Ferritin": null,
                          "Dir_Bil": 1.1
                        },
                        {
                          "Ferritin": 29,
                          "Dir_Bil": null
                        },
                        {
                          "Ferritin": null,
                          "Dir_Bil": 5.5
                        },
                        {
                          "Ferritin": 256,
                          "Dir_Bil": 1.5
                        },
                        {
                          "Ferritin": 749,
                          "Dir_Bil": 19.5
                        },
                        {
                          "Ferritin": 489,
                          "Dir_Bil": null
                        },
                        {
                          "Ferritin": null,
                          "Dir_Bil": 29.3
                        },
                        {
                          "Ferritin": 81,
                          "Dir_Bil": null
                        },
                        {
                          "Ferritin": 48.9,
                          "Dir_Bil": 0.3
                        },
                        {
                          "Ferritin": 2230,
                          "Dir_Bil": null
                        },
                        {
                          "Ferritin": 490,
                          "Dir_Bil": null
                        },
                        {
                          "Ferritin": 1316,
                          "Dir_Bil": 0.5
                        },
                        {
                          "Ferritin": null,
                          "Dir_Bil": 0.7
                        },
                        {
                          "Ferritin": 297,
                          "Dir_Bil": 1.8
                        },
                        {
                          "Ferritin": null,
                          "Dir_Bil": 22.1
                        },
                        {
                          "Ferritin": null,
                          "Dir_Bil": 0.3
                        },
                        {
                          "Ferritin": null,
                          "Dir_Bil": 0.3
                        },
                        {
                          "Ferritin": 56,
                          "Dir_Bil": 1.9
                        },
                        {
                          "Ferritin": null,
                          "Dir_Bil": 0.3
                        },
                        {
                          "Ferritin": null,
                          "Dir_Bil": null
                        },
                        {
                          "Ferritin": 2165,
                          "Dir_Bil": 9.7
                        },
                        {
                          "Ferritin": null,
                          "Dir_Bil": null
                        },
                        {
                          "Ferritin": null,
                          "Dir_Bil": 1
                        },
                        {
                          "Ferritin": null,
                          "Dir_Bil": 2.8
                        },
                        {
                          "Ferritin": 856,
                          "Dir_Bil": 0.4
                        },
                        {
                          "Ferritin": 57,
                          "Dir_Bil": 1.5
                        },
                        {
                          "Ferritin": 90,
                          "Dir_Bil": null
                        },
                        {
                          "Ferritin": 579,
                          "Dir_Bil": null
                        },
                        {
                          "Ferritin": 832,
                          "Dir_Bil": 0.5
                        },
                        {
                          "Ferritin": null,
                          "Dir_Bil": 0.7
                        },
                        {
                          "Ferritin": 307,
                          "Dir_Bil": 1
                        },
                        {
                          "Ferritin": 308,
                          "Dir_Bil": null
                        },
                        {
                          "Ferritin": null,
                          "Dir_Bil": null
                        },
                        {
                          "Ferritin": null,
                          "Dir_Bil": 0.3
                        },
                        {
                          "Ferritin": null,
                          "Dir_Bil": 3.8
                        },
                        {
                          "Ferritin": null,
                          "Dir_Bil": 0.7
                        },
                        {
                          "Ferritin": 149,
                          "Dir_Bil": null
                        },
                        {
                          "Ferritin": null,
                          "Dir_Bil": 0.12
                        },
                        {
                          "Ferritin": null,
                          "Dir_Bil": null
                        },
                        {
                          "Ferritin": null,
                          "Dir_Bil": 0.6
                        },
                        {
                          "Ferritin": 80,
                          "Dir_Bil": null
                        },
                        {
                          "Ferritin": 220,
                          "Dir_Bil": null
                        },
                        {
                          "Ferritin": null,
                          "Dir_Bil": 0.4
                        },
                        {
                          "Ferritin": 206,
                          "Dir_Bil": null
                        },
                        {
                          "Ferritin": null,
                          "Dir_Bil": null
                        },
                        {
                          "Ferritin": null,
                          "Dir_Bil": 0.3
                        },
                        {
                          "Ferritin": 344,
                          "Dir_Bil": 1.1
                        },
                        {
                          "Ferritin": 642,
                          "Dir_Bil": 0.4
                        },
                        {
                          "Ferritin": null,
                          "Dir_Bil": 0.33
                        },
                        {
                          "Ferritin": 14,
                          "Dir_Bil": 0.6
                        },
                        {
                          "Ferritin": null,
                          "Dir_Bil": 1
                        },
                        {
                          "Ferritin": null,
                          "Dir_Bil": 0.3
                        },
                        {
                          "Ferritin": null,
                          "Dir_Bil": null
                        },
                        {
                          "Ferritin": null,
                          "Dir_Bil": 0.2
                        },
                        {
                          "Ferritin": null,
                          "Dir_Bil": 0.4
                        },
                        {
                          "Ferritin": null,
                          "Dir_Bil": null
                        },
                        {
                          "Ferritin": null,
                          "Dir_Bil": 1.3
                        },
                        {
                          "Ferritin": null,
                          "Dir_Bil": 1
                        },
                        {
                          "Ferritin": 1600,
                          "Dir_Bil": 2.9
                        },
                        {
                          "Ferritin": 1176,
                          "Dir_Bil": 0.6
                        },
                        {
                          "Ferritin": null,
                          "Dir_Bil": 0.3
                        },
                        {
                          "Ferritin": null,
                          "Dir_Bil": null
                        },
                        {
                          "Ferritin": 283,
                          "Dir_Bil": 0.7
                        },
                        {
                          "Ferritin": null,
                          "Dir_Bil": null
                        },
                        {
                          "Ferritin": null,
                          "Dir_Bil": 2.3
                        },
                        {
                          "Ferritin": null,
                          "Dir_Bil": null
                        },
                        {
                          "Ferritin": null,
                          "Dir_Bil": null
                        },
                        {
                          "Ferritin": null,
                          "Dir_Bil": 19.8
                        }
                      ]
                    },
                    "vislib": "vegalite"
                  },
                  {
                    "config": {
                      "view": {
                        "continuousWidth": 400,
                        "continuousHeight": 300
                      },
                      "axis": {
                        "labelColor": "#505050",
                        "labelFont": "Helvetica Neue",
                        "labelFontSize": 9,
                        "labelFontWeight": 400,
                        "titleFont": "Helvetica Neue",
                        "titleFontSize": 11,
                        "titleFontWeight": 500
                      },
                      "legend": {
                        "labelFont": "Helvetica Neue",
                        "labelFontSize": 9,
                        "labelFontWeight": 400,
                        "titleFont": "Helvetica Neue",
                        "titleFontSize": 10,
                        "titleFontWeight": 500
                      },
                      "mark": {
                        "tooltip": {
                          "content": "encoding"
                        }
                      },
                      "title": {
                        "font": "Helvetica Neue",
                        "fontSize": 13,
                        "fontWeight": 500
                      }
                    },
                    "data": {
                      "name": "data-06eb22fc274300ee51096d2e268133ed"
                    },
                    "mark": "circle",
                    "encoding": {
                      "x": {
                        "axis": {
                          "title": "MCV"
                        },
                        "field": "MCV",
                        "scale": {
                          "domain": [
                            69.5,
                            119.6
                          ]
                        },
                        "type": "quantitative"
                      },
                      "y": {
                        "axis": {
                          "title": "Ferritin"
                        },
                        "field": "Ferritin",
                        "scale": {
                          "domain": [
                            0,
                            2230
                          ]
                        },
                        "type": "quantitative"
                      }
                    },
                    "height": 150,
                    "selection": {
                      "selector003": {
                        "type": "interval",
                        "bind": "scales",
                        "encodings": [
                          "x",
                          "y"
                        ]
                      }
                    },
                    "width": 160,
                    "$schema": "https://vega.github.io/schema/vega-lite/v4.17.0.json",
                    "datasets": {
                      "data-06eb22fc274300ee51096d2e268133ed": [
                        {
                          "Ferritin": null,
                          "MCV": 106.6
                        },
                        {
                          "Ferritin": null,
                          "MCV": 103.4
                        },
                        {
                          "Ferritin": 16,
                          "MCV": 79.8
                        },
                        {
                          "Ferritin": null,
                          "MCV": 97.1
                        },
                        {
                          "Ferritin": 22,
                          "MCV": 95.1
                        },
                        {
                          "Ferritin": 111,
                          "MCV": 91.5
                        },
                        {
                          "Ferritin": 1452,
                          "MCV": 102
                        },
                        {
                          "Ferritin": 706,
                          "MCV": 92
                        },
                        {
                          "Ferritin": 982,
                          "MCV": 107.5
                        },
                        {
                          "Ferritin": null,
                          "MCV": 87.8
                        },
                        {
                          "Ferritin": null,
                          "MCV": 94.2
                        },
                        {
                          "Ferritin": 277,
                          "MCV": 96.7
                        },
                        {
                          "Ferritin": null,
                          "MCV": 90.1
                        },
                        {
                          "Ferritin": null,
                          "MCV": 93.8
                        },
                        {
                          "Ferritin": 302,
                          "MCV": 93
                        },
                        {
                          "Ferritin": 60,
                          "MCV": 89.6
                        },
                        {
                          "Ferritin": 767,
                          "MCV": 99.2
                        },
                        {
                          "Ferritin": 443,
                          "MCV": 103.7
                        },
                        {
                          "Ferritin": 295,
                          "MCV": 94.8
                        },
                        {
                          "Ferritin": 774,
                          "MCV": 103.4
                        },
                        {
                          "Ferritin": 76.9,
                          "MCV": 101
                        },
                        {
                          "Ferritin": 84,
                          "MCV": 90.7
                        },
                        {
                          "Ferritin": 1001,
                          "MCV": 86.5
                        },
                        {
                          "Ferritin": null,
                          "MCV": 88.1
                        },
                        {
                          "Ferritin": null,
                          "MCV": 111
                        },
                        {
                          "Ferritin": 79,
                          "MCV": 94.3
                        },
                        {
                          "Ferritin": null,
                          "MCV": 98.4
                        },
                        {
                          "Ferritin": null,
                          "MCV": 88.2
                        },
                        {
                          "Ferritin": 70,
                          "MCV": 89.5
                        },
                        {
                          "Ferritin": 369,
                          "MCV": 83.4
                        },
                        {
                          "Ferritin": null,
                          "MCV": 87.9
                        },
                        {
                          "Ferritin": 239,
                          "MCV": 94
                        },
                        {
                          "Ferritin": null,
                          "MCV": 96.1
                        },
                        {
                          "Ferritin": null,
                          "MCV": 97.7
                        },
                        {
                          "Ferritin": null,
                          "MCV": 99.6
                        },
                        {
                          "Ferritin": null,
                          "MCV": 98.5
                        },
                        {
                          "Ferritin": 870,
                          "MCV": 109.3
                        },
                        {
                          "Ferritin": 134,
                          "MCV": 96.5
                        },
                        {
                          "Ferritin": null,
                          "MCV": 105
                        },
                        {
                          "Ferritin": null,
                          "MCV": 82.2
                        },
                        {
                          "Ferritin": 120,
                          "MCV": 88.3
                        },
                        {
                          "Ferritin": null,
                          "MCV": 92.7
                        },
                        {
                          "Ferritin": 279,
                          "MCV": 85.5
                        },
                        {
                          "Ferritin": null,
                          "MCV": 104.1
                        },
                        {
                          "Ferritin": null,
                          "MCV": 98.1
                        },
                        {
                          "Ferritin": null,
                          "MCV": 93.8
                        },
                        {
                          "Ferritin": null,
                          "MCV": 102.2
                        },
                        {
                          "Ferritin": 888,
                          "MCV": 102.9
                        },
                        {
                          "Ferritin": 802,
                          "MCV": 96.2
                        },
                        {
                          "Ferritin": 905,
                          "MCV": 96.7
                        },
                        {
                          "Ferritin": null,
                          "MCV": 78.7
                        },
                        {
                          "Ferritin": 497,
                          "MCV": 91.4
                        },
                        {
                          "Ferritin": 635,
                          "MCV": 80.2
                        },
                        {
                          "Ferritin": 59,
                          "MCV": 93.7
                        },
                        {
                          "Ferritin": 742,
                          "MCV": 95.1
                        },
                        {
                          "Ferritin": null,
                          "MCV": 88
                        },
                        {
                          "Ferritin": 48,
                          "MCV": 90.8
                        },
                        {
                          "Ferritin": 18,
                          "MCV": 83
                        },
                        {
                          "Ferritin": 176,
                          "MCV": 102
                        },
                        {
                          "Ferritin": null,
                          "MCV": 92.4
                        },
                        {
                          "Ferritin": null,
                          "MCV": 100
                        },
                        {
                          "Ferritin": 363,
                          "MCV": 100.8
                        },
                        {
                          "Ferritin": null,
                          "MCV": 97.4
                        },
                        {
                          "Ferritin": null,
                          "MCV": 96.6
                        },
                        {
                          "Ferritin": 0,
                          "MCV": 95.1
                        },
                        {
                          "Ferritin": null,
                          "MCV": 86
                        },
                        {
                          "Ferritin": 393,
                          "MCV": 93
                        },
                        {
                          "Ferritin": 48,
                          "MCV": 99.2
                        },
                        {
                          "Ferritin": 419,
                          "MCV": 100.3
                        },
                        {
                          "Ferritin": 639,
                          "MCV": 97.3
                        },
                        {
                          "Ferritin": 20,
                          "MCV": 74
                        },
                        {
                          "Ferritin": null,
                          "MCV": 102.1
                        },
                        {
                          "Ferritin": 227,
                          "MCV": 101.1
                        },
                        {
                          "Ferritin": null,
                          "MCV": 92
                        },
                        {
                          "Ferritin": 255,
                          "MCV": 92.3
                        },
                        {
                          "Ferritin": 960,
                          "MCV": 119
                        },
                        {
                          "Ferritin": 355,
                          "MCV": 103.6
                        },
                        {
                          "Ferritin": null,
                          "MCV": 100.2
                        },
                        {
                          "Ferritin": 141,
                          "MCV": 81.8
                        },
                        {
                          "Ferritin": null,
                          "MCV": 91.1
                        },
                        {
                          "Ferritin": null,
                          "MCV": 83.7
                        },
                        {
                          "Ferritin": 316,
                          "MCV": 99
                        },
                        {
                          "Ferritin": 859,
                          "MCV": 104.3
                        },
                        {
                          "Ferritin": 221,
                          "MCV": 106
                        },
                        {
                          "Ferritin": null,
                          "MCV": 94.8
                        },
                        {
                          "Ferritin": 108,
                          "MCV": 100.8
                        },
                        {
                          "Ferritin": null,
                          "MCV": 83.9
                        },
                        {
                          "Ferritin": 30,
                          "MCV": 97.9
                        },
                        {
                          "Ferritin": 28,
                          "MCV": 70.6
                        },
                        {
                          "Ferritin": null,
                          "MCV": 90
                        },
                        {
                          "Ferritin": 173,
                          "MCV": 89.5
                        },
                        {
                          "Ferritin": 423,
                          "MCV": 95.1
                        },
                        {
                          "Ferritin": null,
                          "MCV": 95.6
                        },
                        {
                          "Ferritin": null,
                          "MCV": 90.6
                        },
                        {
                          "Ferritin": 278,
                          "MCV": 97.6
                        },
                        {
                          "Ferritin": 810,
                          "MCV": 85.8
                        },
                        {
                          "Ferritin": null,
                          "MCV": 90.9
                        },
                        {
                          "Ferritin": null,
                          "MCV": 103.6
                        },
                        {
                          "Ferritin": 29,
                          "MCV": 89.6
                        },
                        {
                          "Ferritin": null,
                          "MCV": 102.3
                        },
                        {
                          "Ferritin": 256,
                          "MCV": 94.4
                        },
                        {
                          "Ferritin": 749,
                          "MCV": 98
                        },
                        {
                          "Ferritin": 489,
                          "MCV": 99.7
                        },
                        {
                          "Ferritin": null,
                          "MCV": 93.3
                        },
                        {
                          "Ferritin": 81,
                          "MCV": 93.8
                        },
                        {
                          "Ferritin": 48.9,
                          "MCV": 101.5
                        },
                        {
                          "Ferritin": 2230,
                          "MCV": 90.1
                        },
                        {
                          "Ferritin": 490,
                          "MCV": 69.5
                        },
                        {
                          "Ferritin": 1316,
                          "MCV": 103.9
                        },
                        {
                          "Ferritin": null,
                          "MCV": 89.7
                        },
                        {
                          "Ferritin": 297,
                          "MCV": 104.5
                        },
                        {
                          "Ferritin": null,
                          "MCV": 105.5
                        },
                        {
                          "Ferritin": null,
                          "MCV": 90.9
                        },
                        {
                          "Ferritin": null,
                          "MCV": 99.1
                        },
                        {
                          "Ferritin": 56,
                          "MCV": 94.7
                        },
                        {
                          "Ferritin": null,
                          "MCV": 88.2
                        },
                        {
                          "Ferritin": null,
                          "MCV": 93.2
                        },
                        {
                          "Ferritin": 2165,
                          "MCV": 111.4
                        },
                        {
                          "Ferritin": null,
                          "MCV": 96.1
                        },
                        {
                          "Ferritin": null,
                          "MCV": 103.8
                        },
                        {
                          "Ferritin": null,
                          "MCV": 96.1
                        },
                        {
                          "Ferritin": 856,
                          "MCV": 102.8
                        },
                        {
                          "Ferritin": 57,
                          "MCV": 85.6
                        },
                        {
                          "Ferritin": 90,
                          "MCV": 83.8
                        },
                        {
                          "Ferritin": 579,
                          "MCV": 89.2
                        },
                        {
                          "Ferritin": 832,
                          "MCV": 89.5
                        },
                        {
                          "Ferritin": null,
                          "MCV": 88.4
                        },
                        {
                          "Ferritin": 307,
                          "MCV": 104.2
                        },
                        {
                          "Ferritin": 308,
                          "MCV": 95.1
                        },
                        {
                          "Ferritin": null,
                          "MCV": 83.5
                        },
                        {
                          "Ferritin": null,
                          "MCV": 87.4
                        },
                        {
                          "Ferritin": null,
                          "MCV": 119.6
                        },
                        {
                          "Ferritin": null,
                          "MCV": 99.6
                        },
                        {
                          "Ferritin": 149,
                          "MCV": 89.3
                        },
                        {
                          "Ferritin": null,
                          "MCV": 90.3
                        },
                        {
                          "Ferritin": null,
                          "MCV": 96.4
                        },
                        {
                          "Ferritin": null,
                          "MCV": 91.6
                        },
                        {
                          "Ferritin": 80,
                          "MCV": 89.5
                        },
                        {
                          "Ferritin": 220,
                          "MCV": 97.3
                        },
                        {
                          "Ferritin": null,
                          "MCV": 102.3
                        },
                        {
                          "Ferritin": 206,
                          "MCV": 87.6
                        },
                        {
                          "Ferritin": null,
                          "MCV": 89.7
                        },
                        {
                          "Ferritin": null,
                          "MCV": 98.8
                        },
                        {
                          "Ferritin": 344,
                          "MCV": 102.4
                        },
                        {
                          "Ferritin": 642,
                          "MCV": 106.3
                        },
                        {
                          "Ferritin": null,
                          "MCV": 94
                        },
                        {
                          "Ferritin": 14,
                          "MCV": 72.2
                        },
                        {
                          "Ferritin": null,
                          "MCV": 106.9
                        },
                        {
                          "Ferritin": null,
                          "MCV": 94.3
                        },
                        {
                          "Ferritin": null,
                          "MCV": 90.2
                        },
                        {
                          "Ferritin": null,
                          "MCV": 92
                        },
                        {
                          "Ferritin": null,
                          "MCV": 104.9
                        },
                        {
                          "Ferritin": null,
                          "MCV": 93.9
                        },
                        {
                          "Ferritin": null,
                          "MCV": 91.6
                        },
                        {
                          "Ferritin": null,
                          "MCV": 99.7
                        },
                        {
                          "Ferritin": 1600,
                          "MCV": 101.6
                        },
                        {
                          "Ferritin": 1176,
                          "MCV": 103
                        },
                        {
                          "Ferritin": null,
                          "MCV": 97.2
                        },
                        {
                          "Ferritin": null,
                          "MCV": 94.2
                        },
                        {
                          "Ferritin": 283,
                          "MCV": 111.2
                        },
                        {
                          "Ferritin": null,
                          "MCV": 109.2
                        },
                        {
                          "Ferritin": null,
                          "MCV": 88.9
                        },
                        {
                          "Ferritin": null,
                          "MCV": 90
                        },
                        {
                          "Ferritin": null,
                          "MCV": 117.3
                        },
                        {
                          "Ferritin": null,
                          "MCV": 95.8
                        }
                      ]
                    },
                    "vislib": "vegalite"
                  },
                  {
                    "config": {
                      "view": {
                        "continuousWidth": 400,
                        "continuousHeight": 300
                      },
                      "axis": {
                        "labelColor": "#505050",
                        "labelFont": "Helvetica Neue",
                        "labelFontSize": 9,
                        "labelFontWeight": 400,
                        "titleFont": "Helvetica Neue",
                        "titleFontSize": 11,
                        "titleFontWeight": 500
                      },
                      "legend": {
                        "labelFont": "Helvetica Neue",
                        "labelFontSize": 9,
                        "labelFontWeight": 400,
                        "titleFont": "Helvetica Neue",
                        "titleFontSize": 10,
                        "titleFontWeight": 500
                      },
                      "mark": {
                        "tooltip": {
                          "content": "encoding"
                        }
                      },
                      "title": {
                        "font": "Helvetica Neue",
                        "fontSize": 13,
                        "fontWeight": 500
                      }
                    },
                    "data": {
                      "name": "data-bbe975d449e1cf509e4aa30920c04f03"
                    },
                    "mark": "circle",
                    "encoding": {
                      "x": {
                        "axis": {
                          "title": "Ferritin"
                        },
                        "field": "Ferritin",
                        "scale": {
                          "domain": [
                            0,
                            2230
                          ]
                        },
                        "type": "quantitative"
                      },
                      "y": {
                        "axis": {
                          "title": "Total_Bil"
                        },
                        "field": "Total_Bil",
                        "scale": {
                          "domain": [
                            0.3,
                            40.5
                          ]
                        },
                        "type": "quantitative"
                      }
                    },
                    "height": 150,
                    "selection": {
                      "selector004": {
                        "type": "interval",
                        "bind": "scales",
                        "encodings": [
                          "x",
                          "y"
                        ]
                      }
                    },
                    "width": 160,
                    "$schema": "https://vega.github.io/schema/vega-lite/v4.17.0.json",
                    "datasets": {
                      "data-bbe975d449e1cf509e4aa30920c04f03": [
                        {
                          "Ferritin": null,
                          "Total_Bil": 2.1
                        },
                        {
                          "Ferritin": null,
                          "Total_Bil": null
                        },
                        {
                          "Ferritin": 16,
                          "Total_Bil": 0.4
                        },
                        {
                          "Ferritin": null,
                          "Total_Bil": 0.4
                        },
                        {
                          "Ferritin": 22,
                          "Total_Bil": 0.7
                        },
                        {
                          "Ferritin": 111,
                          "Total_Bil": 3.5
                        },
                        {
                          "Ferritin": 1452,
                          "Total_Bil": 2.72
                        },
                        {
                          "Ferritin": 706,
                          "Total_Bil": 3.2
                        },
                        {
                          "Ferritin": 982,
                          "Total_Bil": 3.3
                        },
                        {
                          "Ferritin": null,
                          "Total_Bil": 0.5
                        },
                        {
                          "Ferritin": null,
                          "Total_Bil": 3
                        },
                        {
                          "Ferritin": 277,
                          "Total_Bil": 1.3
                        },
                        {
                          "Ferritin": null,
                          "Total_Bil": 8.5
                        },
                        {
                          "Ferritin": null,
                          "Total_Bil": 1
                        },
                        {
                          "Ferritin": 302,
                          "Total_Bil": 10.5
                        },
                        {
                          "Ferritin": 60,
                          "Total_Bil": 3.1
                        },
                        {
                          "Ferritin": 767,
                          "Total_Bil": 9.8
                        },
                        {
                          "Ferritin": 443,
                          "Total_Bil": 0.5
                        },
                        {
                          "Ferritin": 295,
                          "Total_Bil": 0.9
                        },
                        {
                          "Ferritin": 774,
                          "Total_Bil": 3.4
                        },
                        {
                          "Ferritin": 76.9,
                          "Total_Bil": 1.7
                        },
                        {
                          "Ferritin": 84,
                          "Total_Bil": 1
                        },
                        {
                          "Ferritin": 1001,
                          "Total_Bil": 1.2
                        },
                        {
                          "Ferritin": null,
                          "Total_Bil": 3.8
                        },
                        {
                          "Ferritin": null,
                          "Total_Bil": 1.3
                        },
                        {
                          "Ferritin": 79,
                          "Total_Bil": 1.6
                        },
                        {
                          "Ferritin": null,
                          "Total_Bil": 1.3
                        },
                        {
                          "Ferritin": null,
                          "Total_Bil": 3.2
                        },
                        {
                          "Ferritin": 70,
                          "Total_Bil": 1.1
                        },
                        {
                          "Ferritin": 369,
                          "Total_Bil": 1.8
                        },
                        {
                          "Ferritin": null,
                          "Total_Bil": 0.7
                        },
                        {
                          "Ferritin": 239,
                          "Total_Bil": 1
                        },
                        {
                          "Ferritin": null,
                          "Total_Bil": 0.6
                        },
                        {
                          "Ferritin": null,
                          "Total_Bil": 0.5
                        },
                        {
                          "Ferritin": null,
                          "Total_Bil": 1.7
                        },
                        {
                          "Ferritin": null,
                          "Total_Bil": 0.77
                        },
                        {
                          "Ferritin": 870,
                          "Total_Bil": 7.8
                        },
                        {
                          "Ferritin": 134,
                          "Total_Bil": 1.1
                        },
                        {
                          "Ferritin": null,
                          "Total_Bil": 1.3
                        },
                        {
                          "Ferritin": null,
                          "Total_Bil": 1.4
                        },
                        {
                          "Ferritin": 120,
                          "Total_Bil": 0.8
                        },
                        {
                          "Ferritin": null,
                          "Total_Bil": 0.7
                        },
                        {
                          "Ferritin": 279,
                          "Total_Bil": 1
                        },
                        {
                          "Ferritin": null,
                          "Total_Bil": 2.5
                        },
                        {
                          "Ferritin": null,
                          "Total_Bil": 2.2
                        },
                        {
                          "Ferritin": null,
                          "Total_Bil": 0.9
                        },
                        {
                          "Ferritin": null,
                          "Total_Bil": null
                        },
                        {
                          "Ferritin": 888,
                          "Total_Bil": 6.8
                        },
                        {
                          "Ferritin": 802,
                          "Total_Bil": 1
                        },
                        {
                          "Ferritin": 905,
                          "Total_Bil": 2.1
                        },
                        {
                          "Ferritin": null,
                          "Total_Bil": 0.3
                        },
                        {
                          "Ferritin": 497,
                          "Total_Bil": 2.3
                        },
                        {
                          "Ferritin": 635,
                          "Total_Bil": 0.7
                        },
                        {
                          "Ferritin": 59,
                          "Total_Bil": 1.4
                        },
                        {
                          "Ferritin": 742,
                          "Total_Bil": 8.2
                        },
                        {
                          "Ferritin": null,
                          "Total_Bil": 0.9
                        },
                        {
                          "Ferritin": 48,
                          "Total_Bil": 0.5
                        },
                        {
                          "Ferritin": 18,
                          "Total_Bil": 0.8
                        },
                        {
                          "Ferritin": 176,
                          "Total_Bil": 4.2
                        },
                        {
                          "Ferritin": null,
                          "Total_Bil": 0.9
                        },
                        {
                          "Ferritin": null,
                          "Total_Bil": 1.7
                        },
                        {
                          "Ferritin": 363,
                          "Total_Bil": 3.7
                        },
                        {
                          "Ferritin": null,
                          "Total_Bil": 4.9
                        },
                        {
                          "Ferritin": null,
                          "Total_Bil": 2.4
                        },
                        {
                          "Ferritin": 0,
                          "Total_Bil": 1.4
                        },
                        {
                          "Ferritin": null,
                          "Total_Bil": 1.3
                        },
                        {
                          "Ferritin": 393,
                          "Total_Bil": 1.4
                        },
                        {
                          "Ferritin": 48,
                          "Total_Bil": 1.6
                        },
                        {
                          "Ferritin": 419,
                          "Total_Bil": 3.9
                        },
                        {
                          "Ferritin": 639,
                          "Total_Bil": 2.1
                        },
                        {
                          "Ferritin": 20,
                          "Total_Bil": 2.8
                        },
                        {
                          "Ferritin": null,
                          "Total_Bil": 1.9
                        },
                        {
                          "Ferritin": 227,
                          "Total_Bil": 2.3
                        },
                        {
                          "Ferritin": null,
                          "Total_Bil": 0.6
                        },
                        {
                          "Ferritin": 255,
                          "Total_Bil": 1
                        },
                        {
                          "Ferritin": 960,
                          "Total_Bil": 9.6
                        },
                        {
                          "Ferritin": 355,
                          "Total_Bil": 2.2
                        },
                        {
                          "Ferritin": null,
                          "Total_Bil": 0.9
                        },
                        {
                          "Ferritin": 141,
                          "Total_Bil": 0.5
                        },
                        {
                          "Ferritin": null,
                          "Total_Bil": 16
                        },
                        {
                          "Ferritin": null,
                          "Total_Bil": 1.2
                        },
                        {
                          "Ferritin": 316,
                          "Total_Bil": 4.6
                        },
                        {
                          "Ferritin": 859,
                          "Total_Bil": 2.6
                        },
                        {
                          "Ferritin": 221,
                          "Total_Bil": 3.4
                        },
                        {
                          "Ferritin": null,
                          "Total_Bil": 1.1
                        },
                        {
                          "Ferritin": 108,
                          "Total_Bil": 2.9
                        },
                        {
                          "Ferritin": null,
                          "Total_Bil": null
                        },
                        {
                          "Ferritin": 30,
                          "Total_Bil": 0.5
                        },
                        {
                          "Ferritin": 28,
                          "Total_Bil": 2.1
                        },
                        {
                          "Ferritin": null,
                          "Total_Bil": 1.5
                        },
                        {
                          "Ferritin": 173,
                          "Total_Bil": 4.3
                        },
                        {
                          "Ferritin": 423,
                          "Total_Bil": 1.3
                        },
                        {
                          "Ferritin": null,
                          "Total_Bil": 1
                        },
                        {
                          "Ferritin": null,
                          "Total_Bil": 1.9
                        },
                        {
                          "Ferritin": 278,
                          "Total_Bil": 0.8
                        },
                        {
                          "Ferritin": 810,
                          "Total_Bil": 0.6
                        },
                        {
                          "Ferritin": null,
                          "Total_Bil": null
                        },
                        {
                          "Ferritin": null,
                          "Total_Bil": 3.3
                        },
                        {
                          "Ferritin": 29,
                          "Total_Bil": 0.8
                        },
                        {
                          "Ferritin": null,
                          "Total_Bil": 9.5
                        },
                        {
                          "Ferritin": 256,
                          "Total_Bil": 3.5
                        },
                        {
                          "Ferritin": 749,
                          "Total_Bil": 28.9
                        },
                        {
                          "Ferritin": 489,
                          "Total_Bil": 0.8
                        },
                        {
                          "Ferritin": null,
                          "Total_Bil": 40.5
                        },
                        {
                          "Ferritin": 81,
                          "Total_Bil": 1
                        },
                        {
                          "Ferritin": 48.9,
                          "Total_Bil": 1.2
                        },
                        {
                          "Ferritin": 2230,
                          "Total_Bil": 0.4
                        },
                        {
                          "Ferritin": 490,
                          "Total_Bil": 0.5
                        },
                        {
                          "Ferritin": 1316,
                          "Total_Bil": 1.7
                        },
                        {
                          "Ferritin": null,
                          "Total_Bil": 1.4
                        },
                        {
                          "Ferritin": 297,
                          "Total_Bil": 4.8
                        },
                        {
                          "Ferritin": null,
                          "Total_Bil": 32.3
                        },
                        {
                          "Ferritin": null,
                          "Total_Bil": 1.7
                        },
                        {
                          "Ferritin": null,
                          "Total_Bil": 1.3
                        },
                        {
                          "Ferritin": 56,
                          "Total_Bil": 5.7
                        },
                        {
                          "Ferritin": null,
                          "Total_Bil": 0.8
                        },
                        {
                          "Ferritin": null,
                          "Total_Bil": 0.7
                        },
                        {
                          "Ferritin": 2165,
                          "Total_Bil": 19
                        },
                        {
                          "Ferritin": null,
                          "Total_Bil": 7.9
                        },
                        {
                          "Ferritin": null,
                          "Total_Bil": 1.4
                        },
                        {
                          "Ferritin": null,
                          "Total_Bil": 4.9
                        },
                        {
                          "Ferritin": 856,
                          "Total_Bil": 1.1
                        },
                        {
                          "Ferritin": 57,
                          "Total_Bil": 2.6
                        },
                        {
                          "Ferritin": 90,
                          "Total_Bil": 0.5
                        },
                        {
                          "Ferritin": 579,
                          "Total_Bil": 0.8
                        },
                        {
                          "Ferritin": 832,
                          "Total_Bil": 1.5
                        },
                        {
                          "Ferritin": null,
                          "Total_Bil": 2.4
                        },
                        {
                          "Ferritin": 307,
                          "Total_Bil": 2.8
                        },
                        {
                          "Ferritin": 308,
                          "Total_Bil": 0.7
                        },
                        {
                          "Ferritin": null,
                          "Total_Bil": 0.9
                        },
                        {
                          "Ferritin": null,
                          "Total_Bil": 0.6
                        },
                        {
                          "Ferritin": null,
                          "Total_Bil": 8.6
                        },
                        {
                          "Ferritin": null,
                          "Total_Bil": 1.3
                        },
                        {
                          "Ferritin": 149,
                          "Total_Bil": 0.8
                        },
                        {
                          "Ferritin": null,
                          "Total_Bil": 0.32
                        },
                        {
                          "Ferritin": null,
                          "Total_Bil": 0.6
                        },
                        {
                          "Ferritin": null,
                          "Total_Bil": 1.3
                        },
                        {
                          "Ferritin": 80,
                          "Total_Bil": 0.8
                        },
                        {
                          "Ferritin": 220,
                          "Total_Bil": 0.9
                        },
                        {
                          "Ferritin": null,
                          "Total_Bil": 0.5
                        },
                        {
                          "Ferritin": 206,
                          "Total_Bil": 0.5
                        },
                        {
                          "Ferritin": null,
                          "Total_Bil": 1
                        },
                        {
                          "Ferritin": null,
                          "Total_Bil": 1.4
                        },
                        {
                          "Ferritin": 344,
                          "Total_Bil": 3.7
                        },
                        {
                          "Ferritin": 642,
                          "Total_Bil": 1.5
                        },
                        {
                          "Ferritin": null,
                          "Total_Bil": 0.76
                        },
                        {
                          "Ferritin": 14,
                          "Total_Bil": 1.6
                        },
                        {
                          "Ferritin": null,
                          "Total_Bil": 2.6
                        },
                        {
                          "Ferritin": null,
                          "Total_Bil": 1.2
                        },
                        {
                          "Ferritin": null,
                          "Total_Bil": null
                        },
                        {
                          "Ferritin": null,
                          "Total_Bil": 0.7
                        },
                        {
                          "Ferritin": null,
                          "Total_Bil": 1
                        },
                        {
                          "Ferritin": null,
                          "Total_Bil": 1
                        },
                        {
                          "Ferritin": null,
                          "Total_Bil": 2.4
                        },
                        {
                          "Ferritin": null,
                          "Total_Bil": 3
                        },
                        {
                          "Ferritin": 1600,
                          "Total_Bil": 5.8
                        },
                        {
                          "Ferritin": 1176,
                          "Total_Bil": 1.2
                        },
                        {
                          "Ferritin": null,
                          "Total_Bil": 1.3
                        },
                        {
                          "Ferritin": null,
                          "Total_Bil": 0.3
                        },
                        {
                          "Ferritin": 283,
                          "Total_Bil": 1.9
                        },
                        {
                          "Ferritin": null,
                          "Total_Bil": 0.5
                        },
                        {
                          "Ferritin": null,
                          "Total_Bil": 3.6
                        },
                        {
                          "Ferritin": null,
                          "Total_Bil": 0.6
                        },
                        {
                          "Ferritin": null,
                          "Total_Bil": 1.1
                        },
                        {
                          "Ferritin": null,
                          "Total_Bil": 28.5
                        }
                      ]
                    },
                    "vislib": "vegalite"
                  },
                  {
                    "config": {
                      "view": {
                        "continuousWidth": 400,
                        "continuousHeight": 300
                      },
                      "axis": {
                        "labelColor": "#505050",
                        "labelFont": "Helvetica Neue",
                        "labelFontSize": 9,
                        "labelFontWeight": 400,
                        "titleFont": "Helvetica Neue",
                        "titleFontSize": 11,
                        "titleFontWeight": 500
                      },
                      "legend": {
                        "labelFont": "Helvetica Neue",
                        "labelFontSize": 9,
                        "labelFontWeight": 400,
                        "titleFont": "Helvetica Neue",
                        "titleFontSize": 10,
                        "titleFontWeight": 500
                      },
                      "mark": {
                        "tooltip": {
                          "content": "encoding"
                        }
                      },
                      "title": {
                        "font": "Helvetica Neue",
                        "fontSize": 13,
                        "fontWeight": 500
                      }
                    },
                    "data": {
                      "name": "data-dbdda999e895639bf51d080e1a159c20"
                    },
                    "mark": "circle",
                    "encoding": {
                      "x": {
                        "axis": {
                          "title": "MCV"
                        },
                        "field": "MCV",
                        "scale": {
                          "domain": [
                            69.5,
                            119.6
                          ]
                        },
                        "type": "quantitative"
                      },
                      "y": {
                        "axis": {
                          "title": "Total_Bil"
                        },
                        "field": "Total_Bil",
                        "scale": {
                          "domain": [
                            0.3,
                            40.5
                          ]
                        },
                        "type": "quantitative"
                      }
                    },
                    "height": 150,
                    "selection": {
                      "selector005": {
                        "type": "interval",
                        "bind": "scales",
                        "encodings": [
                          "x",
                          "y"
                        ]
                      }
                    },
                    "width": 160,
                    "$schema": "https://vega.github.io/schema/vega-lite/v4.17.0.json",
                    "datasets": {
                      "data-dbdda999e895639bf51d080e1a159c20": [
                        {
                          "MCV": 106.6,
                          "Total_Bil": 2.1
                        },
                        {
                          "MCV": 103.4,
                          "Total_Bil": null
                        },
                        {
                          "MCV": 79.8,
                          "Total_Bil": 0.4
                        },
                        {
                          "MCV": 97.1,
                          "Total_Bil": 0.4
                        },
                        {
                          "MCV": 95.1,
                          "Total_Bil": 0.7
                        },
                        {
                          "MCV": 91.5,
                          "Total_Bil": 3.5
                        },
                        {
                          "MCV": 102,
                          "Total_Bil": 2.72
                        },
                        {
                          "MCV": 92,
                          "Total_Bil": 3.2
                        },
                        {
                          "MCV": 107.5,
                          "Total_Bil": 3.3
                        },
                        {
                          "MCV": 87.8,
                          "Total_Bil": 0.5
                        },
                        {
                          "MCV": 94.2,
                          "Total_Bil": 3
                        },
                        {
                          "MCV": 96.7,
                          "Total_Bil": 1.3
                        },
                        {
                          "MCV": 90.1,
                          "Total_Bil": 8.5
                        },
                        {
                          "MCV": 93.8,
                          "Total_Bil": 1
                        },
                        {
                          "MCV": 93,
                          "Total_Bil": 10.5
                        },
                        {
                          "MCV": 89.6,
                          "Total_Bil": 3.1
                        },
                        {
                          "MCV": 99.2,
                          "Total_Bil": 9.8
                        },
                        {
                          "MCV": 103.7,
                          "Total_Bil": 0.5
                        },
                        {
                          "MCV": 94.8,
                          "Total_Bil": 0.9
                        },
                        {
                          "MCV": 103.4,
                          "Total_Bil": 3.4
                        },
                        {
                          "MCV": 101,
                          "Total_Bil": 1.7
                        },
                        {
                          "MCV": 90.7,
                          "Total_Bil": 1
                        },
                        {
                          "MCV": 86.5,
                          "Total_Bil": 1.2
                        },
                        {
                          "MCV": 88.1,
                          "Total_Bil": 3.8
                        },
                        {
                          "MCV": 111,
                          "Total_Bil": 1.3
                        },
                        {
                          "MCV": 94.3,
                          "Total_Bil": 1.6
                        },
                        {
                          "MCV": 98.4,
                          "Total_Bil": 1.3
                        },
                        {
                          "MCV": 88.2,
                          "Total_Bil": 3.2
                        },
                        {
                          "MCV": 89.5,
                          "Total_Bil": 1.1
                        },
                        {
                          "MCV": 83.4,
                          "Total_Bil": 1.8
                        },
                        {
                          "MCV": 87.9,
                          "Total_Bil": 0.7
                        },
                        {
                          "MCV": 94,
                          "Total_Bil": 1
                        },
                        {
                          "MCV": 96.1,
                          "Total_Bil": 0.6
                        },
                        {
                          "MCV": 97.7,
                          "Total_Bil": 0.5
                        },
                        {
                          "MCV": 99.6,
                          "Total_Bil": 1.7
                        },
                        {
                          "MCV": 98.5,
                          "Total_Bil": 0.77
                        },
                        {
                          "MCV": 109.3,
                          "Total_Bil": 7.8
                        },
                        {
                          "MCV": 96.5,
                          "Total_Bil": 1.1
                        },
                        {
                          "MCV": 105,
                          "Total_Bil": 1.3
                        },
                        {
                          "MCV": 82.2,
                          "Total_Bil": 1.4
                        },
                        {
                          "MCV": 88.3,
                          "Total_Bil": 0.8
                        },
                        {
                          "MCV": 92.7,
                          "Total_Bil": 0.7
                        },
                        {
                          "MCV": 85.5,
                          "Total_Bil": 1
                        },
                        {
                          "MCV": 104.1,
                          "Total_Bil": 2.5
                        },
                        {
                          "MCV": 98.1,
                          "Total_Bil": 2.2
                        },
                        {
                          "MCV": 93.8,
                          "Total_Bil": 0.9
                        },
                        {
                          "MCV": 102.2,
                          "Total_Bil": null
                        },
                        {
                          "MCV": 102.9,
                          "Total_Bil": 6.8
                        },
                        {
                          "MCV": 96.2,
                          "Total_Bil": 1
                        },
                        {
                          "MCV": 96.7,
                          "Total_Bil": 2.1
                        },
                        {
                          "MCV": 78.7,
                          "Total_Bil": 0.3
                        },
                        {
                          "MCV": 91.4,
                          "Total_Bil": 2.3
                        },
                        {
                          "MCV": 80.2,
                          "Total_Bil": 0.7
                        },
                        {
                          "MCV": 93.7,
                          "Total_Bil": 1.4
                        },
                        {
                          "MCV": 95.1,
                          "Total_Bil": 8.2
                        },
                        {
                          "MCV": 88,
                          "Total_Bil": 0.9
                        },
                        {
                          "MCV": 90.8,
                          "Total_Bil": 0.5
                        },
                        {
                          "MCV": 83,
                          "Total_Bil": 0.8
                        },
                        {
                          "MCV": 102,
                          "Total_Bil": 4.2
                        },
                        {
                          "MCV": 92.4,
                          "Total_Bil": 0.9
                        },
                        {
                          "MCV": 100,
                          "Total_Bil": 1.7
                        },
                        {
                          "MCV": 100.8,
                          "Total_Bil": 3.7
                        },
                        {
                          "MCV": 97.4,
                          "Total_Bil": 4.9
                        },
                        {
                          "MCV": 96.6,
                          "Total_Bil": 2.4
                        },
                        {
                          "MCV": 95.1,
                          "Total_Bil": 1.4
                        },
                        {
                          "MCV": 86,
                          "Total_Bil": 1.3
                        },
                        {
                          "MCV": 93,
                          "Total_Bil": 1.4
                        },
                        {
                          "MCV": 99.2,
                          "Total_Bil": 1.6
                        },
                        {
                          "MCV": 100.3,
                          "Total_Bil": 3.9
                        },
                        {
                          "MCV": 97.3,
                          "Total_Bil": 2.1
                        },
                        {
                          "MCV": 74,
                          "Total_Bil": 2.8
                        },
                        {
                          "MCV": 102.1,
                          "Total_Bil": 1.9
                        },
                        {
                          "MCV": 101.1,
                          "Total_Bil": 2.3
                        },
                        {
                          "MCV": 92,
                          "Total_Bil": 0.6
                        },
                        {
                          "MCV": 92.3,
                          "Total_Bil": 1
                        },
                        {
                          "MCV": 119,
                          "Total_Bil": 9.6
                        },
                        {
                          "MCV": 103.6,
                          "Total_Bil": 2.2
                        },
                        {
                          "MCV": 100.2,
                          "Total_Bil": 0.9
                        },
                        {
                          "MCV": 81.8,
                          "Total_Bil": 0.5
                        },
                        {
                          "MCV": 91.1,
                          "Total_Bil": 16
                        },
                        {
                          "MCV": 83.7,
                          "Total_Bil": 1.2
                        },
                        {
                          "MCV": 99,
                          "Total_Bil": 4.6
                        },
                        {
                          "MCV": 104.3,
                          "Total_Bil": 2.6
                        },
                        {
                          "MCV": 106,
                          "Total_Bil": 3.4
                        },
                        {
                          "MCV": 94.8,
                          "Total_Bil": 1.1
                        },
                        {
                          "MCV": 100.8,
                          "Total_Bil": 2.9
                        },
                        {
                          "MCV": 83.9,
                          "Total_Bil": null
                        },
                        {
                          "MCV": 97.9,
                          "Total_Bil": 0.5
                        },
                        {
                          "MCV": 70.6,
                          "Total_Bil": 2.1
                        },
                        {
                          "MCV": 90,
                          "Total_Bil": 1.5
                        },
                        {
                          "MCV": 89.5,
                          "Total_Bil": 4.3
                        },
                        {
                          "MCV": 95.1,
                          "Total_Bil": 1.3
                        },
                        {
                          "MCV": 95.6,
                          "Total_Bil": 1
                        },
                        {
                          "MCV": 90.6,
                          "Total_Bil": 1.9
                        },
                        {
                          "MCV": 97.6,
                          "Total_Bil": 0.8
                        },
                        {
                          "MCV": 85.8,
                          "Total_Bil": 0.6
                        },
                        {
                          "MCV": 90.9,
                          "Total_Bil": null
                        },
                        {
                          "MCV": 103.6,
                          "Total_Bil": 3.3
                        },
                        {
                          "MCV": 89.6,
                          "Total_Bil": 0.8
                        },
                        {
                          "MCV": 102.3,
                          "Total_Bil": 9.5
                        },
                        {
                          "MCV": 94.4,
                          "Total_Bil": 3.5
                        },
                        {
                          "MCV": 98,
                          "Total_Bil": 28.9
                        },
                        {
                          "MCV": 99.7,
                          "Total_Bil": 0.8
                        },
                        {
                          "MCV": 93.3,
                          "Total_Bil": 40.5
                        },
                        {
                          "MCV": 93.8,
                          "Total_Bil": 1
                        },
                        {
                          "MCV": 101.5,
                          "Total_Bil": 1.2
                        },
                        {
                          "MCV": 90.1,
                          "Total_Bil": 0.4
                        },
                        {
                          "MCV": 69.5,
                          "Total_Bil": 0.5
                        },
                        {
                          "MCV": 103.9,
                          "Total_Bil": 1.7
                        },
                        {
                          "MCV": 89.7,
                          "Total_Bil": 1.4
                        },
                        {
                          "MCV": 104.5,
                          "Total_Bil": 4.8
                        },
                        {
                          "MCV": 105.5,
                          "Total_Bil": 32.3
                        },
                        {
                          "MCV": 90.9,
                          "Total_Bil": 1.7
                        },
                        {
                          "MCV": 99.1,
                          "Total_Bil": 1.3
                        },
                        {
                          "MCV": 94.7,
                          "Total_Bil": 5.7
                        },
                        {
                          "MCV": 88.2,
                          "Total_Bil": 0.8
                        },
                        {
                          "MCV": 93.2,
                          "Total_Bil": 0.7
                        },
                        {
                          "MCV": 111.4,
                          "Total_Bil": 19
                        },
                        {
                          "MCV": 96.1,
                          "Total_Bil": 7.9
                        },
                        {
                          "MCV": 103.8,
                          "Total_Bil": 1.4
                        },
                        {
                          "MCV": 96.1,
                          "Total_Bil": 4.9
                        },
                        {
                          "MCV": 102.8,
                          "Total_Bil": 1.1
                        },
                        {
                          "MCV": 85.6,
                          "Total_Bil": 2.6
                        },
                        {
                          "MCV": 83.8,
                          "Total_Bil": 0.5
                        },
                        {
                          "MCV": 89.2,
                          "Total_Bil": 0.8
                        },
                        {
                          "MCV": 89.5,
                          "Total_Bil": 1.5
                        },
                        {
                          "MCV": 88.4,
                          "Total_Bil": 2.4
                        },
                        {
                          "MCV": 104.2,
                          "Total_Bil": 2.8
                        },
                        {
                          "MCV": 95.1,
                          "Total_Bil": 0.7
                        },
                        {
                          "MCV": 83.5,
                          "Total_Bil": 0.9
                        },
                        {
                          "MCV": 87.4,
                          "Total_Bil": 0.6
                        },
                        {
                          "MCV": 119.6,
                          "Total_Bil": 8.6
                        },
                        {
                          "MCV": 99.6,
                          "Total_Bil": 1.3
                        },
                        {
                          "MCV": 89.3,
                          "Total_Bil": 0.8
                        },
                        {
                          "MCV": 90.3,
                          "Total_Bil": 0.32
                        },
                        {
                          "MCV": 96.4,
                          "Total_Bil": 0.6
                        },
                        {
                          "MCV": 91.6,
                          "Total_Bil": 1.3
                        },
                        {
                          "MCV": 89.5,
                          "Total_Bil": 0.8
                        },
                        {
                          "MCV": 97.3,
                          "Total_Bil": 0.9
                        },
                        {
                          "MCV": 102.3,
                          "Total_Bil": 0.5
                        },
                        {
                          "MCV": 87.6,
                          "Total_Bil": 0.5
                        },
                        {
                          "MCV": 89.7,
                          "Total_Bil": 1
                        },
                        {
                          "MCV": 98.8,
                          "Total_Bil": 1.4
                        },
                        {
                          "MCV": 102.4,
                          "Total_Bil": 3.7
                        },
                        {
                          "MCV": 106.3,
                          "Total_Bil": 1.5
                        },
                        {
                          "MCV": 94,
                          "Total_Bil": 0.76
                        },
                        {
                          "MCV": 72.2,
                          "Total_Bil": 1.6
                        },
                        {
                          "MCV": 106.9,
                          "Total_Bil": 2.6
                        },
                        {
                          "MCV": 94.3,
                          "Total_Bil": 1.2
                        },
                        {
                          "MCV": 90.2,
                          "Total_Bil": null
                        },
                        {
                          "MCV": 92,
                          "Total_Bil": 0.7
                        },
                        {
                          "MCV": 104.9,
                          "Total_Bil": 1
                        },
                        {
                          "MCV": 93.9,
                          "Total_Bil": 1
                        },
                        {
                          "MCV": 91.6,
                          "Total_Bil": 2.4
                        },
                        {
                          "MCV": 99.7,
                          "Total_Bil": 3
                        },
                        {
                          "MCV": 101.6,
                          "Total_Bil": 5.8
                        },
                        {
                          "MCV": 103,
                          "Total_Bil": 1.2
                        },
                        {
                          "MCV": 97.2,
                          "Total_Bil": 1.3
                        },
                        {
                          "MCV": 94.2,
                          "Total_Bil": 0.3
                        },
                        {
                          "MCV": 111.2,
                          "Total_Bil": 1.9
                        },
                        {
                          "MCV": 109.2,
                          "Total_Bil": 0.5
                        },
                        {
                          "MCV": 88.9,
                          "Total_Bil": 3.6
                        },
                        {
                          "MCV": 90,
                          "Total_Bil": 0.6
                        },
                        {
                          "MCV": 117.3,
                          "Total_Bil": 1.1
                        },
                        {
                          "MCV": 95.8,
                          "Total_Bil": 28.5
                        }
                      ]
                    },
                    "vislib": "vegalite"
                  },
                  {
                    "config": {
                      "view": {
                        "continuousWidth": 400,
                        "continuousHeight": 300
                      },
                      "axis": {
                        "labelColor": "#505050",
                        "labelFont": "Helvetica Neue",
                        "labelFontSize": 9,
                        "labelFontWeight": 400,
                        "titleFont": "Helvetica Neue",
                        "titleFontSize": 11,
                        "titleFontWeight": 500
                      },
                      "legend": {
                        "labelFont": "Helvetica Neue",
                        "labelFontSize": 9,
                        "labelFontWeight": 400,
                        "titleFont": "Helvetica Neue",
                        "titleFontSize": 10,
                        "titleFontWeight": 500
                      },
                      "mark": {
                        "tooltip": {
                          "content": "encoding"
                        }
                      },
                      "title": {
                        "font": "Helvetica Neue",
                        "fontSize": 13,
                        "fontWeight": 500
                      }
                    },
                    "data": {
                      "name": "data-584ebf90506fa0f6553cf7dd1f6416c0"
                    },
                    "mark": "circle",
                    "encoding": {
                      "x": {
                        "axis": {
                          "title": "MCV"
                        },
                        "field": "MCV",
                        "scale": {
                          "domain": [
                            69.5,
                            119.6
                          ]
                        },
                        "type": "quantitative"
                      },
                      "y": {
                        "axis": {
                          "title": "Hemoglobin"
                        },
                        "field": "Hemoglobin",
                        "scale": {
                          "domain": [
                            5,
                            18.7
                          ]
                        },
                        "type": "quantitative"
                      }
                    },
                    "height": 150,
                    "selection": {
                      "selector006": {
                        "type": "interval",
                        "bind": "scales",
                        "encodings": [
                          "x",
                          "y"
                        ]
                      }
                    },
                    "width": 160,
                    "$schema": "https://vega.github.io/schema/vega-lite/v4.17.0.json",
                    "datasets": {
                      "data-584ebf90506fa0f6553cf7dd1f6416c0": [
                        {
                          "Hemoglobin": 13.7,
                          "MCV": 106.6
                        },
                        {
                          "Hemoglobin": null,
                          "MCV": 103.4
                        },
                        {
                          "Hemoglobin": 8.9,
                          "MCV": 79.8
                        },
                        {
                          "Hemoglobin": 13.4,
                          "MCV": 97.1
                        },
                        {
                          "Hemoglobin": 14.3,
                          "MCV": 95.1
                        },
                        {
                          "Hemoglobin": 13.4,
                          "MCV": 91.5
                        },
                        {
                          "Hemoglobin": 10.4,
                          "MCV": 102
                        },
                        {
                          "Hemoglobin": 10.8,
                          "MCV": 92
                        },
                        {
                          "Hemoglobin": 11.9,
                          "MCV": 107.5
                        },
                        {
                          "Hemoglobin": 11.8,
                          "MCV": 87.8
                        },
                        {
                          "Hemoglobin": 13,
                          "MCV": 94.2
                        },
                        {
                          "Hemoglobin": 15.7,
                          "MCV": 96.7
                        },
                        {
                          "Hemoglobin": 13.3,
                          "MCV": 90.1
                        },
                        {
                          "Hemoglobin": 13.7,
                          "MCV": 93.8
                        },
                        {
                          "Hemoglobin": 13.5,
                          "MCV": 93
                        },
                        {
                          "Hemoglobin": 10.2,
                          "MCV": 89.6
                        },
                        {
                          "Hemoglobin": 12.1,
                          "MCV": 99.2
                        },
                        {
                          "Hemoglobin": 10.3,
                          "MCV": 103.7
                        },
                        {
                          "Hemoglobin": 14.9,
                          "MCV": 94.8
                        },
                        {
                          "Hemoglobin": 15.9,
                          "MCV": 103.4
                        },
                        {
                          "Hemoglobin": 11.7,
                          "MCV": 101
                        },
                        {
                          "Hemoglobin": 16.4,
                          "MCV": 90.7
                        },
                        {
                          "Hemoglobin": 10.8,
                          "MCV": 86.5
                        },
                        {
                          "Hemoglobin": 10.7,
                          "MCV": 88.1
                        },
                        {
                          "Hemoglobin": 13.1,
                          "MCV": 111
                        },
                        {
                          "Hemoglobin": 13.7,
                          "MCV": 94.3
                        },
                        {
                          "Hemoglobin": 13.6,
                          "MCV": 98.4
                        },
                        {
                          "Hemoglobin": 15.5,
                          "MCV": 88.2
                        },
                        {
                          "Hemoglobin": 12.2,
                          "MCV": 89.5
                        },
                        {
                          "Hemoglobin": 9.9,
                          "MCV": 83.4
                        },
                        {
                          "Hemoglobin": 13.1,
                          "MCV": 87.9
                        },
                        {
                          "Hemoglobin": 12.2,
                          "MCV": 94
                        },
                        {
                          "Hemoglobin": 15.7,
                          "MCV": 96.1
                        },
                        {
                          "Hemoglobin": 13.7,
                          "MCV": 97.7
                        },
                        {
                          "Hemoglobin": 14.3,
                          "MCV": 99.6
                        },
                        {
                          "Hemoglobin": 14.8,
                          "MCV": 98.5
                        },
                        {
                          "Hemoglobin": 13.1,
                          "MCV": 109.3
                        },
                        {
                          "Hemoglobin": 13,
                          "MCV": 96.5
                        },
                        {
                          "Hemoglobin": 14.9,
                          "MCV": 105
                        },
                        {
                          "Hemoglobin": 11.3,
                          "MCV": 82.2
                        },
                        {
                          "Hemoglobin": 13.9,
                          "MCV": 88.3
                        },
                        {
                          "Hemoglobin": 15.7,
                          "MCV": 92.7
                        },
                        {
                          "Hemoglobin": 15,
                          "MCV": 85.5
                        },
                        {
                          "Hemoglobin": 15.1,
                          "MCV": 104.1
                        },
                        {
                          "Hemoglobin": 15.6,
                          "MCV": 98.1
                        },
                        {
                          "Hemoglobin": 16.6,
                          "MCV": 93.8
                        },
                        {
                          "Hemoglobin": null,
                          "MCV": 102.2
                        },
                        {
                          "Hemoglobin": 14,
                          "MCV": 102.9
                        },
                        {
                          "Hemoglobin": 10.6,
                          "MCV": 96.2
                        },
                        {
                          "Hemoglobin": 15,
                          "MCV": 96.7
                        },
                        {
                          "Hemoglobin": 10.5,
                          "MCV": 78.7
                        },
                        {
                          "Hemoglobin": 12.6,
                          "MCV": 91.4
                        },
                        {
                          "Hemoglobin": 11.8,
                          "MCV": 80.2
                        },
                        {
                          "Hemoglobin": 15.3,
                          "MCV": 93.7
                        },
                        {
                          "Hemoglobin": 12.4,
                          "MCV": 95.1
                        },
                        {
                          "Hemoglobin": 10.8,
                          "MCV": 88
                        },
                        {
                          "Hemoglobin": 7.3,
                          "MCV": 90.8
                        },
                        {
                          "Hemoglobin": 10.3,
                          "MCV": 83
                        },
                        {
                          "Hemoglobin": 10.9,
                          "MCV": 102
                        },
                        {
                          "Hemoglobin": 18.7,
                          "MCV": 92.4
                        },
                        {
                          "Hemoglobin": 12.6,
                          "MCV": 100
                        },
                        {
                          "Hemoglobin": 14.6,
                          "MCV": 100.8
                        },
                        {
                          "Hemoglobin": 11.5,
                          "MCV": 97.4
                        },
                        {
                          "Hemoglobin": 12.6,
                          "MCV": 96.6
                        },
                        {
                          "Hemoglobin": 12.1,
                          "MCV": 95.1
                        },
                        {
                          "Hemoglobin": 15.1,
                          "MCV": 86
                        },
                        {
                          "Hemoglobin": 15.6,
                          "MCV": 93
                        },
                        {
                          "Hemoglobin": 9.5,
                          "MCV": 99.2
                        },
                        {
                          "Hemoglobin": 12.7,
                          "MCV": 100.3
                        },
                        {
                          "Hemoglobin": 10.9,
                          "MCV": 97.3
                        },
                        {
                          "Hemoglobin": 12.7,
                          "MCV": 74
                        },
                        {
                          "Hemoglobin": 13,
                          "MCV": 102.1
                        },
                        {
                          "Hemoglobin": 14.4,
                          "MCV": 101.1
                        },
                        {
                          "Hemoglobin": 13,
                          "MCV": 92
                        },
                        {
                          "Hemoglobin": 14.9,
                          "MCV": 92.3
                        },
                        {
                          "Hemoglobin": 12.1,
                          "MCV": 119
                        },
                        {
                          "Hemoglobin": 9.1,
                          "MCV": 103.6
                        },
                        {
                          "Hemoglobin": 14.4,
                          "MCV": 100.2
                        },
                        {
                          "Hemoglobin": 9.8,
                          "MCV": 81.8
                        },
                        {
                          "Hemoglobin": 10.4,
                          "MCV": 91.1
                        },
                        {
                          "Hemoglobin": 12.6,
                          "MCV": 83.7
                        },
                        {
                          "Hemoglobin": 15.8,
                          "MCV": 99
                        },
                        {
                          "Hemoglobin": 14.8,
                          "MCV": 104.3
                        },
                        {
                          "Hemoglobin": 12.7,
                          "MCV": 106
                        },
                        {
                          "Hemoglobin": 16.4,
                          "MCV": 94.8
                        },
                        {
                          "Hemoglobin": 13.9,
                          "MCV": 100.8
                        },
                        {
                          "Hemoglobin": 12.6,
                          "MCV": 83.9
                        },
                        {
                          "Hemoglobin": 15.8,
                          "MCV": 97.9
                        },
                        {
                          "Hemoglobin": 11.7,
                          "MCV": 70.6
                        },
                        {
                          "Hemoglobin": 9.5,
                          "MCV": 90
                        },
                        {
                          "Hemoglobin": 10.1,
                          "MCV": 89.5
                        },
                        {
                          "Hemoglobin": 14.6,
                          "MCV": 95.1
                        },
                        {
                          "Hemoglobin": 11.5,
                          "MCV": 95.6
                        },
                        {
                          "Hemoglobin": 13.1,
                          "MCV": 90.6
                        },
                        {
                          "Hemoglobin": 12.6,
                          "MCV": 97.6
                        },
                        {
                          "Hemoglobin": 9.5,
                          "MCV": 85.8
                        },
                        {
                          "Hemoglobin": 9.1,
                          "MCV": 90.9
                        },
                        {
                          "Hemoglobin": 14.1,
                          "MCV": 103.6
                        },
                        {
                          "Hemoglobin": 13.1,
                          "MCV": 89.6
                        },
                        {
                          "Hemoglobin": 13,
                          "MCV": 102.3
                        },
                        {
                          "Hemoglobin": 12,
                          "MCV": 94.4
                        },
                        {
                          "Hemoglobin": 13.5,
                          "MCV": 98
                        },
                        {
                          "Hemoglobin": 13.9,
                          "MCV": 99.7
                        },
                        {
                          "Hemoglobin": 13.5,
                          "MCV": 93.3
                        },
                        {
                          "Hemoglobin": 12.6,
                          "MCV": 93.8
                        },
                        {
                          "Hemoglobin": 14.3,
                          "MCV": 101.5
                        },
                        {
                          "Hemoglobin": 14,
                          "MCV": 90.1
                        },
                        {
                          "Hemoglobin": 5,
                          "MCV": 69.5
                        },
                        {
                          "Hemoglobin": 11.3,
                          "MCV": 103.9
                        },
                        {
                          "Hemoglobin": 12.1,
                          "MCV": 89.7
                        },
                        {
                          "Hemoglobin": 14.9,
                          "MCV": 104.5
                        },
                        {
                          "Hemoglobin": 11.1,
                          "MCV": 105.5
                        },
                        {
                          "Hemoglobin": 15.3,
                          "MCV": 90.9
                        },
                        {
                          "Hemoglobin": 16.2,
                          "MCV": 99.1
                        },
                        {
                          "Hemoglobin": 10.3,
                          "MCV": 94.7
                        },
                        {
                          "Hemoglobin": 14,
                          "MCV": 88.2
                        },
                        {
                          "Hemoglobin": 13.8,
                          "MCV": 93.2
                        },
                        {
                          "Hemoglobin": 12,
                          "MCV": 111.4
                        },
                        {
                          "Hemoglobin": 14.6,
                          "MCV": 96.1
                        },
                        {
                          "Hemoglobin": 14.9,
                          "MCV": 103.8
                        },
                        {
                          "Hemoglobin": 10.2,
                          "MCV": 96.1
                        },
                        {
                          "Hemoglobin": 10.8,
                          "MCV": 102.8
                        },
                        {
                          "Hemoglobin": 9.8,
                          "MCV": 85.6
                        },
                        {
                          "Hemoglobin": 15.1,
                          "MCV": 83.8
                        },
                        {
                          "Hemoglobin": 11.8,
                          "MCV": 89.2
                        },
                        {
                          "Hemoglobin": 14.3,
                          "MCV": 89.5
                        },
                        {
                          "Hemoglobin": 15.6,
                          "MCV": 88.4
                        },
                        {
                          "Hemoglobin": 12.3,
                          "MCV": 104.2
                        },
                        {
                          "Hemoglobin": 12.6,
                          "MCV": 95.1
                        },
                        {
                          "Hemoglobin": 11.6,
                          "MCV": 83.5
                        },
                        {
                          "Hemoglobin": 14.9,
                          "MCV": 87.4
                        },
                        {
                          "Hemoglobin": 11.3,
                          "MCV": 119.6
                        },
                        {
                          "Hemoglobin": 10.9,
                          "MCV": 99.6
                        },
                        {
                          "Hemoglobin": 11.4,
                          "MCV": 89.3
                        },
                        {
                          "Hemoglobin": 14.2,
                          "MCV": 90.3
                        },
                        {
                          "Hemoglobin": 13.3,
                          "MCV": 96.4
                        },
                        {
                          "Hemoglobin": 15.4,
                          "MCV": 91.6
                        },
                        {
                          "Hemoglobin": 13.2,
                          "MCV": 89.5
                        },
                        {
                          "Hemoglobin": 13.6,
                          "MCV": 97.3
                        },
                        {
                          "Hemoglobin": 14.7,
                          "MCV": 102.3
                        },
                        {
                          "Hemoglobin": 12.2,
                          "MCV": 87.6
                        },
                        {
                          "Hemoglobin": 13.3,
                          "MCV": 89.7
                        },
                        {
                          "Hemoglobin": 16,
                          "MCV": 98.8
                        },
                        {
                          "Hemoglobin": 11.2,
                          "MCV": 102.4
                        },
                        {
                          "Hemoglobin": 14.9,
                          "MCV": 106.3
                        },
                        {
                          "Hemoglobin": 9.2,
                          "MCV": 94
                        },
                        {
                          "Hemoglobin": 14.3,
                          "MCV": 72.2
                        },
                        {
                          "Hemoglobin": 11.1,
                          "MCV": 106.9
                        },
                        {
                          "Hemoglobin": 13.3,
                          "MCV": 94.3
                        },
                        {
                          "Hemoglobin": null,
                          "MCV": 90.2
                        },
                        {
                          "Hemoglobin": 16.1,
                          "MCV": 92
                        },
                        {
                          "Hemoglobin": 13.5,
                          "MCV": 104.9
                        },
                        {
                          "Hemoglobin": 11.1,
                          "MCV": 93.9
                        },
                        {
                          "Hemoglobin": 9.7,
                          "MCV": 91.6
                        },
                        {
                          "Hemoglobin": 11.7,
                          "MCV": 99.7
                        },
                        {
                          "Hemoglobin": 12.8,
                          "MCV": 101.6
                        },
                        {
                          "Hemoglobin": 15.3,
                          "MCV": 103
                        },
                        {
                          "Hemoglobin": 14.7,
                          "MCV": 97.2
                        },
                        {
                          "Hemoglobin": 8.2,
                          "MCV": 94.2
                        },
                        {
                          "Hemoglobin": 7.9,
                          "MCV": 111.2
                        },
                        {
                          "Hemoglobin": 15.4,
                          "MCV": 109.2
                        },
                        {
                          "Hemoglobin": 12.1,
                          "MCV": 88.9
                        },
                        {
                          "Hemoglobin": 13.3,
                          "MCV": 90
                        },
                        {
                          "Hemoglobin": 15.6,
                          "MCV": 117.3
                        },
                        {
                          "Hemoglobin": 12.7,
                          "MCV": 95.8
                        }
                      ]
                    },
                    "vislib": "vegalite"
                  },
                  {
                    "config": {
                      "view": {
                        "continuousWidth": 400,
                        "continuousHeight": 300
                      },
                      "axis": {
                        "labelColor": "#505050",
                        "labelFont": "Helvetica Neue",
                        "labelFontSize": 9,
                        "labelFontWeight": 400,
                        "titleFont": "Helvetica Neue",
                        "titleFontSize": 11,
                        "titleFontWeight": 500
                      },
                      "legend": {
                        "labelFont": "Helvetica Neue",
                        "labelFontSize": 9,
                        "labelFontWeight": 400,
                        "titleFont": "Helvetica Neue",
                        "titleFontSize": 10,
                        "titleFontWeight": 500
                      },
                      "mark": {
                        "tooltip": {
                          "content": "encoding"
                        }
                      },
                      "title": {
                        "font": "Helvetica Neue",
                        "fontSize": 13,
                        "fontWeight": 500
                      }
                    },
                    "data": {
                      "name": "data-6fde1bcc82656ca5c65d55ea3bd8ff8e"
                    },
                    "mark": "circle",
                    "encoding": {
                      "x": {
                        "axis": {
                          "title": "MCV"
                        },
                        "field": "MCV",
                        "scale": {
                          "domain": [
                            69.5,
                            119.6
                          ]
                        },
                        "type": "quantitative"
                      },
                      "y": {
                        "axis": {
                          "title": "Dir_Bil"
                        },
                        "field": "Dir_Bil",
                        "scale": {
                          "domain": [
                            0.1,
                            29.3
                          ]
                        },
                        "type": "quantitative"
                      }
                    },
                    "height": 150,
                    "selection": {
                      "selector007": {
                        "type": "interval",
                        "bind": "scales",
                        "encodings": [
                          "x",
                          "y"
                        ]
                      }
                    },
                    "width": 160,
                    "$schema": "https://vega.github.io/schema/vega-lite/v4.17.0.json",
                    "datasets": {
                      "data-6fde1bcc82656ca5c65d55ea3bd8ff8e": [
                        {
                          "MCV": 106.6,
                          "Dir_Bil": 0.5
                        },
                        {
                          "MCV": 103.4,
                          "Dir_Bil": null
                        },
                        {
                          "MCV": 79.8,
                          "Dir_Bil": 0.1
                        },
                        {
                          "MCV": 97.1,
                          "Dir_Bil": 0.2
                        },
                        {
                          "MCV": 95.1,
                          "Dir_Bil": null
                        },
                        {
                          "MCV": 91.5,
                          "Dir_Bil": 1.4
                        },
                        {
                          "MCV": 102,
                          "Dir_Bil": 2.19
                        },
                        {
                          "MCV": 92,
                          "Dir_Bil": 1.3
                        },
                        {
                          "MCV": 107.5,
                          "Dir_Bil": 1.2
                        },
                        {
                          "MCV": 87.8,
                          "Dir_Bil": 0.7
                        },
                        {
                          "MCV": 94.2,
                          "Dir_Bil": 1.1
                        },
                        {
                          "MCV": 96.7,
                          "Dir_Bil": 0.3
                        },
                        {
                          "MCV": 90.1,
                          "Dir_Bil": 0.8
                        },
                        {
                          "MCV": 93.8,
                          "Dir_Bil": null
                        },
                        {
                          "MCV": 93,
                          "Dir_Bil": 4.5
                        },
                        {
                          "MCV": 89.6,
                          "Dir_Bil": 1.3
                        },
                        {
                          "MCV": 99.2,
                          "Dir_Bil": 2.9
                        },
                        {
                          "MCV": 103.7,
                          "Dir_Bil": 3.8
                        },
                        {
                          "MCV": 94.8,
                          "Dir_Bil": 0.9
                        },
                        {
                          "MCV": 103.4,
                          "Dir_Bil": 1.6
                        },
                        {
                          "MCV": 101,
                          "Dir_Bil": 0.7
                        },
                        {
                          "MCV": 90.7,
                          "Dir_Bil": 0.2
                        },
                        {
                          "MCV": 86.5,
                          "Dir_Bil": 0.5
                        },
                        {
                          "MCV": 88.1,
                          "Dir_Bil": 1.6
                        },
                        {
                          "MCV": 111,
                          "Dir_Bil": 0.7
                        },
                        {
                          "MCV": 94.3,
                          "Dir_Bil": 0.7
                        },
                        {
                          "MCV": 98.4,
                          "Dir_Bil": 0.7
                        },
                        {
                          "MCV": 88.2,
                          "Dir_Bil": 1
                        },
                        {
                          "MCV": 89.5,
                          "Dir_Bil": 0.4
                        },
                        {
                          "MCV": 83.4,
                          "Dir_Bil": 1.1
                        },
                        {
                          "MCV": 87.9,
                          "Dir_Bil": null
                        },
                        {
                          "MCV": 94,
                          "Dir_Bil": null
                        },
                        {
                          "MCV": 96.1,
                          "Dir_Bil": null
                        },
                        {
                          "MCV": 97.7,
                          "Dir_Bil": null
                        },
                        {
                          "MCV": 99.6,
                          "Dir_Bil": 0.77
                        },
                        {
                          "MCV": 98.5,
                          "Dir_Bil": 0.37
                        },
                        {
                          "MCV": 109.3,
                          "Dir_Bil": 3.3
                        },
                        {
                          "MCV": 96.5,
                          "Dir_Bil": 0.2
                        },
                        {
                          "MCV": 105,
                          "Dir_Bil": 0.3
                        },
                        {
                          "MCV": 82.2,
                          "Dir_Bil": 0.6
                        },
                        {
                          "MCV": 88.3,
                          "Dir_Bil": 0.3
                        },
                        {
                          "MCV": 92.7,
                          "Dir_Bil": 0.3
                        },
                        {
                          "MCV": 85.5,
                          "Dir_Bil": 0.3
                        },
                        {
                          "MCV": 104.1,
                          "Dir_Bil": 0.2
                        },
                        {
                          "MCV": 98.1,
                          "Dir_Bil": 0.5
                        },
                        {
                          "MCV": 93.8,
                          "Dir_Bil": null
                        },
                        {
                          "MCV": 102.2,
                          "Dir_Bil": null
                        },
                        {
                          "MCV": 102.9,
                          "Dir_Bil": 4.1
                        },
                        {
                          "MCV": 96.2,
                          "Dir_Bil": null
                        },
                        {
                          "MCV": 96.7,
                          "Dir_Bil": 0.4
                        },
                        {
                          "MCV": 78.7,
                          "Dir_Bil": 0.3
                        },
                        {
                          "MCV": 91.4,
                          "Dir_Bil": 0.8
                        },
                        {
                          "MCV": 80.2,
                          "Dir_Bil": null
                        },
                        {
                          "MCV": 93.7,
                          "Dir_Bil": 0.3
                        },
                        {
                          "MCV": 95.1,
                          "Dir_Bil": 5.5
                        },
                        {
                          "MCV": 88,
                          "Dir_Bil": null
                        },
                        {
                          "MCV": 90.8,
                          "Dir_Bil": null
                        },
                        {
                          "MCV": 83,
                          "Dir_Bil": 0.85
                        },
                        {
                          "MCV": 102,
                          "Dir_Bil": 1.9
                        },
                        {
                          "MCV": 92.4,
                          "Dir_Bil": null
                        },
                        {
                          "MCV": 100,
                          "Dir_Bil": 0.5
                        },
                        {
                          "MCV": 100.8,
                          "Dir_Bil": 1.9
                        },
                        {
                          "MCV": 97.4,
                          "Dir_Bil": 2.2
                        },
                        {
                          "MCV": 96.6,
                          "Dir_Bil": 0.5
                        },
                        {
                          "MCV": 95.1,
                          "Dir_Bil": 0.5
                        },
                        {
                          "MCV": 86,
                          "Dir_Bil": 0.2
                        },
                        {
                          "MCV": 93,
                          "Dir_Bil": 0.3
                        },
                        {
                          "MCV": 99.2,
                          "Dir_Bil": 0.2
                        },
                        {
                          "MCV": 100.3,
                          "Dir_Bil": 1.2
                        },
                        {
                          "MCV": 97.3,
                          "Dir_Bil": 1.3
                        },
                        {
                          "MCV": 74,
                          "Dir_Bil": 0.8
                        },
                        {
                          "MCV": 102.1,
                          "Dir_Bil": 1.1
                        },
                        {
                          "MCV": 101.1,
                          "Dir_Bil": 0.8
                        },
                        {
                          "MCV": 92,
                          "Dir_Bil": null
                        },
                        {
                          "MCV": 92.3,
                          "Dir_Bil": 0.3
                        },
                        {
                          "MCV": 119,
                          "Dir_Bil": 4.6
                        },
                        {
                          "MCV": 103.6,
                          "Dir_Bil": 1.2
                        },
                        {
                          "MCV": 100.2,
                          "Dir_Bil": null
                        },
                        {
                          "MCV": 81.8,
                          "Dir_Bil": 0.5
                        },
                        {
                          "MCV": 91.1,
                          "Dir_Bil": 9.6
                        },
                        {
                          "MCV": 83.7,
                          "Dir_Bil": 0.5
                        },
                        {
                          "MCV": 99,
                          "Dir_Bil": 1.7
                        },
                        {
                          "MCV": 104.3,
                          "Dir_Bil": 1.4
                        },
                        {
                          "MCV": 106,
                          "Dir_Bil": 1.4
                        },
                        {
                          "MCV": 94.8,
                          "Dir_Bil": 0.3
                        },
                        {
                          "MCV": 100.8,
                          "Dir_Bil": 0.7
                        },
                        {
                          "MCV": 83.9,
                          "Dir_Bil": null
                        },
                        {
                          "MCV": 97.9,
                          "Dir_Bil": null
                        },
                        {
                          "MCV": 70.6,
                          "Dir_Bil": 0.9
                        },
                        {
                          "MCV": 90,
                          "Dir_Bil": 1
                        },
                        {
                          "MCV": 89.5,
                          "Dir_Bil": 1
                        },
                        {
                          "MCV": 95.1,
                          "Dir_Bil": 0.3
                        },
                        {
                          "MCV": 95.6,
                          "Dir_Bil": 0.2
                        },
                        {
                          "MCV": 90.6,
                          "Dir_Bil": 0.6
                        },
                        {
                          "MCV": 97.6,
                          "Dir_Bil": null
                        },
                        {
                          "MCV": 85.8,
                          "Dir_Bil": null
                        },
                        {
                          "MCV": 90.9,
                          "Dir_Bil": null
                        },
                        {
                          "MCV": 103.6,
                          "Dir_Bil": 1.1
                        },
                        {
                          "MCV": 89.6,
                          "Dir_Bil": null
                        },
                        {
                          "MCV": 102.3,
                          "Dir_Bil": 5.5
                        },
                        {
                          "MCV": 94.4,
                          "Dir_Bil": 1.5
                        },
                        {
                          "MCV": 98,
                          "Dir_Bil": 19.5
                        },
                        {
                          "MCV": 99.7,
                          "Dir_Bil": null
                        },
                        {
                          "MCV": 93.3,
                          "Dir_Bil": 29.3
                        },
                        {
                          "MCV": 93.8,
                          "Dir_Bil": null
                        },
                        {
                          "MCV": 101.5,
                          "Dir_Bil": 0.3
                        },
                        {
                          "MCV": 90.1,
                          "Dir_Bil": null
                        },
                        {
                          "MCV": 69.5,
                          "Dir_Bil": null
                        },
                        {
                          "MCV": 103.9,
                          "Dir_Bil": 0.5
                        },
                        {
                          "MCV": 89.7,
                          "Dir_Bil": 0.7
                        },
                        {
                          "MCV": 104.5,
                          "Dir_Bil": 1.8
                        },
                        {
                          "MCV": 105.5,
                          "Dir_Bil": 22.1
                        },
                        {
                          "MCV": 90.9,
                          "Dir_Bil": 0.3
                        },
                        {
                          "MCV": 99.1,
                          "Dir_Bil": 0.3
                        },
                        {
                          "MCV": 94.7,
                          "Dir_Bil": 1.9
                        },
                        {
                          "MCV": 88.2,
                          "Dir_Bil": 0.3
                        },
                        {
                          "MCV": 93.2,
                          "Dir_Bil": null
                        },
                        {
                          "MCV": 111.4,
                          "Dir_Bil": 9.7
                        },
                        {
                          "MCV": 96.1,
                          "Dir_Bil": null
                        },
                        {
                          "MCV": 103.8,
                          "Dir_Bil": 1
                        },
                        {
                          "MCV": 96.1,
                          "Dir_Bil": 2.8
                        },
                        {
                          "MCV": 102.8,
                          "Dir_Bil": 0.4
                        },
                        {
                          "MCV": 85.6,
                          "Dir_Bil": 1.5
                        },
                        {
                          "MCV": 83.8,
                          "Dir_Bil": null
                        },
                        {
                          "MCV": 89.2,
                          "Dir_Bil": null
                        },
                        {
                          "MCV": 89.5,
                          "Dir_Bil": 0.5
                        },
                        {
                          "MCV": 88.4,
                          "Dir_Bil": 0.7
                        },
                        {
                          "MCV": 104.2,
                          "Dir_Bil": 1
                        },
                        {
                          "MCV": 95.1,
                          "Dir_Bil": null
                        },
                        {
                          "MCV": 83.5,
                          "Dir_Bil": null
                        },
                        {
                          "MCV": 87.4,
                          "Dir_Bil": 0.3
                        },
                        {
                          "MCV": 119.6,
                          "Dir_Bil": 3.8
                        },
                        {
                          "MCV": 99.6,
                          "Dir_Bil": 0.7
                        },
                        {
                          "MCV": 89.3,
                          "Dir_Bil": null
                        },
                        {
                          "MCV": 90.3,
                          "Dir_Bil": 0.12
                        },
                        {
                          "MCV": 96.4,
                          "Dir_Bil": null
                        },
                        {
                          "MCV": 91.6,
                          "Dir_Bil": 0.6
                        },
                        {
                          "MCV": 89.5,
                          "Dir_Bil": null
                        },
                        {
                          "MCV": 97.3,
                          "Dir_Bil": null
                        },
                        {
                          "MCV": 102.3,
                          "Dir_Bil": 0.4
                        },
                        {
                          "MCV": 87.6,
                          "Dir_Bil": null
                        },
                        {
                          "MCV": 89.7,
                          "Dir_Bil": null
                        },
                        {
                          "MCV": 98.8,
                          "Dir_Bil": 0.3
                        },
                        {
                          "MCV": 102.4,
                          "Dir_Bil": 1.1
                        },
                        {
                          "MCV": 106.3,
                          "Dir_Bil": 0.4
                        },
                        {
                          "MCV": 94,
                          "Dir_Bil": 0.33
                        },
                        {
                          "MCV": 72.2,
                          "Dir_Bil": 0.6
                        },
                        {
                          "MCV": 106.9,
                          "Dir_Bil": 1
                        },
                        {
                          "MCV": 94.3,
                          "Dir_Bil": 0.3
                        },
                        {
                          "MCV": 90.2,
                          "Dir_Bil": null
                        },
                        {
                          "MCV": 92,
                          "Dir_Bil": 0.2
                        },
                        {
                          "MCV": 104.9,
                          "Dir_Bil": 0.4
                        },
                        {
                          "MCV": 93.9,
                          "Dir_Bil": null
                        },
                        {
                          "MCV": 91.6,
                          "Dir_Bil": 1.3
                        },
                        {
                          "MCV": 99.7,
                          "Dir_Bil": 1
                        },
                        {
                          "MCV": 101.6,
                          "Dir_Bil": 2.9
                        },
                        {
                          "MCV": 103,
                          "Dir_Bil": 0.6
                        },
                        {
                          "MCV": 97.2,
                          "Dir_Bil": 0.3
                        },
                        {
                          "MCV": 94.2,
                          "Dir_Bil": null
                        },
                        {
                          "MCV": 111.2,
                          "Dir_Bil": 0.7
                        },
                        {
                          "MCV": 109.2,
                          "Dir_Bil": null
                        },
                        {
                          "MCV": 88.9,
                          "Dir_Bil": 2.3
                        },
                        {
                          "MCV": 90,
                          "Dir_Bil": null
                        },
                        {
                          "MCV": 117.3,
                          "Dir_Bil": null
                        },
                        {
                          "MCV": 95.8,
                          "Dir_Bil": 19.8
                        }
                      ]
                    },
                    "vislib": "vegalite"
                  },
                  {
                    "config": {
                      "view": {
                        "continuousWidth": 400,
                        "continuousHeight": 300
                      },
                      "axis": {
                        "labelColor": "#505050",
                        "labelFont": "Helvetica Neue",
                        "labelFontSize": 9,
                        "labelFontWeight": 400,
                        "titleFont": "Helvetica Neue",
                        "titleFontSize": 11,
                        "titleFontWeight": 500
                      },
                      "legend": {
                        "labelFont": "Helvetica Neue",
                        "labelFontSize": 9,
                        "labelFontWeight": 400,
                        "titleFont": "Helvetica Neue",
                        "titleFontSize": 10,
                        "titleFontWeight": 500
                      },
                      "mark": {
                        "tooltip": {
                          "content": "encoding"
                        }
                      },
                      "title": {
                        "font": "Helvetica Neue",
                        "fontSize": 13,
                        "fontWeight": 500
                      }
                    },
                    "data": {
                      "name": "data-544477f0b508e92e7e29758686b51779"
                    },
                    "mark": "circle",
                    "encoding": {
                      "x": {
                        "axis": {
                          "title": "Dir_Bil"
                        },
                        "field": "Dir_Bil",
                        "scale": {
                          "domain": [
                            0.1,
                            29.3
                          ]
                        },
                        "type": "quantitative"
                      },
                      "y": {
                        "axis": {
                          "title": "Age"
                        },
                        "field": "Age",
                        "scale": {
                          "domain": [
                            20,
                            93
                          ]
                        },
                        "type": "quantitative"
                      }
                    },
                    "height": 150,
                    "selection": {
                      "selector008": {
                        "type": "interval",
                        "bind": "scales",
                        "encodings": [
                          "x",
                          "y"
                        ]
                      }
                    },
                    "width": 160,
                    "$schema": "https://vega.github.io/schema/vega-lite/v4.17.0.json",
                    "datasets": {
                      "data-544477f0b508e92e7e29758686b51779": [
                        {
                          "Age": 67,
                          "Dir_Bil": 0.5
                        },
                        {
                          "Age": 62,
                          "Dir_Bil": null
                        },
                        {
                          "Age": 78,
                          "Dir_Bil": 0.1
                        },
                        {
                          "Age": 77,
                          "Dir_Bil": 0.2
                        },
                        {
                          "Age": 76,
                          "Dir_Bil": null
                        },
                        {
                          "Age": 75,
                          "Dir_Bil": 1.4
                        },
                        {
                          "Age": 49,
                          "Dir_Bil": 2.19
                        },
                        {
                          "Age": 61,
                          "Dir_Bil": 1.3
                        },
                        {
                          "Age": 50,
                          "Dir_Bil": 1.2
                        },
                        {
                          "Age": 43,
                          "Dir_Bil": 0.7
                        },
                        {
                          "Age": 41,
                          "Dir_Bil": 1.1
                        },
                        {
                          "Age": 74,
                          "Dir_Bil": 0.3
                        },
                        {
                          "Age": 66,
                          "Dir_Bil": 0.8
                        },
                        {
                          "Age": 56,
                          "Dir_Bil": null
                        },
                        {
                          "Age": 63,
                          "Dir_Bil": 4.5
                        },
                        {
                          "Age": 41,
                          "Dir_Bil": 1.3
                        },
                        {
                          "Age": 72,
                          "Dir_Bil": 2.9
                        },
                        {
                          "Age": 60,
                          "Dir_Bil": 3.8
                        },
                        {
                          "Age": 64,
                          "Dir_Bil": 0.9
                        },
                        {
                          "Age": 75,
                          "Dir_Bil": 1.6
                        },
                        {
                          "Age": 71,
                          "Dir_Bil": 0.7
                        },
                        {
                          "Age": 73,
                          "Dir_Bil": 0.2
                        },
                        {
                          "Age": 66,
                          "Dir_Bil": 0.5
                        },
                        {
                          "Age": 64,
                          "Dir_Bil": 1.6
                        },
                        {
                          "Age": 84,
                          "Dir_Bil": 0.7
                        },
                        {
                          "Age": 80,
                          "Dir_Bil": 0.7
                        },
                        {
                          "Age": 45,
                          "Dir_Bil": 0.7
                        },
                        {
                          "Age": 57,
                          "Dir_Bil": 1
                        },
                        {
                          "Age": 61,
                          "Dir_Bil": 0.4
                        },
                        {
                          "Age": 20,
                          "Dir_Bil": 1.1
                        },
                        {
                          "Age": 60,
                          "Dir_Bil": null
                        },
                        {
                          "Age": 62,
                          "Dir_Bil": null
                        },
                        {
                          "Age": 67,
                          "Dir_Bil": null
                        },
                        {
                          "Age": 77,
                          "Dir_Bil": null
                        },
                        {
                          "Age": 62,
                          "Dir_Bil": 0.77
                        },
                        {
                          "Age": 76,
                          "Dir_Bil": 0.37
                        },
                        {
                          "Age": 73,
                          "Dir_Bil": 3.3
                        },
                        {
                          "Age": 84,
                          "Dir_Bil": 0.2
                        },
                        {
                          "Age": 70,
                          "Dir_Bil": 0.3
                        },
                        {
                          "Age": 59,
                          "Dir_Bil": 0.6
                        },
                        {
                          "Age": 71,
                          "Dir_Bil": 0.3
                        },
                        {
                          "Age": 66,
                          "Dir_Bil": 0.3
                        },
                        {
                          "Age": 86,
                          "Dir_Bil": 0.3
                        },
                        {
                          "Age": 71,
                          "Dir_Bil": 0.2
                        },
                        {
                          "Age": 52,
                          "Dir_Bil": 0.5
                        },
                        {
                          "Age": 60,
                          "Dir_Bil": null
                        },
                        {
                          "Age": 45,
                          "Dir_Bil": null
                        },
                        {
                          "Age": 66,
                          "Dir_Bil": 4.1
                        },
                        {
                          "Age": 80,
                          "Dir_Bil": null
                        },
                        {
                          "Age": 58,
                          "Dir_Bil": 0.4
                        },
                        {
                          "Age": 27,
                          "Dir_Bil": 0.3
                        },
                        {
                          "Age": 73,
                          "Dir_Bil": 0.8
                        },
                        {
                          "Age": 73,
                          "Dir_Bil": null
                        },
                        {
                          "Age": 50,
                          "Dir_Bil": 0.3
                        },
                        {
                          "Age": 51,
                          "Dir_Bil": 5.5
                        },
                        {
                          "Age": 78,
                          "Dir_Bil": null
                        },
                        {
                          "Age": 81,
                          "Dir_Bil": null
                        },
                        {
                          "Age": 65,
                          "Dir_Bil": 0.85
                        },
                        {
                          "Age": 72,
                          "Dir_Bil": 1.9
                        },
                        {
                          "Age": 82,
                          "Dir_Bil": null
                        },
                        {
                          "Age": 76,
                          "Dir_Bil": 0.5
                        },
                        {
                          "Age": 56,
                          "Dir_Bil": 1.9
                        },
                        {
                          "Age": 68,
                          "Dir_Bil": 2.2
                        },
                        {
                          "Age": 72,
                          "Dir_Bil": 0.5
                        },
                        {
                          "Age": 66,
                          "Dir_Bil": 0.5
                        },
                        {
                          "Age": 40,
                          "Dir_Bil": 0.2
                        },
                        {
                          "Age": 68,
                          "Dir_Bil": 0.3
                        },
                        {
                          "Age": 63,
                          "Dir_Bil": 0.2
                        },
                        {
                          "Age": 72,
                          "Dir_Bil": 1.2
                        },
                        {
                          "Age": 88,
                          "Dir_Bil": 1.3
                        },
                        {
                          "Age": 23,
                          "Dir_Bil": 0.8
                        },
                        {
                          "Age": 59,
                          "Dir_Bil": 1.1
                        },
                        {
                          "Age": 82,
                          "Dir_Bil": 0.8
                        },
                        {
                          "Age": 67,
                          "Dir_Bil": null
                        },
                        {
                          "Age": 61,
                          "Dir_Bil": 0.3
                        },
                        {
                          "Age": 61,
                          "Dir_Bil": 4.6
                        },
                        {
                          "Age": 67,
                          "Dir_Bil": 1.2
                        },
                        {
                          "Age": 78,
                          "Dir_Bil": null
                        },
                        {
                          "Age": 52,
                          "Dir_Bil": 0.5
                        },
                        {
                          "Age": 51,
                          "Dir_Bil": 9.6
                        },
                        {
                          "Age": 74,
                          "Dir_Bil": 0.5
                        },
                        {
                          "Age": 56,
                          "Dir_Bil": 1.7
                        },
                        {
                          "Age": 64,
                          "Dir_Bil": 1.4
                        },
                        {
                          "Age": 83,
                          "Dir_Bil": 1.4
                        },
                        {
                          "Age": 57,
                          "Dir_Bil": 0.3
                        },
                        {
                          "Age": 58,
                          "Dir_Bil": 0.7
                        },
                        {
                          "Age": 71,
                          "Dir_Bil": null
                        },
                        {
                          "Age": 52,
                          "Dir_Bil": null
                        },
                        {
                          "Age": 74,
                          "Dir_Bil": 0.9
                        },
                        {
                          "Age": 61,
                          "Dir_Bil": 1
                        },
                        {
                          "Age": 69,
                          "Dir_Bil": 1
                        },
                        {
                          "Age": 65,
                          "Dir_Bil": 0.3
                        },
                        {
                          "Age": 79,
                          "Dir_Bil": 0.2
                        },
                        {
                          "Age": 69,
                          "Dir_Bil": 0.6
                        },
                        {
                          "Age": 87,
                          "Dir_Bil": null
                        },
                        {
                          "Age": 78,
                          "Dir_Bil": null
                        },
                        {
                          "Age": 71,
                          "Dir_Bil": null
                        },
                        {
                          "Age": 58,
                          "Dir_Bil": 1.1
                        },
                        {
                          "Age": 73,
                          "Dir_Bil": null
                        },
                        {
                          "Age": 73,
                          "Dir_Bil": 5.5
                        },
                        {
                          "Age": 93,
                          "Dir_Bil": 1.5
                        },
                        {
                          "Age": 52,
                          "Dir_Bil": 19.5
                        },
                        {
                          "Age": 64,
                          "Dir_Bil": null
                        },
                        {
                          "Age": 63,
                          "Dir_Bil": 29.3
                        },
                        {
                          "Age": 64,
                          "Dir_Bil": null
                        },
                        {
                          "Age": 67,
                          "Dir_Bil": 0.3
                        },
                        {
                          "Age": 50,
                          "Dir_Bil": null
                        },
                        {
                          "Age": 79,
                          "Dir_Bil": null
                        },
                        {
                          "Age": 85,
                          "Dir_Bil": 0.5
                        },
                        {
                          "Age": 62,
                          "Dir_Bil": 0.7
                        },
                        {
                          "Age": 74,
                          "Dir_Bil": 1.8
                        },
                        {
                          "Age": 56,
                          "Dir_Bil": 22.1
                        },
                        {
                          "Age": 74,
                          "Dir_Bil": 0.3
                        },
                        {
                          "Age": 62,
                          "Dir_Bil": 0.3
                        },
                        {
                          "Age": 60,
                          "Dir_Bil": 1.9
                        },
                        {
                          "Age": 55,
                          "Dir_Bil": 0.3
                        },
                        {
                          "Age": 57,
                          "Dir_Bil": null
                        },
                        {
                          "Age": 63,
                          "Dir_Bil": 9.7
                        },
                        {
                          "Age": 63,
                          "Dir_Bil": null
                        },
                        {
                          "Age": 79,
                          "Dir_Bil": 1
                        },
                        {
                          "Age": 63,
                          "Dir_Bil": 2.8
                        },
                        {
                          "Age": 59,
                          "Dir_Bil": 0.4
                        },
                        {
                          "Age": 51,
                          "Dir_Bil": 1.5
                        },
                        {
                          "Age": 74,
                          "Dir_Bil": null
                        },
                        {
                          "Age": 62,
                          "Dir_Bil": null
                        },
                        {
                          "Age": 76,
                          "Dir_Bil": 0.5
                        },
                        {
                          "Age": 73,
                          "Dir_Bil": 0.7
                        },
                        {
                          "Age": 76,
                          "Dir_Bil": 1
                        },
                        {
                          "Age": 72,
                          "Dir_Bil": null
                        },
                        {
                          "Age": 77,
                          "Dir_Bil": null
                        },
                        {
                          "Age": 75,
                          "Dir_Bil": 0.3
                        },
                        {
                          "Age": 55,
                          "Dir_Bil": 3.8
                        },
                        {
                          "Age": 72,
                          "Dir_Bil": 0.7
                        },
                        {
                          "Age": 82,
                          "Dir_Bil": null
                        },
                        {
                          "Age": 46,
                          "Dir_Bil": 0.12
                        },
                        {
                          "Age": 71,
                          "Dir_Bil": null
                        },
                        {
                          "Age": 56,
                          "Dir_Bil": 0.6
                        },
                        {
                          "Age": 78,
                          "Dir_Bil": null
                        },
                        {
                          "Age": 55,
                          "Dir_Bil": null
                        },
                        {
                          "Age": 76,
                          "Dir_Bil": 0.4
                        },
                        {
                          "Age": 43,
                          "Dir_Bil": null
                        },
                        {
                          "Age": 71,
                          "Dir_Bil": null
                        },
                        {
                          "Age": 67,
                          "Dir_Bil": 0.3
                        },
                        {
                          "Age": 67,
                          "Dir_Bil": 1.1
                        },
                        {
                          "Age": 51,
                          "Dir_Bil": 0.4
                        },
                        {
                          "Age": 80,
                          "Dir_Bil": 0.33
                        },
                        {
                          "Age": 79,
                          "Dir_Bil": 0.6
                        },
                        {
                          "Age": 75,
                          "Dir_Bil": 1
                        },
                        {
                          "Age": 81,
                          "Dir_Bil": 0.3
                        },
                        {
                          "Age": 25,
                          "Dir_Bil": null
                        },
                        {
                          "Age": 36,
                          "Dir_Bil": 0.2
                        },
                        {
                          "Age": 69,
                          "Dir_Bil": 0.4
                        },
                        {
                          "Age": 47,
                          "Dir_Bil": null
                        },
                        {
                          "Age": 87,
                          "Dir_Bil": 1.3
                        },
                        {
                          "Age": 36,
                          "Dir_Bil": 1
                        },
                        {
                          "Age": 64,
                          "Dir_Bil": 2.9
                        },
                        {
                          "Age": 49,
                          "Dir_Bil": 0.6
                        },
                        {
                          "Age": 62,
                          "Dir_Bil": 0.3
                        },
                        {
                          "Age": 71,
                          "Dir_Bil": null
                        },
                        {
                          "Age": 64,
                          "Dir_Bil": 0.7
                        },
                        {
                          "Age": 40,
                          "Dir_Bil": null
                        },
                        {
                          "Age": 68,
                          "Dir_Bil": 2.3
                        },
                        {
                          "Age": 65,
                          "Dir_Bil": null
                        },
                        {
                          "Age": 44,
                          "Dir_Bil": null
                        },
                        {
                          "Age": 52,
                          "Dir_Bil": 19.8
                        }
                      ]
                    },
                    "vislib": "vegalite"
                  },
                  {
                    "config": {
                      "view": {
                        "continuousWidth": 400,
                        "continuousHeight": 300
                      },
                      "axis": {
                        "labelColor": "#505050",
                        "labelFont": "Helvetica Neue",
                        "labelFontSize": 9,
                        "labelFontWeight": 400,
                        "titleFont": "Helvetica Neue",
                        "titleFontSize": 11,
                        "titleFontWeight": 500
                      },
                      "legend": {
                        "labelFont": "Helvetica Neue",
                        "labelFontSize": 9,
                        "labelFontWeight": 400,
                        "titleFont": "Helvetica Neue",
                        "titleFontSize": 10,
                        "titleFontWeight": 500
                      },
                      "mark": {
                        "tooltip": {
                          "content": "encoding"
                        }
                      },
                      "title": {
                        "font": "Helvetica Neue",
                        "fontSize": 13,
                        "fontWeight": 500
                      }
                    },
                    "data": {
                      "name": "data-290998ad3660524869f124c87d332659"
                    },
                    "mark": "circle",
                    "encoding": {
                      "x": {
                        "axis": {
                          "title": "Ferritin"
                        },
                        "field": "Ferritin",
                        "scale": {
                          "domain": [
                            0,
                            2230
                          ]
                        },
                        "type": "quantitative"
                      },
                      "y": {
                        "axis": {
                          "title": "Age"
                        },
                        "field": "Age",
                        "scale": {
                          "domain": [
                            20,
                            93
                          ]
                        },
                        "type": "quantitative"
                      }
                    },
                    "height": 150,
                    "selection": {
                      "selector009": {
                        "type": "interval",
                        "bind": "scales",
                        "encodings": [
                          "x",
                          "y"
                        ]
                      }
                    },
                    "width": 160,
                    "$schema": "https://vega.github.io/schema/vega-lite/v4.17.0.json",
                    "datasets": {
                      "data-290998ad3660524869f124c87d332659": [
                        {
                          "Age": 67,
                          "Ferritin": null
                        },
                        {
                          "Age": 62,
                          "Ferritin": null
                        },
                        {
                          "Age": 78,
                          "Ferritin": 16
                        },
                        {
                          "Age": 77,
                          "Ferritin": null
                        },
                        {
                          "Age": 76,
                          "Ferritin": 22
                        },
                        {
                          "Age": 75,
                          "Ferritin": 111
                        },
                        {
                          "Age": 49,
                          "Ferritin": 1452
                        },
                        {
                          "Age": 61,
                          "Ferritin": 706
                        },
                        {
                          "Age": 50,
                          "Ferritin": 982
                        },
                        {
                          "Age": 43,
                          "Ferritin": null
                        },
                        {
                          "Age": 41,
                          "Ferritin": null
                        },
                        {
                          "Age": 74,
                          "Ferritin": 277
                        },
                        {
                          "Age": 66,
                          "Ferritin": null
                        },
                        {
                          "Age": 56,
                          "Ferritin": null
                        },
                        {
                          "Age": 63,
                          "Ferritin": 302
                        },
                        {
                          "Age": 41,
                          "Ferritin": 60
                        },
                        {
                          "Age": 72,
                          "Ferritin": 767
                        },
                        {
                          "Age": 60,
                          "Ferritin": 443
                        },
                        {
                          "Age": 64,
                          "Ferritin": 295
                        },
                        {
                          "Age": 75,
                          "Ferritin": 774
                        },
                        {
                          "Age": 71,
                          "Ferritin": 76.9
                        },
                        {
                          "Age": 73,
                          "Ferritin": 84
                        },
                        {
                          "Age": 66,
                          "Ferritin": 1001
                        },
                        {
                          "Age": 64,
                          "Ferritin": null
                        },
                        {
                          "Age": 84,
                          "Ferritin": null
                        },
                        {
                          "Age": 80,
                          "Ferritin": 79
                        },
                        {
                          "Age": 45,
                          "Ferritin": null
                        },
                        {
                          "Age": 57,
                          "Ferritin": null
                        },
                        {
                          "Age": 61,
                          "Ferritin": 70
                        },
                        {
                          "Age": 20,
                          "Ferritin": 369
                        },
                        {
                          "Age": 60,
                          "Ferritin": null
                        },
                        {
                          "Age": 62,
                          "Ferritin": 239
                        },
                        {
                          "Age": 67,
                          "Ferritin": null
                        },
                        {
                          "Age": 77,
                          "Ferritin": null
                        },
                        {
                          "Age": 62,
                          "Ferritin": null
                        },
                        {
                          "Age": 76,
                          "Ferritin": null
                        },
                        {
                          "Age": 73,
                          "Ferritin": 870
                        },
                        {
                          "Age": 84,
                          "Ferritin": 134
                        },
                        {
                          "Age": 70,
                          "Ferritin": null
                        },
                        {
                          "Age": 59,
                          "Ferritin": null
                        },
                        {
                          "Age": 71,
                          "Ferritin": 120
                        },
                        {
                          "Age": 66,
                          "Ferritin": null
                        },
                        {
                          "Age": 86,
                          "Ferritin": 279
                        },
                        {
                          "Age": 71,
                          "Ferritin": null
                        },
                        {
                          "Age": 52,
                          "Ferritin": null
                        },
                        {
                          "Age": 60,
                          "Ferritin": null
                        },
                        {
                          "Age": 45,
                          "Ferritin": null
                        },
                        {
                          "Age": 66,
                          "Ferritin": 888
                        },
                        {
                          "Age": 80,
                          "Ferritin": 802
                        },
                        {
                          "Age": 58,
                          "Ferritin": 905
                        },
                        {
                          "Age": 27,
                          "Ferritin": null
                        },
                        {
                          "Age": 73,
                          "Ferritin": 497
                        },
                        {
                          "Age": 73,
                          "Ferritin": 635
                        },
                        {
                          "Age": 50,
                          "Ferritin": 59
                        },
                        {
                          "Age": 51,
                          "Ferritin": 742
                        },
                        {
                          "Age": 78,
                          "Ferritin": null
                        },
                        {
                          "Age": 81,
                          "Ferritin": 48
                        },
                        {
                          "Age": 65,
                          "Ferritin": 18
                        },
                        {
                          "Age": 72,
                          "Ferritin": 176
                        },
                        {
                          "Age": 82,
                          "Ferritin": null
                        },
                        {
                          "Age": 76,
                          "Ferritin": null
                        },
                        {
                          "Age": 56,
                          "Ferritin": 363
                        },
                        {
                          "Age": 68,
                          "Ferritin": null
                        },
                        {
                          "Age": 72,
                          "Ferritin": null
                        },
                        {
                          "Age": 66,
                          "Ferritin": 0
                        },
                        {
                          "Age": 40,
                          "Ferritin": null
                        },
                        {
                          "Age": 68,
                          "Ferritin": 393
                        },
                        {
                          "Age": 63,
                          "Ferritin": 48
                        },
                        {
                          "Age": 72,
                          "Ferritin": 419
                        },
                        {
                          "Age": 88,
                          "Ferritin": 639
                        },
                        {
                          "Age": 23,
                          "Ferritin": 20
                        },
                        {
                          "Age": 59,
                          "Ferritin": null
                        },
                        {
                          "Age": 82,
                          "Ferritin": 227
                        },
                        {
                          "Age": 67,
                          "Ferritin": null
                        },
                        {
                          "Age": 61,
                          "Ferritin": 255
                        },
                        {
                          "Age": 61,
                          "Ferritin": 960
                        },
                        {
                          "Age": 67,
                          "Ferritin": 355
                        },
                        {
                          "Age": 78,
                          "Ferritin": null
                        },
                        {
                          "Age": 52,
                          "Ferritin": 141
                        },
                        {
                          "Age": 51,
                          "Ferritin": null
                        },
                        {
                          "Age": 74,
                          "Ferritin": null
                        },
                        {
                          "Age": 56,
                          "Ferritin": 316
                        },
                        {
                          "Age": 64,
                          "Ferritin": 859
                        },
                        {
                          "Age": 83,
                          "Ferritin": 221
                        },
                        {
                          "Age": 57,
                          "Ferritin": null
                        },
                        {
                          "Age": 58,
                          "Ferritin": 108
                        },
                        {
                          "Age": 71,
                          "Ferritin": null
                        },
                        {
                          "Age": 52,
                          "Ferritin": 30
                        },
                        {
                          "Age": 74,
                          "Ferritin": 28
                        },
                        {
                          "Age": 61,
                          "Ferritin": null
                        },
                        {
                          "Age": 69,
                          "Ferritin": 173
                        },
                        {
                          "Age": 65,
                          "Ferritin": 423
                        },
                        {
                          "Age": 79,
                          "Ferritin": null
                        },
                        {
                          "Age": 69,
                          "Ferritin": null
                        },
                        {
                          "Age": 87,
                          "Ferritin": 278
                        },
                        {
                          "Age": 78,
                          "Ferritin": 810
                        },
                        {
                          "Age": 71,
                          "Ferritin": null
                        },
                        {
                          "Age": 58,
                          "Ferritin": null
                        },
                        {
                          "Age": 73,
                          "Ferritin": 29
                        },
                        {
                          "Age": 73,
                          "Ferritin": null
                        },
                        {
                          "Age": 93,
                          "Ferritin": 256
                        },
                        {
                          "Age": 52,
                          "Ferritin": 749
                        },
                        {
                          "Age": 64,
                          "Ferritin": 489
                        },
                        {
                          "Age": 63,
                          "Ferritin": null
                        },
                        {
                          "Age": 64,
                          "Ferritin": 81
                        },
                        {
                          "Age": 67,
                          "Ferritin": 48.9
                        },
                        {
                          "Age": 50,
                          "Ferritin": 2230
                        },
                        {
                          "Age": 79,
                          "Ferritin": 490
                        },
                        {
                          "Age": 85,
                          "Ferritin": 1316
                        },
                        {
                          "Age": 62,
                          "Ferritin": null
                        },
                        {
                          "Age": 74,
                          "Ferritin": 297
                        },
                        {
                          "Age": 56,
                          "Ferritin": null
                        },
                        {
                          "Age": 74,
                          "Ferritin": null
                        },
                        {
                          "Age": 62,
                          "Ferritin": null
                        },
                        {
                          "Age": 60,
                          "Ferritin": 56
                        },
                        {
                          "Age": 55,
                          "Ferritin": null
                        },
                        {
                          "Age": 57,
                          "Ferritin": null
                        },
                        {
                          "Age": 63,
                          "Ferritin": 2165
                        },
                        {
                          "Age": 63,
                          "Ferritin": null
                        },
                        {
                          "Age": 79,
                          "Ferritin": null
                        },
                        {
                          "Age": 63,
                          "Ferritin": null
                        },
                        {
                          "Age": 59,
                          "Ferritin": 856
                        },
                        {
                          "Age": 51,
                          "Ferritin": 57
                        },
                        {
                          "Age": 74,
                          "Ferritin": 90
                        },
                        {
                          "Age": 62,
                          "Ferritin": 579
                        },
                        {
                          "Age": 76,
                          "Ferritin": 832
                        },
                        {
                          "Age": 73,
                          "Ferritin": null
                        },
                        {
                          "Age": 76,
                          "Ferritin": 307
                        },
                        {
                          "Age": 72,
                          "Ferritin": 308
                        },
                        {
                          "Age": 77,
                          "Ferritin": null
                        },
                        {
                          "Age": 75,
                          "Ferritin": null
                        },
                        {
                          "Age": 55,
                          "Ferritin": null
                        },
                        {
                          "Age": 72,
                          "Ferritin": null
                        },
                        {
                          "Age": 82,
                          "Ferritin": 149
                        },
                        {
                          "Age": 46,
                          "Ferritin": null
                        },
                        {
                          "Age": 71,
                          "Ferritin": null
                        },
                        {
                          "Age": 56,
                          "Ferritin": null
                        },
                        {
                          "Age": 78,
                          "Ferritin": 80
                        },
                        {
                          "Age": 55,
                          "Ferritin": 220
                        },
                        {
                          "Age": 76,
                          "Ferritin": null
                        },
                        {
                          "Age": 43,
                          "Ferritin": 206
                        },
                        {
                          "Age": 71,
                          "Ferritin": null
                        },
                        {
                          "Age": 67,
                          "Ferritin": null
                        },
                        {
                          "Age": 67,
                          "Ferritin": 344
                        },
                        {
                          "Age": 51,
                          "Ferritin": 642
                        },
                        {
                          "Age": 80,
                          "Ferritin": null
                        },
                        {
                          "Age": 79,
                          "Ferritin": 14
                        },
                        {
                          "Age": 75,
                          "Ferritin": null
                        },
                        {
                          "Age": 81,
                          "Ferritin": null
                        },
                        {
                          "Age": 25,
                          "Ferritin": null
                        },
                        {
                          "Age": 36,
                          "Ferritin": null
                        },
                        {
                          "Age": 69,
                          "Ferritin": null
                        },
                        {
                          "Age": 47,
                          "Ferritin": null
                        },
                        {
                          "Age": 87,
                          "Ferritin": null
                        },
                        {
                          "Age": 36,
                          "Ferritin": null
                        },
                        {
                          "Age": 64,
                          "Ferritin": 1600
                        },
                        {
                          "Age": 49,
                          "Ferritin": 1176
                        },
                        {
                          "Age": 62,
                          "Ferritin": null
                        },
                        {
                          "Age": 71,
                          "Ferritin": null
                        },
                        {
                          "Age": 64,
                          "Ferritin": 283
                        },
                        {
                          "Age": 40,
                          "Ferritin": null
                        },
                        {
                          "Age": 68,
                          "Ferritin": null
                        },
                        {
                          "Age": 65,
                          "Ferritin": null
                        },
                        {
                          "Age": 44,
                          "Ferritin": null
                        },
                        {
                          "Age": 52,
                          "Ferritin": null
                        }
                      ]
                    },
                    "vislib": "vegalite"
                  },
                  {
                    "config": {
                      "view": {
                        "continuousWidth": 400,
                        "continuousHeight": 300
                      },
                      "axis": {
                        "labelColor": "#505050",
                        "labelFont": "Helvetica Neue",
                        "labelFontSize": 9,
                        "labelFontWeight": 400,
                        "titleFont": "Helvetica Neue",
                        "titleFontSize": 11,
                        "titleFontWeight": 500
                      },
                      "legend": {
                        "labelFont": "Helvetica Neue",
                        "labelFontSize": 9,
                        "labelFontWeight": 400,
                        "titleFont": "Helvetica Neue",
                        "titleFontSize": 10,
                        "titleFontWeight": 500
                      },
                      "mark": {
                        "tooltip": {
                          "content": "encoding"
                        }
                      },
                      "title": {
                        "font": "Helvetica Neue",
                        "fontSize": 13,
                        "fontWeight": 500
                      }
                    },
                    "data": {
                      "name": "data-f6dcfacbd3410e65b9df74edeaa4738c"
                    },
                    "mark": "circle",
                    "encoding": {
                      "x": {
                        "axis": {
                          "title": "Total_Bil"
                        },
                        "field": "Total_Bil",
                        "scale": {
                          "domain": [
                            0.3,
                            40.5
                          ]
                        },
                        "type": "quantitative"
                      },
                      "y": {
                        "axis": {
                          "title": "Age"
                        },
                        "field": "Age",
                        "scale": {
                          "domain": [
                            20,
                            93
                          ]
                        },
                        "type": "quantitative"
                      }
                    },
                    "height": 150,
                    "selection": {
                      "selector010": {
                        "type": "interval",
                        "bind": "scales",
                        "encodings": [
                          "x",
                          "y"
                        ]
                      }
                    },
                    "width": 160,
                    "$schema": "https://vega.github.io/schema/vega-lite/v4.17.0.json",
                    "datasets": {
                      "data-f6dcfacbd3410e65b9df74edeaa4738c": [
                        {
                          "Age": 67,
                          "Total_Bil": 2.1
                        },
                        {
                          "Age": 62,
                          "Total_Bil": null
                        },
                        {
                          "Age": 78,
                          "Total_Bil": 0.4
                        },
                        {
                          "Age": 77,
                          "Total_Bil": 0.4
                        },
                        {
                          "Age": 76,
                          "Total_Bil": 0.7
                        },
                        {
                          "Age": 75,
                          "Total_Bil": 3.5
                        },
                        {
                          "Age": 49,
                          "Total_Bil": 2.72
                        },
                        {
                          "Age": 61,
                          "Total_Bil": 3.2
                        },
                        {
                          "Age": 50,
                          "Total_Bil": 3.3
                        },
                        {
                          "Age": 43,
                          "Total_Bil": 0.5
                        },
                        {
                          "Age": 41,
                          "Total_Bil": 3
                        },
                        {
                          "Age": 74,
                          "Total_Bil": 1.3
                        },
                        {
                          "Age": 66,
                          "Total_Bil": 8.5
                        },
                        {
                          "Age": 56,
                          "Total_Bil": 1
                        },
                        {
                          "Age": 63,
                          "Total_Bil": 10.5
                        },
                        {
                          "Age": 41,
                          "Total_Bil": 3.1
                        },
                        {
                          "Age": 72,
                          "Total_Bil": 9.8
                        },
                        {
                          "Age": 60,
                          "Total_Bil": 0.5
                        },
                        {
                          "Age": 64,
                          "Total_Bil": 0.9
                        },
                        {
                          "Age": 75,
                          "Total_Bil": 3.4
                        },
                        {
                          "Age": 71,
                          "Total_Bil": 1.7
                        },
                        {
                          "Age": 73,
                          "Total_Bil": 1
                        },
                        {
                          "Age": 66,
                          "Total_Bil": 1.2
                        },
                        {
                          "Age": 64,
                          "Total_Bil": 3.8
                        },
                        {
                          "Age": 84,
                          "Total_Bil": 1.3
                        },
                        {
                          "Age": 80,
                          "Total_Bil": 1.6
                        },
                        {
                          "Age": 45,
                          "Total_Bil": 1.3
                        },
                        {
                          "Age": 57,
                          "Total_Bil": 3.2
                        },
                        {
                          "Age": 61,
                          "Total_Bil": 1.1
                        },
                        {
                          "Age": 20,
                          "Total_Bil": 1.8
                        },
                        {
                          "Age": 60,
                          "Total_Bil": 0.7
                        },
                        {
                          "Age": 62,
                          "Total_Bil": 1
                        },
                        {
                          "Age": 67,
                          "Total_Bil": 0.6
                        },
                        {
                          "Age": 77,
                          "Total_Bil": 0.5
                        },
                        {
                          "Age": 62,
                          "Total_Bil": 1.7
                        },
                        {
                          "Age": 76,
                          "Total_Bil": 0.77
                        },
                        {
                          "Age": 73,
                          "Total_Bil": 7.8
                        },
                        {
                          "Age": 84,
                          "Total_Bil": 1.1
                        },
                        {
                          "Age": 70,
                          "Total_Bil": 1.3
                        },
                        {
                          "Age": 59,
                          "Total_Bil": 1.4
                        },
                        {
                          "Age": 71,
                          "Total_Bil": 0.8
                        },
                        {
                          "Age": 66,
                          "Total_Bil": 0.7
                        },
                        {
                          "Age": 86,
                          "Total_Bil": 1
                        },
                        {
                          "Age": 71,
                          "Total_Bil": 2.5
                        },
                        {
                          "Age": 52,
                          "Total_Bil": 2.2
                        },
                        {
                          "Age": 60,
                          "Total_Bil": 0.9
                        },
                        {
                          "Age": 45,
                          "Total_Bil": null
                        },
                        {
                          "Age": 66,
                          "Total_Bil": 6.8
                        },
                        {
                          "Age": 80,
                          "Total_Bil": 1
                        },
                        {
                          "Age": 58,
                          "Total_Bil": 2.1
                        },
                        {
                          "Age": 27,
                          "Total_Bil": 0.3
                        },
                        {
                          "Age": 73,
                          "Total_Bil": 2.3
                        },
                        {
                          "Age": 73,
                          "Total_Bil": 0.7
                        },
                        {
                          "Age": 50,
                          "Total_Bil": 1.4
                        },
                        {
                          "Age": 51,
                          "Total_Bil": 8.2
                        },
                        {
                          "Age": 78,
                          "Total_Bil": 0.9
                        },
                        {
                          "Age": 81,
                          "Total_Bil": 0.5
                        },
                        {
                          "Age": 65,
                          "Total_Bil": 0.8
                        },
                        {
                          "Age": 72,
                          "Total_Bil": 4.2
                        },
                        {
                          "Age": 82,
                          "Total_Bil": 0.9
                        },
                        {
                          "Age": 76,
                          "Total_Bil": 1.7
                        },
                        {
                          "Age": 56,
                          "Total_Bil": 3.7
                        },
                        {
                          "Age": 68,
                          "Total_Bil": 4.9
                        },
                        {
                          "Age": 72,
                          "Total_Bil": 2.4
                        },
                        {
                          "Age": 66,
                          "Total_Bil": 1.4
                        },
                        {
                          "Age": 40,
                          "Total_Bil": 1.3
                        },
                        {
                          "Age": 68,
                          "Total_Bil": 1.4
                        },
                        {
                          "Age": 63,
                          "Total_Bil": 1.6
                        },
                        {
                          "Age": 72,
                          "Total_Bil": 3.9
                        },
                        {
                          "Age": 88,
                          "Total_Bil": 2.1
                        },
                        {
                          "Age": 23,
                          "Total_Bil": 2.8
                        },
                        {
                          "Age": 59,
                          "Total_Bil": 1.9
                        },
                        {
                          "Age": 82,
                          "Total_Bil": 2.3
                        },
                        {
                          "Age": 67,
                          "Total_Bil": 0.6
                        },
                        {
                          "Age": 61,
                          "Total_Bil": 1
                        },
                        {
                          "Age": 61,
                          "Total_Bil": 9.6
                        },
                        {
                          "Age": 67,
                          "Total_Bil": 2.2
                        },
                        {
                          "Age": 78,
                          "Total_Bil": 0.9
                        },
                        {
                          "Age": 52,
                          "Total_Bil": 0.5
                        },
                        {
                          "Age": 51,
                          "Total_Bil": 16
                        },
                        {
                          "Age": 74,
                          "Total_Bil": 1.2
                        },
                        {
                          "Age": 56,
                          "Total_Bil": 4.6
                        },
                        {
                          "Age": 64,
                          "Total_Bil": 2.6
                        },
                        {
                          "Age": 83,
                          "Total_Bil": 3.4
                        },
                        {
                          "Age": 57,
                          "Total_Bil": 1.1
                        },
                        {
                          "Age": 58,
                          "Total_Bil": 2.9
                        },
                        {
                          "Age": 71,
                          "Total_Bil": null
                        },
                        {
                          "Age": 52,
                          "Total_Bil": 0.5
                        },
                        {
                          "Age": 74,
                          "Total_Bil": 2.1
                        },
                        {
                          "Age": 61,
                          "Total_Bil": 1.5
                        },
                        {
                          "Age": 69,
                          "Total_Bil": 4.3
                        },
                        {
                          "Age": 65,
                          "Total_Bil": 1.3
                        },
                        {
                          "Age": 79,
                          "Total_Bil": 1
                        },
                        {
                          "Age": 69,
                          "Total_Bil": 1.9
                        },
                        {
                          "Age": 87,
                          "Total_Bil": 0.8
                        },
                        {
                          "Age": 78,
                          "Total_Bil": 0.6
                        },
                        {
                          "Age": 71,
                          "Total_Bil": null
                        },
                        {
                          "Age": 58,
                          "Total_Bil": 3.3
                        },
                        {
                          "Age": 73,
                          "Total_Bil": 0.8
                        },
                        {
                          "Age": 73,
                          "Total_Bil": 9.5
                        },
                        {
                          "Age": 93,
                          "Total_Bil": 3.5
                        },
                        {
                          "Age": 52,
                          "Total_Bil": 28.9
                        },
                        {
                          "Age": 64,
                          "Total_Bil": 0.8
                        },
                        {
                          "Age": 63,
                          "Total_Bil": 40.5
                        },
                        {
                          "Age": 64,
                          "Total_Bil": 1
                        },
                        {
                          "Age": 67,
                          "Total_Bil": 1.2
                        },
                        {
                          "Age": 50,
                          "Total_Bil": 0.4
                        },
                        {
                          "Age": 79,
                          "Total_Bil": 0.5
                        },
                        {
                          "Age": 85,
                          "Total_Bil": 1.7
                        },
                        {
                          "Age": 62,
                          "Total_Bil": 1.4
                        },
                        {
                          "Age": 74,
                          "Total_Bil": 4.8
                        },
                        {
                          "Age": 56,
                          "Total_Bil": 32.3
                        },
                        {
                          "Age": 74,
                          "Total_Bil": 1.7
                        },
                        {
                          "Age": 62,
                          "Total_Bil": 1.3
                        },
                        {
                          "Age": 60,
                          "Total_Bil": 5.7
                        },
                        {
                          "Age": 55,
                          "Total_Bil": 0.8
                        },
                        {
                          "Age": 57,
                          "Total_Bil": 0.7
                        },
                        {
                          "Age": 63,
                          "Total_Bil": 19
                        },
                        {
                          "Age": 63,
                          "Total_Bil": 7.9
                        },
                        {
                          "Age": 79,
                          "Total_Bil": 1.4
                        },
                        {
                          "Age": 63,
                          "Total_Bil": 4.9
                        },
                        {
                          "Age": 59,
                          "Total_Bil": 1.1
                        },
                        {
                          "Age": 51,
                          "Total_Bil": 2.6
                        },
                        {
                          "Age": 74,
                          "Total_Bil": 0.5
                        },
                        {
                          "Age": 62,
                          "Total_Bil": 0.8
                        },
                        {
                          "Age": 76,
                          "Total_Bil": 1.5
                        },
                        {
                          "Age": 73,
                          "Total_Bil": 2.4
                        },
                        {
                          "Age": 76,
                          "Total_Bil": 2.8
                        },
                        {
                          "Age": 72,
                          "Total_Bil": 0.7
                        },
                        {
                          "Age": 77,
                          "Total_Bil": 0.9
                        },
                        {
                          "Age": 75,
                          "Total_Bil": 0.6
                        },
                        {
                          "Age": 55,
                          "Total_Bil": 8.6
                        },
                        {
                          "Age": 72,
                          "Total_Bil": 1.3
                        },
                        {
                          "Age": 82,
                          "Total_Bil": 0.8
                        },
                        {
                          "Age": 46,
                          "Total_Bil": 0.32
                        },
                        {
                          "Age": 71,
                          "Total_Bil": 0.6
                        },
                        {
                          "Age": 56,
                          "Total_Bil": 1.3
                        },
                        {
                          "Age": 78,
                          "Total_Bil": 0.8
                        },
                        {
                          "Age": 55,
                          "Total_Bil": 0.9
                        },
                        {
                          "Age": 76,
                          "Total_Bil": 0.5
                        },
                        {
                          "Age": 43,
                          "Total_Bil": 0.5
                        },
                        {
                          "Age": 71,
                          "Total_Bil": 1
                        },
                        {
                          "Age": 67,
                          "Total_Bil": 1.4
                        },
                        {
                          "Age": 67,
                          "Total_Bil": 3.7
                        },
                        {
                          "Age": 51,
                          "Total_Bil": 1.5
                        },
                        {
                          "Age": 80,
                          "Total_Bil": 0.76
                        },
                        {
                          "Age": 79,
                          "Total_Bil": 1.6
                        },
                        {
                          "Age": 75,
                          "Total_Bil": 2.6
                        },
                        {
                          "Age": 81,
                          "Total_Bil": 1.2
                        },
                        {
                          "Age": 25,
                          "Total_Bil": null
                        },
                        {
                          "Age": 36,
                          "Total_Bil": 0.7
                        },
                        {
                          "Age": 69,
                          "Total_Bil": 1
                        },
                        {
                          "Age": 47,
                          "Total_Bil": 1
                        },
                        {
                          "Age": 87,
                          "Total_Bil": 2.4
                        },
                        {
                          "Age": 36,
                          "Total_Bil": 3
                        },
                        {
                          "Age": 64,
                          "Total_Bil": 5.8
                        },
                        {
                          "Age": 49,
                          "Total_Bil": 1.2
                        },
                        {
                          "Age": 62,
                          "Total_Bil": 1.3
                        },
                        {
                          "Age": 71,
                          "Total_Bil": 0.3
                        },
                        {
                          "Age": 64,
                          "Total_Bil": 1.9
                        },
                        {
                          "Age": 40,
                          "Total_Bil": 0.5
                        },
                        {
                          "Age": 68,
                          "Total_Bil": 3.6
                        },
                        {
                          "Age": 65,
                          "Total_Bil": 0.6
                        },
                        {
                          "Age": 44,
                          "Total_Bil": 1.1
                        },
                        {
                          "Age": 52,
                          "Total_Bil": 28.5
                        }
                      ]
                    },
                    "vislib": "vegalite"
                  },
                  {
                    "config": {
                      "view": {
                        "continuousWidth": 400,
                        "continuousHeight": 300
                      },
                      "axis": {
                        "labelColor": "#505050",
                        "labelFont": "Helvetica Neue",
                        "labelFontSize": 9,
                        "labelFontWeight": 400,
                        "titleFont": "Helvetica Neue",
                        "titleFontSize": 11,
                        "titleFontWeight": 500
                      },
                      "legend": {
                        "labelFont": "Helvetica Neue",
                        "labelFontSize": 9,
                        "labelFontWeight": 400,
                        "titleFont": "Helvetica Neue",
                        "titleFontSize": 10,
                        "titleFontWeight": 500
                      },
                      "mark": {
                        "tooltip": {
                          "content": "encoding"
                        }
                      },
                      "title": {
                        "font": "Helvetica Neue",
                        "fontSize": 13,
                        "fontWeight": 500
                      }
                    },
                    "data": {
                      "name": "data-31518b595367fe397ee68f09a1cd685f"
                    },
                    "mark": "circle",
                    "encoding": {
                      "x": {
                        "axis": {
                          "title": "Dir_Bil"
                        },
                        "field": "Dir_Bil",
                        "scale": {
                          "domain": [
                            0.1,
                            29.3
                          ]
                        },
                        "type": "quantitative"
                      },
                      "y": {
                        "axis": {
                          "title": "Hemoglobin"
                        },
                        "field": "Hemoglobin",
                        "scale": {
                          "domain": [
                            5,
                            18.7
                          ]
                        },
                        "type": "quantitative"
                      }
                    },
                    "height": 150,
                    "selection": {
                      "selector011": {
                        "type": "interval",
                        "bind": "scales",
                        "encodings": [
                          "x",
                          "y"
                        ]
                      }
                    },
                    "width": 160,
                    "$schema": "https://vega.github.io/schema/vega-lite/v4.17.0.json",
                    "datasets": {
                      "data-31518b595367fe397ee68f09a1cd685f": [
                        {
                          "Hemoglobin": 13.7,
                          "Dir_Bil": 0.5
                        },
                        {
                          "Hemoglobin": null,
                          "Dir_Bil": null
                        },
                        {
                          "Hemoglobin": 8.9,
                          "Dir_Bil": 0.1
                        },
                        {
                          "Hemoglobin": 13.4,
                          "Dir_Bil": 0.2
                        },
                        {
                          "Hemoglobin": 14.3,
                          "Dir_Bil": null
                        },
                        {
                          "Hemoglobin": 13.4,
                          "Dir_Bil": 1.4
                        },
                        {
                          "Hemoglobin": 10.4,
                          "Dir_Bil": 2.19
                        },
                        {
                          "Hemoglobin": 10.8,
                          "Dir_Bil": 1.3
                        },
                        {
                          "Hemoglobin": 11.9,
                          "Dir_Bil": 1.2
                        },
                        {
                          "Hemoglobin": 11.8,
                          "Dir_Bil": 0.7
                        },
                        {
                          "Hemoglobin": 13,
                          "Dir_Bil": 1.1
                        },
                        {
                          "Hemoglobin": 15.7,
                          "Dir_Bil": 0.3
                        },
                        {
                          "Hemoglobin": 13.3,
                          "Dir_Bil": 0.8
                        },
                        {
                          "Hemoglobin": 13.7,
                          "Dir_Bil": null
                        },
                        {
                          "Hemoglobin": 13.5,
                          "Dir_Bil": 4.5
                        },
                        {
                          "Hemoglobin": 10.2,
                          "Dir_Bil": 1.3
                        },
                        {
                          "Hemoglobin": 12.1,
                          "Dir_Bil": 2.9
                        },
                        {
                          "Hemoglobin": 10.3,
                          "Dir_Bil": 3.8
                        },
                        {
                          "Hemoglobin": 14.9,
                          "Dir_Bil": 0.9
                        },
                        {
                          "Hemoglobin": 15.9,
                          "Dir_Bil": 1.6
                        },
                        {
                          "Hemoglobin": 11.7,
                          "Dir_Bil": 0.7
                        },
                        {
                          "Hemoglobin": 16.4,
                          "Dir_Bil": 0.2
                        },
                        {
                          "Hemoglobin": 10.8,
                          "Dir_Bil": 0.5
                        },
                        {
                          "Hemoglobin": 10.7,
                          "Dir_Bil": 1.6
                        },
                        {
                          "Hemoglobin": 13.1,
                          "Dir_Bil": 0.7
                        },
                        {
                          "Hemoglobin": 13.7,
                          "Dir_Bil": 0.7
                        },
                        {
                          "Hemoglobin": 13.6,
                          "Dir_Bil": 0.7
                        },
                        {
                          "Hemoglobin": 15.5,
                          "Dir_Bil": 1
                        },
                        {
                          "Hemoglobin": 12.2,
                          "Dir_Bil": 0.4
                        },
                        {
                          "Hemoglobin": 9.9,
                          "Dir_Bil": 1.1
                        },
                        {
                          "Hemoglobin": 13.1,
                          "Dir_Bil": null
                        },
                        {
                          "Hemoglobin": 12.2,
                          "Dir_Bil": null
                        },
                        {
                          "Hemoglobin": 15.7,
                          "Dir_Bil": null
                        },
                        {
                          "Hemoglobin": 13.7,
                          "Dir_Bil": null
                        },
                        {
                          "Hemoglobin": 14.3,
                          "Dir_Bil": 0.77
                        },
                        {
                          "Hemoglobin": 14.8,
                          "Dir_Bil": 0.37
                        },
                        {
                          "Hemoglobin": 13.1,
                          "Dir_Bil": 3.3
                        },
                        {
                          "Hemoglobin": 13,
                          "Dir_Bil": 0.2
                        },
                        {
                          "Hemoglobin": 14.9,
                          "Dir_Bil": 0.3
                        },
                        {
                          "Hemoglobin": 11.3,
                          "Dir_Bil": 0.6
                        },
                        {
                          "Hemoglobin": 13.9,
                          "Dir_Bil": 0.3
                        },
                        {
                          "Hemoglobin": 15.7,
                          "Dir_Bil": 0.3
                        },
                        {
                          "Hemoglobin": 15,
                          "Dir_Bil": 0.3
                        },
                        {
                          "Hemoglobin": 15.1,
                          "Dir_Bil": 0.2
                        },
                        {
                          "Hemoglobin": 15.6,
                          "Dir_Bil": 0.5
                        },
                        {
                          "Hemoglobin": 16.6,
                          "Dir_Bil": null
                        },
                        {
                          "Hemoglobin": null,
                          "Dir_Bil": null
                        },
                        {
                          "Hemoglobin": 14,
                          "Dir_Bil": 4.1
                        },
                        {
                          "Hemoglobin": 10.6,
                          "Dir_Bil": null
                        },
                        {
                          "Hemoglobin": 15,
                          "Dir_Bil": 0.4
                        },
                        {
                          "Hemoglobin": 10.5,
                          "Dir_Bil": 0.3
                        },
                        {
                          "Hemoglobin": 12.6,
                          "Dir_Bil": 0.8
                        },
                        {
                          "Hemoglobin": 11.8,
                          "Dir_Bil": null
                        },
                        {
                          "Hemoglobin": 15.3,
                          "Dir_Bil": 0.3
                        },
                        {
                          "Hemoglobin": 12.4,
                          "Dir_Bil": 5.5
                        },
                        {
                          "Hemoglobin": 10.8,
                          "Dir_Bil": null
                        },
                        {
                          "Hemoglobin": 7.3,
                          "Dir_Bil": null
                        },
                        {
                          "Hemoglobin": 10.3,
                          "Dir_Bil": 0.85
                        },
                        {
                          "Hemoglobin": 10.9,
                          "Dir_Bil": 1.9
                        },
                        {
                          "Hemoglobin": 18.7,
                          "Dir_Bil": null
                        },
                        {
                          "Hemoglobin": 12.6,
                          "Dir_Bil": 0.5
                        },
                        {
                          "Hemoglobin": 14.6,
                          "Dir_Bil": 1.9
                        },
                        {
                          "Hemoglobin": 11.5,
                          "Dir_Bil": 2.2
                        },
                        {
                          "Hemoglobin": 12.6,
                          "Dir_Bil": 0.5
                        },
                        {
                          "Hemoglobin": 12.1,
                          "Dir_Bil": 0.5
                        },
                        {
                          "Hemoglobin": 15.1,
                          "Dir_Bil": 0.2
                        },
                        {
                          "Hemoglobin": 15.6,
                          "Dir_Bil": 0.3
                        },
                        {
                          "Hemoglobin": 9.5,
                          "Dir_Bil": 0.2
                        },
                        {
                          "Hemoglobin": 12.7,
                          "Dir_Bil": 1.2
                        },
                        {
                          "Hemoglobin": 10.9,
                          "Dir_Bil": 1.3
                        },
                        {
                          "Hemoglobin": 12.7,
                          "Dir_Bil": 0.8
                        },
                        {
                          "Hemoglobin": 13,
                          "Dir_Bil": 1.1
                        },
                        {
                          "Hemoglobin": 14.4,
                          "Dir_Bil": 0.8
                        },
                        {
                          "Hemoglobin": 13,
                          "Dir_Bil": null
                        },
                        {
                          "Hemoglobin": 14.9,
                          "Dir_Bil": 0.3
                        },
                        {
                          "Hemoglobin": 12.1,
                          "Dir_Bil": 4.6
                        },
                        {
                          "Hemoglobin": 9.1,
                          "Dir_Bil": 1.2
                        },
                        {
                          "Hemoglobin": 14.4,
                          "Dir_Bil": null
                        },
                        {
                          "Hemoglobin": 9.8,
                          "Dir_Bil": 0.5
                        },
                        {
                          "Hemoglobin": 10.4,
                          "Dir_Bil": 9.6
                        },
                        {
                          "Hemoglobin": 12.6,
                          "Dir_Bil": 0.5
                        },
                        {
                          "Hemoglobin": 15.8,
                          "Dir_Bil": 1.7
                        },
                        {
                          "Hemoglobin": 14.8,
                          "Dir_Bil": 1.4
                        },
                        {
                          "Hemoglobin": 12.7,
                          "Dir_Bil": 1.4
                        },
                        {
                          "Hemoglobin": 16.4,
                          "Dir_Bil": 0.3
                        },
                        {
                          "Hemoglobin": 13.9,
                          "Dir_Bil": 0.7
                        },
                        {
                          "Hemoglobin": 12.6,
                          "Dir_Bil": null
                        },
                        {
                          "Hemoglobin": 15.8,
                          "Dir_Bil": null
                        },
                        {
                          "Hemoglobin": 11.7,
                          "Dir_Bil": 0.9
                        },
                        {
                          "Hemoglobin": 9.5,
                          "Dir_Bil": 1
                        },
                        {
                          "Hemoglobin": 10.1,
                          "Dir_Bil": 1
                        },
                        {
                          "Hemoglobin": 14.6,
                          "Dir_Bil": 0.3
                        },
                        {
                          "Hemoglobin": 11.5,
                          "Dir_Bil": 0.2
                        },
                        {
                          "Hemoglobin": 13.1,
                          "Dir_Bil": 0.6
                        },
                        {
                          "Hemoglobin": 12.6,
                          "Dir_Bil": null
                        },
                        {
                          "Hemoglobin": 9.5,
                          "Dir_Bil": null
                        },
                        {
                          "Hemoglobin": 9.1,
                          "Dir_Bil": null
                        },
                        {
                          "Hemoglobin": 14.1,
                          "Dir_Bil": 1.1
                        },
                        {
                          "Hemoglobin": 13.1,
                          "Dir_Bil": null
                        },
                        {
                          "Hemoglobin": 13,
                          "Dir_Bil": 5.5
                        },
                        {
                          "Hemoglobin": 12,
                          "Dir_Bil": 1.5
                        },
                        {
                          "Hemoglobin": 13.5,
                          "Dir_Bil": 19.5
                        },
                        {
                          "Hemoglobin": 13.9,
                          "Dir_Bil": null
                        },
                        {
                          "Hemoglobin": 13.5,
                          "Dir_Bil": 29.3
                        },
                        {
                          "Hemoglobin": 12.6,
                          "Dir_Bil": null
                        },
                        {
                          "Hemoglobin": 14.3,
                          "Dir_Bil": 0.3
                        },
                        {
                          "Hemoglobin": 14,
                          "Dir_Bil": null
                        },
                        {
                          "Hemoglobin": 5,
                          "Dir_Bil": null
                        },
                        {
                          "Hemoglobin": 11.3,
                          "Dir_Bil": 0.5
                        },
                        {
                          "Hemoglobin": 12.1,
                          "Dir_Bil": 0.7
                        },
                        {
                          "Hemoglobin": 14.9,
                          "Dir_Bil": 1.8
                        },
                        {
                          "Hemoglobin": 11.1,
                          "Dir_Bil": 22.1
                        },
                        {
                          "Hemoglobin": 15.3,
                          "Dir_Bil": 0.3
                        },
                        {
                          "Hemoglobin": 16.2,
                          "Dir_Bil": 0.3
                        },
                        {
                          "Hemoglobin": 10.3,
                          "Dir_Bil": 1.9
                        },
                        {
                          "Hemoglobin": 14,
                          "Dir_Bil": 0.3
                        },
                        {
                          "Hemoglobin": 13.8,
                          "Dir_Bil": null
                        },
                        {
                          "Hemoglobin": 12,
                          "Dir_Bil": 9.7
                        },
                        {
                          "Hemoglobin": 14.6,
                          "Dir_Bil": null
                        },
                        {
                          "Hemoglobin": 14.9,
                          "Dir_Bil": 1
                        },
                        {
                          "Hemoglobin": 10.2,
                          "Dir_Bil": 2.8
                        },
                        {
                          "Hemoglobin": 10.8,
                          "Dir_Bil": 0.4
                        },
                        {
                          "Hemoglobin": 9.8,
                          "Dir_Bil": 1.5
                        },
                        {
                          "Hemoglobin": 15.1,
                          "Dir_Bil": null
                        },
                        {
                          "Hemoglobin": 11.8,
                          "Dir_Bil": null
                        },
                        {
                          "Hemoglobin": 14.3,
                          "Dir_Bil": 0.5
                        },
                        {
                          "Hemoglobin": 15.6,
                          "Dir_Bil": 0.7
                        },
                        {
                          "Hemoglobin": 12.3,
                          "Dir_Bil": 1
                        },
                        {
                          "Hemoglobin": 12.6,
                          "Dir_Bil": null
                        },
                        {
                          "Hemoglobin": 11.6,
                          "Dir_Bil": null
                        },
                        {
                          "Hemoglobin": 14.9,
                          "Dir_Bil": 0.3
                        },
                        {
                          "Hemoglobin": 11.3,
                          "Dir_Bil": 3.8
                        },
                        {
                          "Hemoglobin": 10.9,
                          "Dir_Bil": 0.7
                        },
                        {
                          "Hemoglobin": 11.4,
                          "Dir_Bil": null
                        },
                        {
                          "Hemoglobin": 14.2,
                          "Dir_Bil": 0.12
                        },
                        {
                          "Hemoglobin": 13.3,
                          "Dir_Bil": null
                        },
                        {
                          "Hemoglobin": 15.4,
                          "Dir_Bil": 0.6
                        },
                        {
                          "Hemoglobin": 13.2,
                          "Dir_Bil": null
                        },
                        {
                          "Hemoglobin": 13.6,
                          "Dir_Bil": null
                        },
                        {
                          "Hemoglobin": 14.7,
                          "Dir_Bil": 0.4
                        },
                        {
                          "Hemoglobin": 12.2,
                          "Dir_Bil": null
                        },
                        {
                          "Hemoglobin": 13.3,
                          "Dir_Bil": null
                        },
                        {
                          "Hemoglobin": 16,
                          "Dir_Bil": 0.3
                        },
                        {
                          "Hemoglobin": 11.2,
                          "Dir_Bil": 1.1
                        },
                        {
                          "Hemoglobin": 14.9,
                          "Dir_Bil": 0.4
                        },
                        {
                          "Hemoglobin": 9.2,
                          "Dir_Bil": 0.33
                        },
                        {
                          "Hemoglobin": 14.3,
                          "Dir_Bil": 0.6
                        },
                        {
                          "Hemoglobin": 11.1,
                          "Dir_Bil": 1
                        },
                        {
                          "Hemoglobin": 13.3,
                          "Dir_Bil": 0.3
                        },
                        {
                          "Hemoglobin": null,
                          "Dir_Bil": null
                        },
                        {
                          "Hemoglobin": 16.1,
                          "Dir_Bil": 0.2
                        },
                        {
                          "Hemoglobin": 13.5,
                          "Dir_Bil": 0.4
                        },
                        {
                          "Hemoglobin": 11.1,
                          "Dir_Bil": null
                        },
                        {
                          "Hemoglobin": 9.7,
                          "Dir_Bil": 1.3
                        },
                        {
                          "Hemoglobin": 11.7,
                          "Dir_Bil": 1
                        },
                        {
                          "Hemoglobin": 12.8,
                          "Dir_Bil": 2.9
                        },
                        {
                          "Hemoglobin": 15.3,
                          "Dir_Bil": 0.6
                        },
                        {
                          "Hemoglobin": 14.7,
                          "Dir_Bil": 0.3
                        },
                        {
                          "Hemoglobin": 8.2,
                          "Dir_Bil": null
                        },
                        {
                          "Hemoglobin": 7.9,
                          "Dir_Bil": 0.7
                        },
                        {
                          "Hemoglobin": 15.4,
                          "Dir_Bil": null
                        },
                        {
                          "Hemoglobin": 12.1,
                          "Dir_Bil": 2.3
                        },
                        {
                          "Hemoglobin": 13.3,
                          "Dir_Bil": null
                        },
                        {
                          "Hemoglobin": 15.6,
                          "Dir_Bil": null
                        },
                        {
                          "Hemoglobin": 12.7,
                          "Dir_Bil": 19.8
                        }
                      ]
                    },
                    "vislib": "vegalite"
                  },
                  {
                    "config": {
                      "view": {
                        "continuousWidth": 400,
                        "continuousHeight": 300
                      },
                      "axis": {
                        "labelColor": "#505050",
                        "labelFont": "Helvetica Neue",
                        "labelFontSize": 9,
                        "labelFontWeight": 400,
                        "titleFont": "Helvetica Neue",
                        "titleFontSize": 11,
                        "titleFontWeight": 500
                      },
                      "legend": {
                        "labelFont": "Helvetica Neue",
                        "labelFontSize": 9,
                        "labelFontWeight": 400,
                        "titleFont": "Helvetica Neue",
                        "titleFontSize": 10,
                        "titleFontWeight": 500
                      },
                      "mark": {
                        "tooltip": {
                          "content": "encoding"
                        }
                      },
                      "title": {
                        "font": "Helvetica Neue",
                        "fontSize": 13,
                        "fontWeight": 500
                      }
                    },
                    "data": {
                      "name": "data-850288c73a07b281e19b694834c7f0a3"
                    },
                    "mark": "circle",
                    "encoding": {
                      "x": {
                        "axis": {
                          "title": "Hemoglobin"
                        },
                        "field": "Hemoglobin",
                        "scale": {
                          "domain": [
                            5,
                            18.7
                          ]
                        },
                        "type": "quantitative"
                      },
                      "y": {
                        "axis": {
                          "title": "Total_Bil"
                        },
                        "field": "Total_Bil",
                        "scale": {
                          "domain": [
                            0.3,
                            40.5
                          ]
                        },
                        "type": "quantitative"
                      }
                    },
                    "height": 150,
                    "selection": {
                      "selector012": {
                        "type": "interval",
                        "bind": "scales",
                        "encodings": [
                          "x",
                          "y"
                        ]
                      }
                    },
                    "width": 160,
                    "$schema": "https://vega.github.io/schema/vega-lite/v4.17.0.json",
                    "datasets": {
                      "data-850288c73a07b281e19b694834c7f0a3": [
                        {
                          "Hemoglobin": 13.7,
                          "Total_Bil": 2.1
                        },
                        {
                          "Hemoglobin": null,
                          "Total_Bil": null
                        },
                        {
                          "Hemoglobin": 8.9,
                          "Total_Bil": 0.4
                        },
                        {
                          "Hemoglobin": 13.4,
                          "Total_Bil": 0.4
                        },
                        {
                          "Hemoglobin": 14.3,
                          "Total_Bil": 0.7
                        },
                        {
                          "Hemoglobin": 13.4,
                          "Total_Bil": 3.5
                        },
                        {
                          "Hemoglobin": 10.4,
                          "Total_Bil": 2.72
                        },
                        {
                          "Hemoglobin": 10.8,
                          "Total_Bil": 3.2
                        },
                        {
                          "Hemoglobin": 11.9,
                          "Total_Bil": 3.3
                        },
                        {
                          "Hemoglobin": 11.8,
                          "Total_Bil": 0.5
                        },
                        {
                          "Hemoglobin": 13,
                          "Total_Bil": 3
                        },
                        {
                          "Hemoglobin": 15.7,
                          "Total_Bil": 1.3
                        },
                        {
                          "Hemoglobin": 13.3,
                          "Total_Bil": 8.5
                        },
                        {
                          "Hemoglobin": 13.7,
                          "Total_Bil": 1
                        },
                        {
                          "Hemoglobin": 13.5,
                          "Total_Bil": 10.5
                        },
                        {
                          "Hemoglobin": 10.2,
                          "Total_Bil": 3.1
                        },
                        {
                          "Hemoglobin": 12.1,
                          "Total_Bil": 9.8
                        },
                        {
                          "Hemoglobin": 10.3,
                          "Total_Bil": 0.5
                        },
                        {
                          "Hemoglobin": 14.9,
                          "Total_Bil": 0.9
                        },
                        {
                          "Hemoglobin": 15.9,
                          "Total_Bil": 3.4
                        },
                        {
                          "Hemoglobin": 11.7,
                          "Total_Bil": 1.7
                        },
                        {
                          "Hemoglobin": 16.4,
                          "Total_Bil": 1
                        },
                        {
                          "Hemoglobin": 10.8,
                          "Total_Bil": 1.2
                        },
                        {
                          "Hemoglobin": 10.7,
                          "Total_Bil": 3.8
                        },
                        {
                          "Hemoglobin": 13.1,
                          "Total_Bil": 1.3
                        },
                        {
                          "Hemoglobin": 13.7,
                          "Total_Bil": 1.6
                        },
                        {
                          "Hemoglobin": 13.6,
                          "Total_Bil": 1.3
                        },
                        {
                          "Hemoglobin": 15.5,
                          "Total_Bil": 3.2
                        },
                        {
                          "Hemoglobin": 12.2,
                          "Total_Bil": 1.1
                        },
                        {
                          "Hemoglobin": 9.9,
                          "Total_Bil": 1.8
                        },
                        {
                          "Hemoglobin": 13.1,
                          "Total_Bil": 0.7
                        },
                        {
                          "Hemoglobin": 12.2,
                          "Total_Bil": 1
                        },
                        {
                          "Hemoglobin": 15.7,
                          "Total_Bil": 0.6
                        },
                        {
                          "Hemoglobin": 13.7,
                          "Total_Bil": 0.5
                        },
                        {
                          "Hemoglobin": 14.3,
                          "Total_Bil": 1.7
                        },
                        {
                          "Hemoglobin": 14.8,
                          "Total_Bil": 0.77
                        },
                        {
                          "Hemoglobin": 13.1,
                          "Total_Bil": 7.8
                        },
                        {
                          "Hemoglobin": 13,
                          "Total_Bil": 1.1
                        },
                        {
                          "Hemoglobin": 14.9,
                          "Total_Bil": 1.3
                        },
                        {
                          "Hemoglobin": 11.3,
                          "Total_Bil": 1.4
                        },
                        {
                          "Hemoglobin": 13.9,
                          "Total_Bil": 0.8
                        },
                        {
                          "Hemoglobin": 15.7,
                          "Total_Bil": 0.7
                        },
                        {
                          "Hemoglobin": 15,
                          "Total_Bil": 1
                        },
                        {
                          "Hemoglobin": 15.1,
                          "Total_Bil": 2.5
                        },
                        {
                          "Hemoglobin": 15.6,
                          "Total_Bil": 2.2
                        },
                        {
                          "Hemoglobin": 16.6,
                          "Total_Bil": 0.9
                        },
                        {
                          "Hemoglobin": null,
                          "Total_Bil": null
                        },
                        {
                          "Hemoglobin": 14,
                          "Total_Bil": 6.8
                        },
                        {
                          "Hemoglobin": 10.6,
                          "Total_Bil": 1
                        },
                        {
                          "Hemoglobin": 15,
                          "Total_Bil": 2.1
                        },
                        {
                          "Hemoglobin": 10.5,
                          "Total_Bil": 0.3
                        },
                        {
                          "Hemoglobin": 12.6,
                          "Total_Bil": 2.3
                        },
                        {
                          "Hemoglobin": 11.8,
                          "Total_Bil": 0.7
                        },
                        {
                          "Hemoglobin": 15.3,
                          "Total_Bil": 1.4
                        },
                        {
                          "Hemoglobin": 12.4,
                          "Total_Bil": 8.2
                        },
                        {
                          "Hemoglobin": 10.8,
                          "Total_Bil": 0.9
                        },
                        {
                          "Hemoglobin": 7.3,
                          "Total_Bil": 0.5
                        },
                        {
                          "Hemoglobin": 10.3,
                          "Total_Bil": 0.8
                        },
                        {
                          "Hemoglobin": 10.9,
                          "Total_Bil": 4.2
                        },
                        {
                          "Hemoglobin": 18.7,
                          "Total_Bil": 0.9
                        },
                        {
                          "Hemoglobin": 12.6,
                          "Total_Bil": 1.7
                        },
                        {
                          "Hemoglobin": 14.6,
                          "Total_Bil": 3.7
                        },
                        {
                          "Hemoglobin": 11.5,
                          "Total_Bil": 4.9
                        },
                        {
                          "Hemoglobin": 12.6,
                          "Total_Bil": 2.4
                        },
                        {
                          "Hemoglobin": 12.1,
                          "Total_Bil": 1.4
                        },
                        {
                          "Hemoglobin": 15.1,
                          "Total_Bil": 1.3
                        },
                        {
                          "Hemoglobin": 15.6,
                          "Total_Bil": 1.4
                        },
                        {
                          "Hemoglobin": 9.5,
                          "Total_Bil": 1.6
                        },
                        {
                          "Hemoglobin": 12.7,
                          "Total_Bil": 3.9
                        },
                        {
                          "Hemoglobin": 10.9,
                          "Total_Bil": 2.1
                        },
                        {
                          "Hemoglobin": 12.7,
                          "Total_Bil": 2.8
                        },
                        {
                          "Hemoglobin": 13,
                          "Total_Bil": 1.9
                        },
                        {
                          "Hemoglobin": 14.4,
                          "Total_Bil": 2.3
                        },
                        {
                          "Hemoglobin": 13,
                          "Total_Bil": 0.6
                        },
                        {
                          "Hemoglobin": 14.9,
                          "Total_Bil": 1
                        },
                        {
                          "Hemoglobin": 12.1,
                          "Total_Bil": 9.6
                        },
                        {
                          "Hemoglobin": 9.1,
                          "Total_Bil": 2.2
                        },
                        {
                          "Hemoglobin": 14.4,
                          "Total_Bil": 0.9
                        },
                        {
                          "Hemoglobin": 9.8,
                          "Total_Bil": 0.5
                        },
                        {
                          "Hemoglobin": 10.4,
                          "Total_Bil": 16
                        },
                        {
                          "Hemoglobin": 12.6,
                          "Total_Bil": 1.2
                        },
                        {
                          "Hemoglobin": 15.8,
                          "Total_Bil": 4.6
                        },
                        {
                          "Hemoglobin": 14.8,
                          "Total_Bil": 2.6
                        },
                        {
                          "Hemoglobin": 12.7,
                          "Total_Bil": 3.4
                        },
                        {
                          "Hemoglobin": 16.4,
                          "Total_Bil": 1.1
                        },
                        {
                          "Hemoglobin": 13.9,
                          "Total_Bil": 2.9
                        },
                        {
                          "Hemoglobin": 12.6,
                          "Total_Bil": null
                        },
                        {
                          "Hemoglobin": 15.8,
                          "Total_Bil": 0.5
                        },
                        {
                          "Hemoglobin": 11.7,
                          "Total_Bil": 2.1
                        },
                        {
                          "Hemoglobin": 9.5,
                          "Total_Bil": 1.5
                        },
                        {
                          "Hemoglobin": 10.1,
                          "Total_Bil": 4.3
                        },
                        {
                          "Hemoglobin": 14.6,
                          "Total_Bil": 1.3
                        },
                        {
                          "Hemoglobin": 11.5,
                          "Total_Bil": 1
                        },
                        {
                          "Hemoglobin": 13.1,
                          "Total_Bil": 1.9
                        },
                        {
                          "Hemoglobin": 12.6,
                          "Total_Bil": 0.8
                        },
                        {
                          "Hemoglobin": 9.5,
                          "Total_Bil": 0.6
                        },
                        {
                          "Hemoglobin": 9.1,
                          "Total_Bil": null
                        },
                        {
                          "Hemoglobin": 14.1,
                          "Total_Bil": 3.3
                        },
                        {
                          "Hemoglobin": 13.1,
                          "Total_Bil": 0.8
                        },
                        {
                          "Hemoglobin": 13,
                          "Total_Bil": 9.5
                        },
                        {
                          "Hemoglobin": 12,
                          "Total_Bil": 3.5
                        },
                        {
                          "Hemoglobin": 13.5,
                          "Total_Bil": 28.9
                        },
                        {
                          "Hemoglobin": 13.9,
                          "Total_Bil": 0.8
                        },
                        {
                          "Hemoglobin": 13.5,
                          "Total_Bil": 40.5
                        },
                        {
                          "Hemoglobin": 12.6,
                          "Total_Bil": 1
                        },
                        {
                          "Hemoglobin": 14.3,
                          "Total_Bil": 1.2
                        },
                        {
                          "Hemoglobin": 14,
                          "Total_Bil": 0.4
                        },
                        {
                          "Hemoglobin": 5,
                          "Total_Bil": 0.5
                        },
                        {
                          "Hemoglobin": 11.3,
                          "Total_Bil": 1.7
                        },
                        {
                          "Hemoglobin": 12.1,
                          "Total_Bil": 1.4
                        },
                        {
                          "Hemoglobin": 14.9,
                          "Total_Bil": 4.8
                        },
                        {
                          "Hemoglobin": 11.1,
                          "Total_Bil": 32.3
                        },
                        {
                          "Hemoglobin": 15.3,
                          "Total_Bil": 1.7
                        },
                        {
                          "Hemoglobin": 16.2,
                          "Total_Bil": 1.3
                        },
                        {
                          "Hemoglobin": 10.3,
                          "Total_Bil": 5.7
                        },
                        {
                          "Hemoglobin": 14,
                          "Total_Bil": 0.8
                        },
                        {
                          "Hemoglobin": 13.8,
                          "Total_Bil": 0.7
                        },
                        {
                          "Hemoglobin": 12,
                          "Total_Bil": 19
                        },
                        {
                          "Hemoglobin": 14.6,
                          "Total_Bil": 7.9
                        },
                        {
                          "Hemoglobin": 14.9,
                          "Total_Bil": 1.4
                        },
                        {
                          "Hemoglobin": 10.2,
                          "Total_Bil": 4.9
                        },
                        {
                          "Hemoglobin": 10.8,
                          "Total_Bil": 1.1
                        },
                        {
                          "Hemoglobin": 9.8,
                          "Total_Bil": 2.6
                        },
                        {
                          "Hemoglobin": 15.1,
                          "Total_Bil": 0.5
                        },
                        {
                          "Hemoglobin": 11.8,
                          "Total_Bil": 0.8
                        },
                        {
                          "Hemoglobin": 14.3,
                          "Total_Bil": 1.5
                        },
                        {
                          "Hemoglobin": 15.6,
                          "Total_Bil": 2.4
                        },
                        {
                          "Hemoglobin": 12.3,
                          "Total_Bil": 2.8
                        },
                        {
                          "Hemoglobin": 12.6,
                          "Total_Bil": 0.7
                        },
                        {
                          "Hemoglobin": 11.6,
                          "Total_Bil": 0.9
                        },
                        {
                          "Hemoglobin": 14.9,
                          "Total_Bil": 0.6
                        },
                        {
                          "Hemoglobin": 11.3,
                          "Total_Bil": 8.6
                        },
                        {
                          "Hemoglobin": 10.9,
                          "Total_Bil": 1.3
                        },
                        {
                          "Hemoglobin": 11.4,
                          "Total_Bil": 0.8
                        },
                        {
                          "Hemoglobin": 14.2,
                          "Total_Bil": 0.32
                        },
                        {
                          "Hemoglobin": 13.3,
                          "Total_Bil": 0.6
                        },
                        {
                          "Hemoglobin": 15.4,
                          "Total_Bil": 1.3
                        },
                        {
                          "Hemoglobin": 13.2,
                          "Total_Bil": 0.8
                        },
                        {
                          "Hemoglobin": 13.6,
                          "Total_Bil": 0.9
                        },
                        {
                          "Hemoglobin": 14.7,
                          "Total_Bil": 0.5
                        },
                        {
                          "Hemoglobin": 12.2,
                          "Total_Bil": 0.5
                        },
                        {
                          "Hemoglobin": 13.3,
                          "Total_Bil": 1
                        },
                        {
                          "Hemoglobin": 16,
                          "Total_Bil": 1.4
                        },
                        {
                          "Hemoglobin": 11.2,
                          "Total_Bil": 3.7
                        },
                        {
                          "Hemoglobin": 14.9,
                          "Total_Bil": 1.5
                        },
                        {
                          "Hemoglobin": 9.2,
                          "Total_Bil": 0.76
                        },
                        {
                          "Hemoglobin": 14.3,
                          "Total_Bil": 1.6
                        },
                        {
                          "Hemoglobin": 11.1,
                          "Total_Bil": 2.6
                        },
                        {
                          "Hemoglobin": 13.3,
                          "Total_Bil": 1.2
                        },
                        {
                          "Hemoglobin": null,
                          "Total_Bil": null
                        },
                        {
                          "Hemoglobin": 16.1,
                          "Total_Bil": 0.7
                        },
                        {
                          "Hemoglobin": 13.5,
                          "Total_Bil": 1
                        },
                        {
                          "Hemoglobin": 11.1,
                          "Total_Bil": 1
                        },
                        {
                          "Hemoglobin": 9.7,
                          "Total_Bil": 2.4
                        },
                        {
                          "Hemoglobin": 11.7,
                          "Total_Bil": 3
                        },
                        {
                          "Hemoglobin": 12.8,
                          "Total_Bil": 5.8
                        },
                        {
                          "Hemoglobin": 15.3,
                          "Total_Bil": 1.2
                        },
                        {
                          "Hemoglobin": 14.7,
                          "Total_Bil": 1.3
                        },
                        {
                          "Hemoglobin": 8.2,
                          "Total_Bil": 0.3
                        },
                        {
                          "Hemoglobin": 7.9,
                          "Total_Bil": 1.9
                        },
                        {
                          "Hemoglobin": 15.4,
                          "Total_Bil": 0.5
                        },
                        {
                          "Hemoglobin": 12.1,
                          "Total_Bil": 3.6
                        },
                        {
                          "Hemoglobin": 13.3,
                          "Total_Bil": 0.6
                        },
                        {
                          "Hemoglobin": 15.6,
                          "Total_Bil": 1.1
                        },
                        {
                          "Hemoglobin": 12.7,
                          "Total_Bil": 28.5
                        }
                      ]
                    },
                    "vislib": "vegalite"
                  },
                  {
                    "config": {
                      "view": {
                        "continuousWidth": 400,
                        "continuousHeight": 300
                      },
                      "axis": {
                        "labelColor": "#505050",
                        "labelFont": "Helvetica Neue",
                        "labelFontSize": 9,
                        "labelFontWeight": 400,
                        "titleFont": "Helvetica Neue",
                        "titleFontSize": 11,
                        "titleFontWeight": 500
                      },
                      "legend": {
                        "labelFont": "Helvetica Neue",
                        "labelFontSize": 9,
                        "labelFontWeight": 400,
                        "titleFont": "Helvetica Neue",
                        "titleFontSize": 10,
                        "titleFontWeight": 500
                      },
                      "mark": {
                        "tooltip": {
                          "content": "encoding"
                        }
                      },
                      "title": {
                        "font": "Helvetica Neue",
                        "fontSize": 13,
                        "fontWeight": 500
                      }
                    },
                    "data": {
                      "name": "data-411d017080e62153f43563842a007730"
                    },
                    "mark": "circle",
                    "encoding": {
                      "x": {
                        "axis": {
                          "title": "Hemoglobin"
                        },
                        "field": "Hemoglobin",
                        "scale": {
                          "domain": [
                            5,
                            18.7
                          ]
                        },
                        "type": "quantitative"
                      },
                      "y": {
                        "axis": {
                          "title": "Age"
                        },
                        "field": "Age",
                        "scale": {
                          "domain": [
                            20,
                            93
                          ]
                        },
                        "type": "quantitative"
                      }
                    },
                    "height": 150,
                    "selection": {
                      "selector013": {
                        "type": "interval",
                        "bind": "scales",
                        "encodings": [
                          "x",
                          "y"
                        ]
                      }
                    },
                    "width": 160,
                    "$schema": "https://vega.github.io/schema/vega-lite/v4.17.0.json",
                    "datasets": {
                      "data-411d017080e62153f43563842a007730": [
                        {
                          "Hemoglobin": 13.7,
                          "Age": 67
                        },
                        {
                          "Hemoglobin": null,
                          "Age": 62
                        },
                        {
                          "Hemoglobin": 8.9,
                          "Age": 78
                        },
                        {
                          "Hemoglobin": 13.4,
                          "Age": 77
                        },
                        {
                          "Hemoglobin": 14.3,
                          "Age": 76
                        },
                        {
                          "Hemoglobin": 13.4,
                          "Age": 75
                        },
                        {
                          "Hemoglobin": 10.4,
                          "Age": 49
                        },
                        {
                          "Hemoglobin": 10.8,
                          "Age": 61
                        },
                        {
                          "Hemoglobin": 11.9,
                          "Age": 50
                        },
                        {
                          "Hemoglobin": 11.8,
                          "Age": 43
                        },
                        {
                          "Hemoglobin": 13,
                          "Age": 41
                        },
                        {
                          "Hemoglobin": 15.7,
                          "Age": 74
                        },
                        {
                          "Hemoglobin": 13.3,
                          "Age": 66
                        },
                        {
                          "Hemoglobin": 13.7,
                          "Age": 56
                        },
                        {
                          "Hemoglobin": 13.5,
                          "Age": 63
                        },
                        {
                          "Hemoglobin": 10.2,
                          "Age": 41
                        },
                        {
                          "Hemoglobin": 12.1,
                          "Age": 72
                        },
                        {
                          "Hemoglobin": 10.3,
                          "Age": 60
                        },
                        {
                          "Hemoglobin": 14.9,
                          "Age": 64
                        },
                        {
                          "Hemoglobin": 15.9,
                          "Age": 75
                        },
                        {
                          "Hemoglobin": 11.7,
                          "Age": 71
                        },
                        {
                          "Hemoglobin": 16.4,
                          "Age": 73
                        },
                        {
                          "Hemoglobin": 10.8,
                          "Age": 66
                        },
                        {
                          "Hemoglobin": 10.7,
                          "Age": 64
                        },
                        {
                          "Hemoglobin": 13.1,
                          "Age": 84
                        },
                        {
                          "Hemoglobin": 13.7,
                          "Age": 80
                        },
                        {
                          "Hemoglobin": 13.6,
                          "Age": 45
                        },
                        {
                          "Hemoglobin": 15.5,
                          "Age": 57
                        },
                        {
                          "Hemoglobin": 12.2,
                          "Age": 61
                        },
                        {
                          "Hemoglobin": 9.9,
                          "Age": 20
                        },
                        {
                          "Hemoglobin": 13.1,
                          "Age": 60
                        },
                        {
                          "Hemoglobin": 12.2,
                          "Age": 62
                        },
                        {
                          "Hemoglobin": 15.7,
                          "Age": 67
                        },
                        {
                          "Hemoglobin": 13.7,
                          "Age": 77
                        },
                        {
                          "Hemoglobin": 14.3,
                          "Age": 62
                        },
                        {
                          "Hemoglobin": 14.8,
                          "Age": 76
                        },
                        {
                          "Hemoglobin": 13.1,
                          "Age": 73
                        },
                        {
                          "Hemoglobin": 13,
                          "Age": 84
                        },
                        {
                          "Hemoglobin": 14.9,
                          "Age": 70
                        },
                        {
                          "Hemoglobin": 11.3,
                          "Age": 59
                        },
                        {
                          "Hemoglobin": 13.9,
                          "Age": 71
                        },
                        {
                          "Hemoglobin": 15.7,
                          "Age": 66
                        },
                        {
                          "Hemoglobin": 15,
                          "Age": 86
                        },
                        {
                          "Hemoglobin": 15.1,
                          "Age": 71
                        },
                        {
                          "Hemoglobin": 15.6,
                          "Age": 52
                        },
                        {
                          "Hemoglobin": 16.6,
                          "Age": 60
                        },
                        {
                          "Hemoglobin": null,
                          "Age": 45
                        },
                        {
                          "Hemoglobin": 14,
                          "Age": 66
                        },
                        {
                          "Hemoglobin": 10.6,
                          "Age": 80
                        },
                        {
                          "Hemoglobin": 15,
                          "Age": 58
                        },
                        {
                          "Hemoglobin": 10.5,
                          "Age": 27
                        },
                        {
                          "Hemoglobin": 12.6,
                          "Age": 73
                        },
                        {
                          "Hemoglobin": 11.8,
                          "Age": 73
                        },
                        {
                          "Hemoglobin": 15.3,
                          "Age": 50
                        },
                        {
                          "Hemoglobin": 12.4,
                          "Age": 51
                        },
                        {
                          "Hemoglobin": 10.8,
                          "Age": 78
                        },
                        {
                          "Hemoglobin": 7.3,
                          "Age": 81
                        },
                        {
                          "Hemoglobin": 10.3,
                          "Age": 65
                        },
                        {
                          "Hemoglobin": 10.9,
                          "Age": 72
                        },
                        {
                          "Hemoglobin": 18.7,
                          "Age": 82
                        },
                        {
                          "Hemoglobin": 12.6,
                          "Age": 76
                        },
                        {
                          "Hemoglobin": 14.6,
                          "Age": 56
                        },
                        {
                          "Hemoglobin": 11.5,
                          "Age": 68
                        },
                        {
                          "Hemoglobin": 12.6,
                          "Age": 72
                        },
                        {
                          "Hemoglobin": 12.1,
                          "Age": 66
                        },
                        {
                          "Hemoglobin": 15.1,
                          "Age": 40
                        },
                        {
                          "Hemoglobin": 15.6,
                          "Age": 68
                        },
                        {
                          "Hemoglobin": 9.5,
                          "Age": 63
                        },
                        {
                          "Hemoglobin": 12.7,
                          "Age": 72
                        },
                        {
                          "Hemoglobin": 10.9,
                          "Age": 88
                        },
                        {
                          "Hemoglobin": 12.7,
                          "Age": 23
                        },
                        {
                          "Hemoglobin": 13,
                          "Age": 59
                        },
                        {
                          "Hemoglobin": 14.4,
                          "Age": 82
                        },
                        {
                          "Hemoglobin": 13,
                          "Age": 67
                        },
                        {
                          "Hemoglobin": 14.9,
                          "Age": 61
                        },
                        {
                          "Hemoglobin": 12.1,
                          "Age": 61
                        },
                        {
                          "Hemoglobin": 9.1,
                          "Age": 67
                        },
                        {
                          "Hemoglobin": 14.4,
                          "Age": 78
                        },
                        {
                          "Hemoglobin": 9.8,
                          "Age": 52
                        },
                        {
                          "Hemoglobin": 10.4,
                          "Age": 51
                        },
                        {
                          "Hemoglobin": 12.6,
                          "Age": 74
                        },
                        {
                          "Hemoglobin": 15.8,
                          "Age": 56
                        },
                        {
                          "Hemoglobin": 14.8,
                          "Age": 64
                        },
                        {
                          "Hemoglobin": 12.7,
                          "Age": 83
                        },
                        {
                          "Hemoglobin": 16.4,
                          "Age": 57
                        },
                        {
                          "Hemoglobin": 13.9,
                          "Age": 58
                        },
                        {
                          "Hemoglobin": 12.6,
                          "Age": 71
                        },
                        {
                          "Hemoglobin": 15.8,
                          "Age": 52
                        },
                        {
                          "Hemoglobin": 11.7,
                          "Age": 74
                        },
                        {
                          "Hemoglobin": 9.5,
                          "Age": 61
                        },
                        {
                          "Hemoglobin": 10.1,
                          "Age": 69
                        },
                        {
                          "Hemoglobin": 14.6,
                          "Age": 65
                        },
                        {
                          "Hemoglobin": 11.5,
                          "Age": 79
                        },
                        {
                          "Hemoglobin": 13.1,
                          "Age": 69
                        },
                        {
                          "Hemoglobin": 12.6,
                          "Age": 87
                        },
                        {
                          "Hemoglobin": 9.5,
                          "Age": 78
                        },
                        {
                          "Hemoglobin": 9.1,
                          "Age": 71
                        },
                        {
                          "Hemoglobin": 14.1,
                          "Age": 58
                        },
                        {
                          "Hemoglobin": 13.1,
                          "Age": 73
                        },
                        {
                          "Hemoglobin": 13,
                          "Age": 73
                        },
                        {
                          "Hemoglobin": 12,
                          "Age": 93
                        },
                        {
                          "Hemoglobin": 13.5,
                          "Age": 52
                        },
                        {
                          "Hemoglobin": 13.9,
                          "Age": 64
                        },
                        {
                          "Hemoglobin": 13.5,
                          "Age": 63
                        },
                        {
                          "Hemoglobin": 12.6,
                          "Age": 64
                        },
                        {
                          "Hemoglobin": 14.3,
                          "Age": 67
                        },
                        {
                          "Hemoglobin": 14,
                          "Age": 50
                        },
                        {
                          "Hemoglobin": 5,
                          "Age": 79
                        },
                        {
                          "Hemoglobin": 11.3,
                          "Age": 85
                        },
                        {
                          "Hemoglobin": 12.1,
                          "Age": 62
                        },
                        {
                          "Hemoglobin": 14.9,
                          "Age": 74
                        },
                        {
                          "Hemoglobin": 11.1,
                          "Age": 56
                        },
                        {
                          "Hemoglobin": 15.3,
                          "Age": 74
                        },
                        {
                          "Hemoglobin": 16.2,
                          "Age": 62
                        },
                        {
                          "Hemoglobin": 10.3,
                          "Age": 60
                        },
                        {
                          "Hemoglobin": 14,
                          "Age": 55
                        },
                        {
                          "Hemoglobin": 13.8,
                          "Age": 57
                        },
                        {
                          "Hemoglobin": 12,
                          "Age": 63
                        },
                        {
                          "Hemoglobin": 14.6,
                          "Age": 63
                        },
                        {
                          "Hemoglobin": 14.9,
                          "Age": 79
                        },
                        {
                          "Hemoglobin": 10.2,
                          "Age": 63
                        },
                        {
                          "Hemoglobin": 10.8,
                          "Age": 59
                        },
                        {
                          "Hemoglobin": 9.8,
                          "Age": 51
                        },
                        {
                          "Hemoglobin": 15.1,
                          "Age": 74
                        },
                        {
                          "Hemoglobin": 11.8,
                          "Age": 62
                        },
                        {
                          "Hemoglobin": 14.3,
                          "Age": 76
                        },
                        {
                          "Hemoglobin": 15.6,
                          "Age": 73
                        },
                        {
                          "Hemoglobin": 12.3,
                          "Age": 76
                        },
                        {
                          "Hemoglobin": 12.6,
                          "Age": 72
                        },
                        {
                          "Hemoglobin": 11.6,
                          "Age": 77
                        },
                        {
                          "Hemoglobin": 14.9,
                          "Age": 75
                        },
                        {
                          "Hemoglobin": 11.3,
                          "Age": 55
                        },
                        {
                          "Hemoglobin": 10.9,
                          "Age": 72
                        },
                        {
                          "Hemoglobin": 11.4,
                          "Age": 82
                        },
                        {
                          "Hemoglobin": 14.2,
                          "Age": 46
                        },
                        {
                          "Hemoglobin": 13.3,
                          "Age": 71
                        },
                        {
                          "Hemoglobin": 15.4,
                          "Age": 56
                        },
                        {
                          "Hemoglobin": 13.2,
                          "Age": 78
                        },
                        {
                          "Hemoglobin": 13.6,
                          "Age": 55
                        },
                        {
                          "Hemoglobin": 14.7,
                          "Age": 76
                        },
                        {
                          "Hemoglobin": 12.2,
                          "Age": 43
                        },
                        {
                          "Hemoglobin": 13.3,
                          "Age": 71
                        },
                        {
                          "Hemoglobin": 16,
                          "Age": 67
                        },
                        {
                          "Hemoglobin": 11.2,
                          "Age": 67
                        },
                        {
                          "Hemoglobin": 14.9,
                          "Age": 51
                        },
                        {
                          "Hemoglobin": 9.2,
                          "Age": 80
                        },
                        {
                          "Hemoglobin": 14.3,
                          "Age": 79
                        },
                        {
                          "Hemoglobin": 11.1,
                          "Age": 75
                        },
                        {
                          "Hemoglobin": 13.3,
                          "Age": 81
                        },
                        {
                          "Hemoglobin": null,
                          "Age": 25
                        },
                        {
                          "Hemoglobin": 16.1,
                          "Age": 36
                        },
                        {
                          "Hemoglobin": 13.5,
                          "Age": 69
                        },
                        {
                          "Hemoglobin": 11.1,
                          "Age": 47
                        },
                        {
                          "Hemoglobin": 9.7,
                          "Age": 87
                        },
                        {
                          "Hemoglobin": 11.7,
                          "Age": 36
                        },
                        {
                          "Hemoglobin": 12.8,
                          "Age": 64
                        },
                        {
                          "Hemoglobin": 15.3,
                          "Age": 49
                        },
                        {
                          "Hemoglobin": 14.7,
                          "Age": 62
                        },
                        {
                          "Hemoglobin": 8.2,
                          "Age": 71
                        },
                        {
                          "Hemoglobin": 7.9,
                          "Age": 64
                        },
                        {
                          "Hemoglobin": 15.4,
                          "Age": 40
                        },
                        {
                          "Hemoglobin": 12.1,
                          "Age": 68
                        },
                        {
                          "Hemoglobin": 13.3,
                          "Age": 65
                        },
                        {
                          "Hemoglobin": 15.6,
                          "Age": 44
                        },
                        {
                          "Hemoglobin": 12.7,
                          "Age": 52
                        }
                      ]
                    },
                    "vislib": "vegalite"
                  },
                  {
                    "config": {
                      "view": {
                        "continuousWidth": 400,
                        "continuousHeight": 300
                      },
                      "axis": {
                        "labelColor": "#505050",
                        "labelFont": "Helvetica Neue",
                        "labelFontSize": 9,
                        "labelFontWeight": 400,
                        "titleFont": "Helvetica Neue",
                        "titleFontSize": 11,
                        "titleFontWeight": 500
                      },
                      "legend": {
                        "labelFont": "Helvetica Neue",
                        "labelFontSize": 9,
                        "labelFontWeight": 400,
                        "titleFont": "Helvetica Neue",
                        "titleFontSize": 10,
                        "titleFontWeight": 500
                      },
                      "mark": {
                        "tooltip": {
                          "content": "encoding"
                        }
                      },
                      "title": {
                        "font": "Helvetica Neue",
                        "fontSize": 13,
                        "fontWeight": 500
                      }
                    },
                    "data": {
                      "name": "data-63dbaf2c21b360d993735fea493f6bd5"
                    },
                    "mark": "circle",
                    "encoding": {
                      "x": {
                        "axis": {
                          "title": "MCV"
                        },
                        "field": "MCV",
                        "scale": {
                          "domain": [
                            69.5,
                            119.6
                          ]
                        },
                        "type": "quantitative"
                      },
                      "y": {
                        "axis": {
                          "title": "Age"
                        },
                        "field": "Age",
                        "scale": {
                          "domain": [
                            20,
                            93
                          ]
                        },
                        "type": "quantitative"
                      }
                    },
                    "height": 150,
                    "selection": {
                      "selector014": {
                        "type": "interval",
                        "bind": "scales",
                        "encodings": [
                          "x",
                          "y"
                        ]
                      }
                    },
                    "width": 160,
                    "$schema": "https://vega.github.io/schema/vega-lite/v4.17.0.json",
                    "datasets": {
                      "data-63dbaf2c21b360d993735fea493f6bd5": [
                        {
                          "Age": 67,
                          "MCV": 106.6
                        },
                        {
                          "Age": 62,
                          "MCV": 103.4
                        },
                        {
                          "Age": 78,
                          "MCV": 79.8
                        },
                        {
                          "Age": 77,
                          "MCV": 97.1
                        },
                        {
                          "Age": 76,
                          "MCV": 95.1
                        },
                        {
                          "Age": 75,
                          "MCV": 91.5
                        },
                        {
                          "Age": 49,
                          "MCV": 102
                        },
                        {
                          "Age": 61,
                          "MCV": 92
                        },
                        {
                          "Age": 50,
                          "MCV": 107.5
                        },
                        {
                          "Age": 43,
                          "MCV": 87.8
                        },
                        {
                          "Age": 41,
                          "MCV": 94.2
                        },
                        {
                          "Age": 74,
                          "MCV": 96.7
                        },
                        {
                          "Age": 66,
                          "MCV": 90.1
                        },
                        {
                          "Age": 56,
                          "MCV": 93.8
                        },
                        {
                          "Age": 63,
                          "MCV": 93
                        },
                        {
                          "Age": 41,
                          "MCV": 89.6
                        },
                        {
                          "Age": 72,
                          "MCV": 99.2
                        },
                        {
                          "Age": 60,
                          "MCV": 103.7
                        },
                        {
                          "Age": 64,
                          "MCV": 94.8
                        },
                        {
                          "Age": 75,
                          "MCV": 103.4
                        },
                        {
                          "Age": 71,
                          "MCV": 101
                        },
                        {
                          "Age": 73,
                          "MCV": 90.7
                        },
                        {
                          "Age": 66,
                          "MCV": 86.5
                        },
                        {
                          "Age": 64,
                          "MCV": 88.1
                        },
                        {
                          "Age": 84,
                          "MCV": 111
                        },
                        {
                          "Age": 80,
                          "MCV": 94.3
                        },
                        {
                          "Age": 45,
                          "MCV": 98.4
                        },
                        {
                          "Age": 57,
                          "MCV": 88.2
                        },
                        {
                          "Age": 61,
                          "MCV": 89.5
                        },
                        {
                          "Age": 20,
                          "MCV": 83.4
                        },
                        {
                          "Age": 60,
                          "MCV": 87.9
                        },
                        {
                          "Age": 62,
                          "MCV": 94
                        },
                        {
                          "Age": 67,
                          "MCV": 96.1
                        },
                        {
                          "Age": 77,
                          "MCV": 97.7
                        },
                        {
                          "Age": 62,
                          "MCV": 99.6
                        },
                        {
                          "Age": 76,
                          "MCV": 98.5
                        },
                        {
                          "Age": 73,
                          "MCV": 109.3
                        },
                        {
                          "Age": 84,
                          "MCV": 96.5
                        },
                        {
                          "Age": 70,
                          "MCV": 105
                        },
                        {
                          "Age": 59,
                          "MCV": 82.2
                        },
                        {
                          "Age": 71,
                          "MCV": 88.3
                        },
                        {
                          "Age": 66,
                          "MCV": 92.7
                        },
                        {
                          "Age": 86,
                          "MCV": 85.5
                        },
                        {
                          "Age": 71,
                          "MCV": 104.1
                        },
                        {
                          "Age": 52,
                          "MCV": 98.1
                        },
                        {
                          "Age": 60,
                          "MCV": 93.8
                        },
                        {
                          "Age": 45,
                          "MCV": 102.2
                        },
                        {
                          "Age": 66,
                          "MCV": 102.9
                        },
                        {
                          "Age": 80,
                          "MCV": 96.2
                        },
                        {
                          "Age": 58,
                          "MCV": 96.7
                        },
                        {
                          "Age": 27,
                          "MCV": 78.7
                        },
                        {
                          "Age": 73,
                          "MCV": 91.4
                        },
                        {
                          "Age": 73,
                          "MCV": 80.2
                        },
                        {
                          "Age": 50,
                          "MCV": 93.7
                        },
                        {
                          "Age": 51,
                          "MCV": 95.1
                        },
                        {
                          "Age": 78,
                          "MCV": 88
                        },
                        {
                          "Age": 81,
                          "MCV": 90.8
                        },
                        {
                          "Age": 65,
                          "MCV": 83
                        },
                        {
                          "Age": 72,
                          "MCV": 102
                        },
                        {
                          "Age": 82,
                          "MCV": 92.4
                        },
                        {
                          "Age": 76,
                          "MCV": 100
                        },
                        {
                          "Age": 56,
                          "MCV": 100.8
                        },
                        {
                          "Age": 68,
                          "MCV": 97.4
                        },
                        {
                          "Age": 72,
                          "MCV": 96.6
                        },
                        {
                          "Age": 66,
                          "MCV": 95.1
                        },
                        {
                          "Age": 40,
                          "MCV": 86
                        },
                        {
                          "Age": 68,
                          "MCV": 93
                        },
                        {
                          "Age": 63,
                          "MCV": 99.2
                        },
                        {
                          "Age": 72,
                          "MCV": 100.3
                        },
                        {
                          "Age": 88,
                          "MCV": 97.3
                        },
                        {
                          "Age": 23,
                          "MCV": 74
                        },
                        {
                          "Age": 59,
                          "MCV": 102.1
                        },
                        {
                          "Age": 82,
                          "MCV": 101.1
                        },
                        {
                          "Age": 67,
                          "MCV": 92
                        },
                        {
                          "Age": 61,
                          "MCV": 92.3
                        },
                        {
                          "Age": 61,
                          "MCV": 119
                        },
                        {
                          "Age": 67,
                          "MCV": 103.6
                        },
                        {
                          "Age": 78,
                          "MCV": 100.2
                        },
                        {
                          "Age": 52,
                          "MCV": 81.8
                        },
                        {
                          "Age": 51,
                          "MCV": 91.1
                        },
                        {
                          "Age": 74,
                          "MCV": 83.7
                        },
                        {
                          "Age": 56,
                          "MCV": 99
                        },
                        {
                          "Age": 64,
                          "MCV": 104.3
                        },
                        {
                          "Age": 83,
                          "MCV": 106
                        },
                        {
                          "Age": 57,
                          "MCV": 94.8
                        },
                        {
                          "Age": 58,
                          "MCV": 100.8
                        },
                        {
                          "Age": 71,
                          "MCV": 83.9
                        },
                        {
                          "Age": 52,
                          "MCV": 97.9
                        },
                        {
                          "Age": 74,
                          "MCV": 70.6
                        },
                        {
                          "Age": 61,
                          "MCV": 90
                        },
                        {
                          "Age": 69,
                          "MCV": 89.5
                        },
                        {
                          "Age": 65,
                          "MCV": 95.1
                        },
                        {
                          "Age": 79,
                          "MCV": 95.6
                        },
                        {
                          "Age": 69,
                          "MCV": 90.6
                        },
                        {
                          "Age": 87,
                          "MCV": 97.6
                        },
                        {
                          "Age": 78,
                          "MCV": 85.8
                        },
                        {
                          "Age": 71,
                          "MCV": 90.9
                        },
                        {
                          "Age": 58,
                          "MCV": 103.6
                        },
                        {
                          "Age": 73,
                          "MCV": 89.6
                        },
                        {
                          "Age": 73,
                          "MCV": 102.3
                        },
                        {
                          "Age": 93,
                          "MCV": 94.4
                        },
                        {
                          "Age": 52,
                          "MCV": 98
                        },
                        {
                          "Age": 64,
                          "MCV": 99.7
                        },
                        {
                          "Age": 63,
                          "MCV": 93.3
                        },
                        {
                          "Age": 64,
                          "MCV": 93.8
                        },
                        {
                          "Age": 67,
                          "MCV": 101.5
                        },
                        {
                          "Age": 50,
                          "MCV": 90.1
                        },
                        {
                          "Age": 79,
                          "MCV": 69.5
                        },
                        {
                          "Age": 85,
                          "MCV": 103.9
                        },
                        {
                          "Age": 62,
                          "MCV": 89.7
                        },
                        {
                          "Age": 74,
                          "MCV": 104.5
                        },
                        {
                          "Age": 56,
                          "MCV": 105.5
                        },
                        {
                          "Age": 74,
                          "MCV": 90.9
                        },
                        {
                          "Age": 62,
                          "MCV": 99.1
                        },
                        {
                          "Age": 60,
                          "MCV": 94.7
                        },
                        {
                          "Age": 55,
                          "MCV": 88.2
                        },
                        {
                          "Age": 57,
                          "MCV": 93.2
                        },
                        {
                          "Age": 63,
                          "MCV": 111.4
                        },
                        {
                          "Age": 63,
                          "MCV": 96.1
                        },
                        {
                          "Age": 79,
                          "MCV": 103.8
                        },
                        {
                          "Age": 63,
                          "MCV": 96.1
                        },
                        {
                          "Age": 59,
                          "MCV": 102.8
                        },
                        {
                          "Age": 51,
                          "MCV": 85.6
                        },
                        {
                          "Age": 74,
                          "MCV": 83.8
                        },
                        {
                          "Age": 62,
                          "MCV": 89.2
                        },
                        {
                          "Age": 76,
                          "MCV": 89.5
                        },
                        {
                          "Age": 73,
                          "MCV": 88.4
                        },
                        {
                          "Age": 76,
                          "MCV": 104.2
                        },
                        {
                          "Age": 72,
                          "MCV": 95.1
                        },
                        {
                          "Age": 77,
                          "MCV": 83.5
                        },
                        {
                          "Age": 75,
                          "MCV": 87.4
                        },
                        {
                          "Age": 55,
                          "MCV": 119.6
                        },
                        {
                          "Age": 72,
                          "MCV": 99.6
                        },
                        {
                          "Age": 82,
                          "MCV": 89.3
                        },
                        {
                          "Age": 46,
                          "MCV": 90.3
                        },
                        {
                          "Age": 71,
                          "MCV": 96.4
                        },
                        {
                          "Age": 56,
                          "MCV": 91.6
                        },
                        {
                          "Age": 78,
                          "MCV": 89.5
                        },
                        {
                          "Age": 55,
                          "MCV": 97.3
                        },
                        {
                          "Age": 76,
                          "MCV": 102.3
                        },
                        {
                          "Age": 43,
                          "MCV": 87.6
                        },
                        {
                          "Age": 71,
                          "MCV": 89.7
                        },
                        {
                          "Age": 67,
                          "MCV": 98.8
                        },
                        {
                          "Age": 67,
                          "MCV": 102.4
                        },
                        {
                          "Age": 51,
                          "MCV": 106.3
                        },
                        {
                          "Age": 80,
                          "MCV": 94
                        },
                        {
                          "Age": 79,
                          "MCV": 72.2
                        },
                        {
                          "Age": 75,
                          "MCV": 106.9
                        },
                        {
                          "Age": 81,
                          "MCV": 94.3
                        },
                        {
                          "Age": 25,
                          "MCV": 90.2
                        },
                        {
                          "Age": 36,
                          "MCV": 92
                        },
                        {
                          "Age": 69,
                          "MCV": 104.9
                        },
                        {
                          "Age": 47,
                          "MCV": 93.9
                        },
                        {
                          "Age": 87,
                          "MCV": 91.6
                        },
                        {
                          "Age": 36,
                          "MCV": 99.7
                        },
                        {
                          "Age": 64,
                          "MCV": 101.6
                        },
                        {
                          "Age": 49,
                          "MCV": 103
                        },
                        {
                          "Age": 62,
                          "MCV": 97.2
                        },
                        {
                          "Age": 71,
                          "MCV": 94.2
                        },
                        {
                          "Age": 64,
                          "MCV": 111.2
                        },
                        {
                          "Age": 40,
                          "MCV": 109.2
                        },
                        {
                          "Age": 68,
                          "MCV": 88.9
                        },
                        {
                          "Age": 65,
                          "MCV": 90
                        },
                        {
                          "Age": 44,
                          "MCV": 117.3
                        },
                        {
                          "Age": 52,
                          "MCV": 95.8
                        }
                      ]
                    },
                    "vislib": "vegalite"
                  },
                  {
                    "config": {
                      "view": {
                        "continuousWidth": 400,
                        "continuousHeight": 300
                      },
                      "axis": {
                        "labelColor": "#505050",
                        "labelFont": "Helvetica Neue",
                        "labelFontSize": 9,
                        "labelFontWeight": 400,
                        "titleFont": "Helvetica Neue",
                        "titleFontSize": 11,
                        "titleFontWeight": 500
                      },
                      "legend": {
                        "labelFont": "Helvetica Neue",
                        "labelFontSize": 9,
                        "labelFontWeight": 400,
                        "titleFont": "Helvetica Neue",
                        "titleFontSize": 10,
                        "titleFontWeight": 500
                      },
                      "mark": {
                        "tooltip": {
                          "content": "encoding"
                        }
                      },
                      "title": {
                        "font": "Helvetica Neue",
                        "fontSize": 13,
                        "fontWeight": 500
                      }
                    },
                    "data": {
                      "name": "data-11603c32e553f3ce6409bce2cb476414"
                    },
                    "mark": "circle",
                    "encoding": {
                      "x": {
                        "axis": {
                          "title": "Ferritin"
                        },
                        "field": "Ferritin",
                        "scale": {
                          "domain": [
                            0,
                            2230
                          ]
                        },
                        "type": "quantitative"
                      },
                      "y": {
                        "axis": {
                          "title": "Hemoglobin"
                        },
                        "field": "Hemoglobin",
                        "scale": {
                          "domain": [
                            5,
                            18.7
                          ]
                        },
                        "type": "quantitative"
                      }
                    },
                    "height": 150,
                    "selection": {
                      "selector015": {
                        "type": "interval",
                        "bind": "scales",
                        "encodings": [
                          "x",
                          "y"
                        ]
                      }
                    },
                    "width": 160,
                    "$schema": "https://vega.github.io/schema/vega-lite/v4.17.0.json",
                    "datasets": {
                      "data-11603c32e553f3ce6409bce2cb476414": [
                        {
                          "Hemoglobin": 13.7,
                          "Ferritin": null
                        },
                        {
                          "Hemoglobin": null,
                          "Ferritin": null
                        },
                        {
                          "Hemoglobin": 8.9,
                          "Ferritin": 16
                        },
                        {
                          "Hemoglobin": 13.4,
                          "Ferritin": null
                        },
                        {
                          "Hemoglobin": 14.3,
                          "Ferritin": 22
                        },
                        {
                          "Hemoglobin": 13.4,
                          "Ferritin": 111
                        },
                        {
                          "Hemoglobin": 10.4,
                          "Ferritin": 1452
                        },
                        {
                          "Hemoglobin": 10.8,
                          "Ferritin": 706
                        },
                        {
                          "Hemoglobin": 11.9,
                          "Ferritin": 982
                        },
                        {
                          "Hemoglobin": 11.8,
                          "Ferritin": null
                        },
                        {
                          "Hemoglobin": 13,
                          "Ferritin": null
                        },
                        {
                          "Hemoglobin": 15.7,
                          "Ferritin": 277
                        },
                        {
                          "Hemoglobin": 13.3,
                          "Ferritin": null
                        },
                        {
                          "Hemoglobin": 13.7,
                          "Ferritin": null
                        },
                        {
                          "Hemoglobin": 13.5,
                          "Ferritin": 302
                        },
                        {
                          "Hemoglobin": 10.2,
                          "Ferritin": 60
                        },
                        {
                          "Hemoglobin": 12.1,
                          "Ferritin": 767
                        },
                        {
                          "Hemoglobin": 10.3,
                          "Ferritin": 443
                        },
                        {
                          "Hemoglobin": 14.9,
                          "Ferritin": 295
                        },
                        {
                          "Hemoglobin": 15.9,
                          "Ferritin": 774
                        },
                        {
                          "Hemoglobin": 11.7,
                          "Ferritin": 76.9
                        },
                        {
                          "Hemoglobin": 16.4,
                          "Ferritin": 84
                        },
                        {
                          "Hemoglobin": 10.8,
                          "Ferritin": 1001
                        },
                        {
                          "Hemoglobin": 10.7,
                          "Ferritin": null
                        },
                        {
                          "Hemoglobin": 13.1,
                          "Ferritin": null
                        },
                        {
                          "Hemoglobin": 13.7,
                          "Ferritin": 79
                        },
                        {
                          "Hemoglobin": 13.6,
                          "Ferritin": null
                        },
                        {
                          "Hemoglobin": 15.5,
                          "Ferritin": null
                        },
                        {
                          "Hemoglobin": 12.2,
                          "Ferritin": 70
                        },
                        {
                          "Hemoglobin": 9.9,
                          "Ferritin": 369
                        },
                        {
                          "Hemoglobin": 13.1,
                          "Ferritin": null
                        },
                        {
                          "Hemoglobin": 12.2,
                          "Ferritin": 239
                        },
                        {
                          "Hemoglobin": 15.7,
                          "Ferritin": null
                        },
                        {
                          "Hemoglobin": 13.7,
                          "Ferritin": null
                        },
                        {
                          "Hemoglobin": 14.3,
                          "Ferritin": null
                        },
                        {
                          "Hemoglobin": 14.8,
                          "Ferritin": null
                        },
                        {
                          "Hemoglobin": 13.1,
                          "Ferritin": 870
                        },
                        {
                          "Hemoglobin": 13,
                          "Ferritin": 134
                        },
                        {
                          "Hemoglobin": 14.9,
                          "Ferritin": null
                        },
                        {
                          "Hemoglobin": 11.3,
                          "Ferritin": null
                        },
                        {
                          "Hemoglobin": 13.9,
                          "Ferritin": 120
                        },
                        {
                          "Hemoglobin": 15.7,
                          "Ferritin": null
                        },
                        {
                          "Hemoglobin": 15,
                          "Ferritin": 279
                        },
                        {
                          "Hemoglobin": 15.1,
                          "Ferritin": null
                        },
                        {
                          "Hemoglobin": 15.6,
                          "Ferritin": null
                        },
                        {
                          "Hemoglobin": 16.6,
                          "Ferritin": null
                        },
                        {
                          "Hemoglobin": null,
                          "Ferritin": null
                        },
                        {
                          "Hemoglobin": 14,
                          "Ferritin": 888
                        },
                        {
                          "Hemoglobin": 10.6,
                          "Ferritin": 802
                        },
                        {
                          "Hemoglobin": 15,
                          "Ferritin": 905
                        },
                        {
                          "Hemoglobin": 10.5,
                          "Ferritin": null
                        },
                        {
                          "Hemoglobin": 12.6,
                          "Ferritin": 497
                        },
                        {
                          "Hemoglobin": 11.8,
                          "Ferritin": 635
                        },
                        {
                          "Hemoglobin": 15.3,
                          "Ferritin": 59
                        },
                        {
                          "Hemoglobin": 12.4,
                          "Ferritin": 742
                        },
                        {
                          "Hemoglobin": 10.8,
                          "Ferritin": null
                        },
                        {
                          "Hemoglobin": 7.3,
                          "Ferritin": 48
                        },
                        {
                          "Hemoglobin": 10.3,
                          "Ferritin": 18
                        },
                        {
                          "Hemoglobin": 10.9,
                          "Ferritin": 176
                        },
                        {
                          "Hemoglobin": 18.7,
                          "Ferritin": null
                        },
                        {
                          "Hemoglobin": 12.6,
                          "Ferritin": null
                        },
                        {
                          "Hemoglobin": 14.6,
                          "Ferritin": 363
                        },
                        {
                          "Hemoglobin": 11.5,
                          "Ferritin": null
                        },
                        {
                          "Hemoglobin": 12.6,
                          "Ferritin": null
                        },
                        {
                          "Hemoglobin": 12.1,
                          "Ferritin": 0
                        },
                        {
                          "Hemoglobin": 15.1,
                          "Ferritin": null
                        },
                        {
                          "Hemoglobin": 15.6,
                          "Ferritin": 393
                        },
                        {
                          "Hemoglobin": 9.5,
                          "Ferritin": 48
                        },
                        {
                          "Hemoglobin": 12.7,
                          "Ferritin": 419
                        },
                        {
                          "Hemoglobin": 10.9,
                          "Ferritin": 639
                        },
                        {
                          "Hemoglobin": 12.7,
                          "Ferritin": 20
                        },
                        {
                          "Hemoglobin": 13,
                          "Ferritin": null
                        },
                        {
                          "Hemoglobin": 14.4,
                          "Ferritin": 227
                        },
                        {
                          "Hemoglobin": 13,
                          "Ferritin": null
                        },
                        {
                          "Hemoglobin": 14.9,
                          "Ferritin": 255
                        },
                        {
                          "Hemoglobin": 12.1,
                          "Ferritin": 960
                        },
                        {
                          "Hemoglobin": 9.1,
                          "Ferritin": 355
                        },
                        {
                          "Hemoglobin": 14.4,
                          "Ferritin": null
                        },
                        {
                          "Hemoglobin": 9.8,
                          "Ferritin": 141
                        },
                        {
                          "Hemoglobin": 10.4,
                          "Ferritin": null
                        },
                        {
                          "Hemoglobin": 12.6,
                          "Ferritin": null
                        },
                        {
                          "Hemoglobin": 15.8,
                          "Ferritin": 316
                        },
                        {
                          "Hemoglobin": 14.8,
                          "Ferritin": 859
                        },
                        {
                          "Hemoglobin": 12.7,
                          "Ferritin": 221
                        },
                        {
                          "Hemoglobin": 16.4,
                          "Ferritin": null
                        },
                        {
                          "Hemoglobin": 13.9,
                          "Ferritin": 108
                        },
                        {
                          "Hemoglobin": 12.6,
                          "Ferritin": null
                        },
                        {
                          "Hemoglobin": 15.8,
                          "Ferritin": 30
                        },
                        {
                          "Hemoglobin": 11.7,
                          "Ferritin": 28
                        },
                        {
                          "Hemoglobin": 9.5,
                          "Ferritin": null
                        },
                        {
                          "Hemoglobin": 10.1,
                          "Ferritin": 173
                        },
                        {
                          "Hemoglobin": 14.6,
                          "Ferritin": 423
                        },
                        {
                          "Hemoglobin": 11.5,
                          "Ferritin": null
                        },
                        {
                          "Hemoglobin": 13.1,
                          "Ferritin": null
                        },
                        {
                          "Hemoglobin": 12.6,
                          "Ferritin": 278
                        },
                        {
                          "Hemoglobin": 9.5,
                          "Ferritin": 810
                        },
                        {
                          "Hemoglobin": 9.1,
                          "Ferritin": null
                        },
                        {
                          "Hemoglobin": 14.1,
                          "Ferritin": null
                        },
                        {
                          "Hemoglobin": 13.1,
                          "Ferritin": 29
                        },
                        {
                          "Hemoglobin": 13,
                          "Ferritin": null
                        },
                        {
                          "Hemoglobin": 12,
                          "Ferritin": 256
                        },
                        {
                          "Hemoglobin": 13.5,
                          "Ferritin": 749
                        },
                        {
                          "Hemoglobin": 13.9,
                          "Ferritin": 489
                        },
                        {
                          "Hemoglobin": 13.5,
                          "Ferritin": null
                        },
                        {
                          "Hemoglobin": 12.6,
                          "Ferritin": 81
                        },
                        {
                          "Hemoglobin": 14.3,
                          "Ferritin": 48.9
                        },
                        {
                          "Hemoglobin": 14,
                          "Ferritin": 2230
                        },
                        {
                          "Hemoglobin": 5,
                          "Ferritin": 490
                        },
                        {
                          "Hemoglobin": 11.3,
                          "Ferritin": 1316
                        },
                        {
                          "Hemoglobin": 12.1,
                          "Ferritin": null
                        },
                        {
                          "Hemoglobin": 14.9,
                          "Ferritin": 297
                        },
                        {
                          "Hemoglobin": 11.1,
                          "Ferritin": null
                        },
                        {
                          "Hemoglobin": 15.3,
                          "Ferritin": null
                        },
                        {
                          "Hemoglobin": 16.2,
                          "Ferritin": null
                        },
                        {
                          "Hemoglobin": 10.3,
                          "Ferritin": 56
                        },
                        {
                          "Hemoglobin": 14,
                          "Ferritin": null
                        },
                        {
                          "Hemoglobin": 13.8,
                          "Ferritin": null
                        },
                        {
                          "Hemoglobin": 12,
                          "Ferritin": 2165
                        },
                        {
                          "Hemoglobin": 14.6,
                          "Ferritin": null
                        },
                        {
                          "Hemoglobin": 14.9,
                          "Ferritin": null
                        },
                        {
                          "Hemoglobin": 10.2,
                          "Ferritin": null
                        },
                        {
                          "Hemoglobin": 10.8,
                          "Ferritin": 856
                        },
                        {
                          "Hemoglobin": 9.8,
                          "Ferritin": 57
                        },
                        {
                          "Hemoglobin": 15.1,
                          "Ferritin": 90
                        },
                        {
                          "Hemoglobin": 11.8,
                          "Ferritin": 579
                        },
                        {
                          "Hemoglobin": 14.3,
                          "Ferritin": 832
                        },
                        {
                          "Hemoglobin": 15.6,
                          "Ferritin": null
                        },
                        {
                          "Hemoglobin": 12.3,
                          "Ferritin": 307
                        },
                        {
                          "Hemoglobin": 12.6,
                          "Ferritin": 308
                        },
                        {
                          "Hemoglobin": 11.6,
                          "Ferritin": null
                        },
                        {
                          "Hemoglobin": 14.9,
                          "Ferritin": null
                        },
                        {
                          "Hemoglobin": 11.3,
                          "Ferritin": null
                        },
                        {
                          "Hemoglobin": 10.9,
                          "Ferritin": null
                        },
                        {
                          "Hemoglobin": 11.4,
                          "Ferritin": 149
                        },
                        {
                          "Hemoglobin": 14.2,
                          "Ferritin": null
                        },
                        {
                          "Hemoglobin": 13.3,
                          "Ferritin": null
                        },
                        {
                          "Hemoglobin": 15.4,
                          "Ferritin": null
                        },
                        {
                          "Hemoglobin": 13.2,
                          "Ferritin": 80
                        },
                        {
                          "Hemoglobin": 13.6,
                          "Ferritin": 220
                        },
                        {
                          "Hemoglobin": 14.7,
                          "Ferritin": null
                        },
                        {
                          "Hemoglobin": 12.2,
                          "Ferritin": 206
                        },
                        {
                          "Hemoglobin": 13.3,
                          "Ferritin": null
                        },
                        {
                          "Hemoglobin": 16,
                          "Ferritin": null
                        },
                        {
                          "Hemoglobin": 11.2,
                          "Ferritin": 344
                        },
                        {
                          "Hemoglobin": 14.9,
                          "Ferritin": 642
                        },
                        {
                          "Hemoglobin": 9.2,
                          "Ferritin": null
                        },
                        {
                          "Hemoglobin": 14.3,
                          "Ferritin": 14
                        },
                        {
                          "Hemoglobin": 11.1,
                          "Ferritin": null
                        },
                        {
                          "Hemoglobin": 13.3,
                          "Ferritin": null
                        },
                        {
                          "Hemoglobin": null,
                          "Ferritin": null
                        },
                        {
                          "Hemoglobin": 16.1,
                          "Ferritin": null
                        },
                        {
                          "Hemoglobin": 13.5,
                          "Ferritin": null
                        },
                        {
                          "Hemoglobin": 11.1,
                          "Ferritin": null
                        },
                        {
                          "Hemoglobin": 9.7,
                          "Ferritin": null
                        },
                        {
                          "Hemoglobin": 11.7,
                          "Ferritin": null
                        },
                        {
                          "Hemoglobin": 12.8,
                          "Ferritin": 1600
                        },
                        {
                          "Hemoglobin": 15.3,
                          "Ferritin": 1176
                        },
                        {
                          "Hemoglobin": 14.7,
                          "Ferritin": null
                        },
                        {
                          "Hemoglobin": 8.2,
                          "Ferritin": null
                        },
                        {
                          "Hemoglobin": 7.9,
                          "Ferritin": 283
                        },
                        {
                          "Hemoglobin": 15.4,
                          "Ferritin": null
                        },
                        {
                          "Hemoglobin": 12.1,
                          "Ferritin": null
                        },
                        {
                          "Hemoglobin": 13.3,
                          "Ferritin": null
                        },
                        {
                          "Hemoglobin": 15.6,
                          "Ferritin": null
                        },
                        {
                          "Hemoglobin": 12.7,
                          "Ferritin": null
                        }
                      ]
                    },
                    "vislib": "vegalite"
                  }
                ]
              },
              {
                "action": "Distribution",
                "description": "Show univariate histograms of <p class='highlight-descriptor'>quantitative</p>  attributes.",
                "long_description": "Distribution displays univariate histogram distributions of all quantitative attributes (e.g., Age). Visualizations are ranked from most to least skewed.",
                "vspec": [
                  {
                    "config": {
                      "view": {
                        "continuousWidth": 400,
                        "continuousHeight": 300
                      },
                      "axis": {
                        "labelColor": "#505050",
                        "labelFont": "Helvetica Neue",
                        "labelFontSize": 9,
                        "labelFontWeight": 400,
                        "titleFont": "Helvetica Neue",
                        "titleFontSize": 11,
                        "titleFontWeight": 500
                      },
                      "legend": {
                        "labelFont": "Helvetica Neue",
                        "labelFontSize": 9,
                        "labelFontWeight": 400,
                        "titleFont": "Helvetica Neue",
                        "titleFontSize": 10,
                        "titleFontWeight": 500
                      },
                      "title": {
                        "font": "Helvetica Neue",
                        "fontSize": 13,
                        "fontWeight": 500
                      }
                    },
                    "data": {
                      "name": "data-0853f670c40396d7368c5052a5a1f404"
                    },
                    "mark": "bar",
                    "encoding": {
                      "x": {
                        "axis": {
                          "title": "Dir_Bil (binned)"
                        },
                        "bin": {
                          "binned": true,
                          "step": 2.92
                        },
                        "field": "Dir_Bil",
                        "scale": {
                          "domain": [
                            0.1,
                            29.3
                          ]
                        },
                        "title": "Dir_Bil (binned)",
                        "type": "quantitative"
                      },
                      "x2": {
                        "field": "Dir_Bil_end"
                      },
                      "y": {
                        "field": "Number of Records",
                        "type": "quantitative"
                      }
                    },
                    "height": 150,
                    "width": 160,
                    "$schema": "https://vega.github.io/schema/vega-lite/v4.17.0.json",
                    "datasets": {
                      "data-0853f670c40396d7368c5052a5a1f404": [
                        {
                          "Dir_Bil": 0.1,
                          "Number of Records": 107,
                          "Dir_Bil_end": 3.17
                        },
                        {
                          "Dir_Bil": 3.02,
                          "Number of Records": 8,
                          "Dir_Bil_end": 6.09
                        },
                        {
                          "Dir_Bil": 5.9399999999999995,
                          "Number of Records": 0,
                          "Dir_Bil_end": 9.01
                        },
                        {
                          "Dir_Bil": 8.86,
                          "Number of Records": 2,
                          "Dir_Bil_end": 11.93
                        },
                        {
                          "Dir_Bil": 11.78,
                          "Number of Records": 0,
                          "Dir_Bil_end": 14.85
                        },
                        {
                          "Dir_Bil": 14.7,
                          "Number of Records": 0,
                          "Dir_Bil_end": 17.77
                        },
                        {
                          "Dir_Bil": 17.62,
                          "Number of Records": 2,
                          "Dir_Bil_end": 20.69
                        },
                        {
                          "Dir_Bil": 20.54,
                          "Number of Records": 1,
                          "Dir_Bil_end": 23.61
                        },
                        {
                          "Dir_Bil": 23.46,
                          "Number of Records": 0,
                          "Dir_Bil_end": 26.53
                        },
                        {
                          "Dir_Bil": 26.380000000000003,
                          "Number of Records": 1,
                          "Dir_Bil_end": 29.450000000000003
                        }
                      ]
                    },
                    "vislib": "vegalite"
                  },
                  {
                    "config": {
                      "view": {
                        "continuousWidth": 400,
                        "continuousHeight": 300
                      },
                      "axis": {
                        "labelColor": "#505050",
                        "labelFont": "Helvetica Neue",
                        "labelFontSize": 9,
                        "labelFontWeight": 400,
                        "titleFont": "Helvetica Neue",
                        "titleFontSize": 11,
                        "titleFontWeight": 500
                      },
                      "legend": {
                        "labelFont": "Helvetica Neue",
                        "labelFontSize": 9,
                        "labelFontWeight": 400,
                        "titleFont": "Helvetica Neue",
                        "titleFontSize": 10,
                        "titleFontWeight": 500
                      },
                      "title": {
                        "font": "Helvetica Neue",
                        "fontSize": 13,
                        "fontWeight": 500
                      }
                    },
                    "data": {
                      "name": "data-b6fe1176a3754afbb7bbd23734c9e898"
                    },
                    "mark": "bar",
                    "encoding": {
                      "x": {
                        "axis": {
                          "title": "Total_Bil (binned)"
                        },
                        "bin": {
                          "binned": true,
                          "step": 4.0200000000000005
                        },
                        "field": "Total_Bil",
                        "scale": {
                          "domain": [
                            0.3,
                            40.5
                          ]
                        },
                        "title": "Total_Bil (binned)",
                        "type": "quantitative"
                      },
                      "x2": {
                        "field": "Total_Bil_end"
                      },
                      "y": {
                        "field": "Number of Records",
                        "type": "quantitative"
                      }
                    },
                    "height": 150,
                    "width": 160,
                    "$schema": "https://vega.github.io/schema/vega-lite/v4.17.0.json",
                    "datasets": {
                      "data-b6fe1176a3754afbb7bbd23734c9e898": [
                        {
                          "Total_Bil": 0.3,
                          "Number of Records": 138,
                          "Total_Bil_end": 4.52
                        },
                        {
                          "Total_Bil": 4.32,
                          "Number of Records": 10,
                          "Total_Bil_end": 8.54
                        },
                        {
                          "Total_Bil": 8.340000000000002,
                          "Number of Records": 6,
                          "Total_Bil_end": 12.560000000000002
                        },
                        {
                          "Total_Bil": 12.360000000000003,
                          "Number of Records": 1,
                          "Total_Bil_end": 16.580000000000002
                        },
                        {
                          "Total_Bil": 16.380000000000003,
                          "Number of Records": 1,
                          "Total_Bil_end": 20.6
                        },
                        {
                          "Total_Bil": 20.400000000000002,
                          "Number of Records": 0,
                          "Total_Bil_end": 24.62
                        },
                        {
                          "Total_Bil": 24.420000000000005,
                          "Number of Records": 0,
                          "Total_Bil_end": 28.640000000000004
                        },
                        {
                          "Total_Bil": 28.440000000000005,
                          "Number of Records": 3,
                          "Total_Bil_end": 32.660000000000004
                        },
                        {
                          "Total_Bil": 32.46,
                          "Number of Records": 0,
                          "Total_Bil_end": 36.68
                        },
                        {
                          "Total_Bil": 36.480000000000004,
                          "Number of Records": 1,
                          "Total_Bil_end": 40.7
                        }
                      ]
                    },
                    "vislib": "vegalite"
                  },
                  {
                    "config": {
                      "view": {
                        "continuousWidth": 400,
                        "continuousHeight": 300
                      },
                      "axis": {
                        "labelColor": "#505050",
                        "labelFont": "Helvetica Neue",
                        "labelFontSize": 9,
                        "labelFontWeight": 400,
                        "titleFont": "Helvetica Neue",
                        "titleFontSize": 11,
                        "titleFontWeight": 500
                      },
                      "legend": {
                        "labelFont": "Helvetica Neue",
                        "labelFontSize": 9,
                        "labelFontWeight": 400,
                        "titleFont": "Helvetica Neue",
                        "titleFontSize": 10,
                        "titleFontWeight": 500
                      },
                      "title": {
                        "font": "Helvetica Neue",
                        "fontSize": 13,
                        "fontWeight": 500
                      }
                    },
                    "data": {
                      "name": "data-d648dab7846241d2b84cf813010a2544"
                    },
                    "mark": "bar",
                    "encoding": {
                      "x": {
                        "axis": {
                          "title": "Ferritin (binned)"
                        },
                        "bin": {
                          "binned": true,
                          "step": 223
                        },
                        "field": "Ferritin",
                        "scale": {
                          "domain": [
                            0,
                            2230
                          ]
                        },
                        "title": "Ferritin (binned)",
                        "type": "quantitative"
                      },
                      "x2": {
                        "field": "Ferritin_end"
                      },
                      "y": {
                        "field": "Number of Records",
                        "type": "quantitative"
                      }
                    },
                    "height": 150,
                    "width": 160,
                    "$schema": "https://vega.github.io/schema/vega-lite/v4.17.0.json",
                    "datasets": {
                      "data-d648dab7846241d2b84cf813010a2544": [
                        {
                          "Ferritin": 0,
                          "Number of Records": 34,
                          "Ferritin_end": 234.15
                        },
                        {
                          "Ferritin": 223,
                          "Number of Records": 22,
                          "Ferritin_end": 457.15
                        },
                        {
                          "Ferritin": 446,
                          "Number of Records": 7,
                          "Ferritin_end": 680.15
                        },
                        {
                          "Ferritin": 669,
                          "Number of Records": 12,
                          "Ferritin_end": 903.15
                        },
                        {
                          "Ferritin": 892,
                          "Number of Records": 4,
                          "Ferritin_end": 1126.15
                        },
                        {
                          "Ferritin": 1115,
                          "Number of Records": 2,
                          "Ferritin_end": 1349.15
                        },
                        {
                          "Ferritin": 1338,
                          "Number of Records": 1,
                          "Ferritin_end": 1572.15
                        },
                        {
                          "Ferritin": 1561,
                          "Number of Records": 1,
                          "Ferritin_end": 1795.15
                        },
                        {
                          "Ferritin": 1784,
                          "Number of Records": 0,
                          "Ferritin_end": 2018.15
                        },
                        {
                          "Ferritin": 2007,
                          "Number of Records": 2,
                          "Ferritin_end": 2241.15
                        }
                      ]
                    },
                    "vislib": "vegalite"
                  },
                  {
                    "config": {
                      "view": {
                        "continuousWidth": 400,
                        "continuousHeight": 300
                      },
                      "axis": {
                        "labelColor": "#505050",
                        "labelFont": "Helvetica Neue",
                        "labelFontSize": 9,
                        "labelFontWeight": 400,
                        "titleFont": "Helvetica Neue",
                        "titleFontSize": 11,
                        "titleFontWeight": 500
                      },
                      "legend": {
                        "labelFont": "Helvetica Neue",
                        "labelFontSize": 9,
                        "labelFontWeight": 400,
                        "titleFont": "Helvetica Neue",
                        "titleFontSize": 10,
                        "titleFontWeight": 500
                      },
                      "title": {
                        "font": "Helvetica Neue",
                        "fontSize": 13,
                        "fontWeight": 500
                      }
                    },
                    "data": {
                      "name": "data-ea7f0946a622e49609587ae0166fe940"
                    },
                    "mark": "bar",
                    "encoding": {
                      "x": {
                        "axis": {
                          "title": "MCV (binned)"
                        },
                        "bin": {
                          "binned": true,
                          "step": 5.010000000000005
                        },
                        "field": "MCV",
                        "scale": {
                          "domain": [
                            69.5,
                            119.6
                          ]
                        },
                        "title": "MCV (binned)",
                        "type": "quantitative"
                      },
                      "x2": {
                        "field": "MCV_end"
                      },
                      "y": {
                        "field": "Number of Records",
                        "type": "quantitative"
                      }
                    },
                    "height": 150,
                    "width": 160,
                    "$schema": "https://vega.github.io/schema/vega-lite/v4.17.0.json",
                    "datasets": {
                      "data-ea7f0946a622e49609587ae0166fe940": [
                        {
                          "MCV": 69.5,
                          "Number of Records": 4,
                          "MCV_end": 74.76
                        },
                        {
                          "MCV": 74.51,
                          "Number of Records": 1,
                          "MCV_end": 79.77000000000001
                        },
                        {
                          "MCV": 79.52,
                          "Number of Records": 10,
                          "MCV_end": 84.78
                        },
                        {
                          "MCV": 84.53,
                          "Number of Records": 22,
                          "MCV_end": 89.79
                        },
                        {
                          "MCV": 89.53999999999999,
                          "Number of Records": 42,
                          "MCV_end": 94.8
                        },
                        {
                          "MCV": 94.55,
                          "Number of Records": 36,
                          "MCV_end": 99.81
                        },
                        {
                          "MCV": 99.56,
                          "Number of Records": 34,
                          "MCV_end": 104.82000000000001
                        },
                        {
                          "MCV": 104.57,
                          "Number of Records": 10,
                          "MCV_end": 109.83
                        },
                        {
                          "MCV": 109.58,
                          "Number of Records": 3,
                          "MCV_end": 114.84
                        },
                        {
                          "MCV": 114.59,
                          "Number of Records": 3,
                          "MCV_end": 119.85000000000001
                        }
                      ]
                    },
                    "vislib": "vegalite"
                  },
                  {
                    "config": {
                      "view": {
                        "continuousWidth": 400,
                        "continuousHeight": 300
                      },
                      "axis": {
                        "labelColor": "#505050",
                        "labelFont": "Helvetica Neue",
                        "labelFontSize": 9,
                        "labelFontWeight": 400,
                        "titleFont": "Helvetica Neue",
                        "titleFontSize": 11,
                        "titleFontWeight": 500
                      },
                      "legend": {
                        "labelFont": "Helvetica Neue",
                        "labelFontSize": 9,
                        "labelFontWeight": 400,
                        "titleFont": "Helvetica Neue",
                        "titleFontSize": 10,
                        "titleFontWeight": 500
                      },
                      "title": {
                        "font": "Helvetica Neue",
                        "fontSize": 13,
                        "fontWeight": 500
                      }
                    },
                    "data": {
                      "name": "data-4de3e53611d2cc4d1c9bb8b9638e4caf"
                    },
                    "mark": "bar",
                    "encoding": {
                      "x": {
                        "axis": {
                          "title": "Age (binned)"
                        },
                        "bin": {
                          "binned": true,
                          "step": 7.300000000000001
                        },
                        "field": "Age",
                        "scale": {
                          "domain": [
                            20,
                            93
                          ]
                        },
                        "title": "Age (binned)",
                        "type": "quantitative"
                      },
                      "x2": {
                        "field": "Age_end"
                      },
                      "y": {
                        "field": "Number of Records",
                        "type": "quantitative"
                      }
                    },
                    "height": 150,
                    "width": 160,
                    "$schema": "https://vega.github.io/schema/vega-lite/v4.17.0.json",
                    "datasets": {
                      "data-4de3e53611d2cc4d1c9bb8b9638e4caf": [
                        {
                          "Age": 20,
                          "Number of Records": 4,
                          "Age_end": 27.66
                        },
                        {
                          "Age": 27.3,
                          "Number of Records": 0,
                          "Age_end": 34.96
                        },
                        {
                          "Age": 34.6,
                          "Number of Records": 6,
                          "Age_end": 42.260000000000005
                        },
                        {
                          "Age": 41.9,
                          "Number of Records": 9,
                          "Age_end": 49.56
                        },
                        {
                          "Age": 49.2,
                          "Number of Records": 20,
                          "Age_end": 56.86
                        },
                        {
                          "Age": 56.5,
                          "Number of Records": 31,
                          "Age_end": 64.16
                        },
                        {
                          "Age": 63.8,
                          "Number of Records": 37,
                          "Age_end": 71.46
                        },
                        {
                          "Age": 71.1,
                          "Number of Records": 37,
                          "Age_end": 78.75999999999999
                        },
                        {
                          "Age": 78.4,
                          "Number of Records": 16,
                          "Age_end": 86.06
                        },
                        {
                          "Age": 85.7,
                          "Number of Records": 5,
                          "Age_end": 93.36
                        }
                      ]
                    },
                    "vislib": "vegalite"
                  },
                  {
                    "config": {
                      "view": {
                        "continuousWidth": 400,
                        "continuousHeight": 300
                      },
                      "axis": {
                        "labelColor": "#505050",
                        "labelFont": "Helvetica Neue",
                        "labelFontSize": 9,
                        "labelFontWeight": 400,
                        "titleFont": "Helvetica Neue",
                        "titleFontSize": 11,
                        "titleFontWeight": 500
                      },
                      "legend": {
                        "labelFont": "Helvetica Neue",
                        "labelFontSize": 9,
                        "labelFontWeight": 400,
                        "titleFont": "Helvetica Neue",
                        "titleFontSize": 10,
                        "titleFontWeight": 500
                      },
                      "title": {
                        "font": "Helvetica Neue",
                        "fontSize": 13,
                        "fontWeight": 500
                      }
                    },
                    "data": {
                      "name": "data-1ae8e49eca9497ade689c9fbb75ff730"
                    },
                    "mark": "bar",
                    "encoding": {
                      "x": {
                        "axis": {
                          "title": "Hemoglobin (binned)"
                        },
                        "bin": {
                          "binned": true,
                          "step": 1.37
                        },
                        "field": "Hemoglobin",
                        "scale": {
                          "domain": [
                            5,
                            18.7
                          ]
                        },
                        "title": "Hemoglobin (binned)",
                        "type": "quantitative"
                      },
                      "x2": {
                        "field": "Hemoglobin_end"
                      },
                      "y": {
                        "field": "Number of Records",
                        "type": "quantitative"
                      }
                    },
                    "height": 150,
                    "width": 160,
                    "$schema": "https://vega.github.io/schema/vega-lite/v4.17.0.json",
                    "datasets": {
                      "data-1ae8e49eca9497ade689c9fbb75ff730": [
                        {
                          "Hemoglobin": 5,
                          "Number of Records": 1,
                          "Hemoglobin_end": 6.4399999999999995
                        },
                        {
                          "Hemoglobin": 6.37,
                          "Number of Records": 1,
                          "Hemoglobin_end": 7.8100000000000005
                        },
                        {
                          "Hemoglobin": 7.74,
                          "Number of Records": 5,
                          "Hemoglobin_end": 9.18
                        },
                        {
                          "Hemoglobin": 9.11,
                          "Number of Records": 16,
                          "Hemoglobin_end": 10.549999999999999
                        },
                        {
                          "Hemoglobin": 10.48,
                          "Number of Records": 27,
                          "Hemoglobin_end": 11.92
                        },
                        {
                          "Hemoglobin": 11.85,
                          "Number of Records": 37,
                          "Hemoglobin_end": 13.29
                        },
                        {
                          "Hemoglobin": 13.219999999999999,
                          "Number of Records": 33,
                          "Hemoglobin_end": 14.659999999999998
                        },
                        {
                          "Hemoglobin": 14.59,
                          "Number of Records": 35,
                          "Hemoglobin_end": 16.03
                        },
                        {
                          "Hemoglobin": 15.959999999999999,
                          "Number of Records": 6,
                          "Hemoglobin_end": 17.4
                        },
                        {
                          "Hemoglobin": 17.33,
                          "Number of Records": 1,
                          "Hemoglobin_end": 18.77
                        }
                      ]
                    },
                    "vislib": "vegalite"
                  }
                ]
              },
              {
                "action": "Occurrence",
                "description": "Show frequency of occurrence for <p class='highlight-descriptor'>categorical</p> attributes.",
                "long_description": "Occurence displays bar charts of counts for all categorical attributes (e.g., Gender). Visualizations are ranked from most to least uneven across the bars. ",
                "vspec": [
                  {
                    "config": {
                      "view": {
                        "continuousWidth": 400,
                        "continuousHeight": 300
                      },
                      "axis": {
                        "labelColor": "#505050",
                        "labelFont": "Helvetica Neue",
                        "labelFontSize": 9,
                        "labelFontWeight": 400,
                        "titleFont": "Helvetica Neue",
                        "titleFontSize": 11,
                        "titleFontWeight": 500
                      },
                      "legend": {
                        "labelFont": "Helvetica Neue",
                        "labelFontSize": 9,
                        "labelFontWeight": 400,
                        "titleFont": "Helvetica Neue",
                        "titleFontSize": 10,
                        "titleFontWeight": 500
                      },
                      "mark": {
                        "tooltip": {
                          "content": "encoding"
                        }
                      },
                      "title": {
                        "font": "Helvetica Neue",
                        "fontSize": 13,
                        "fontWeight": 500
                      }
                    },
                    "data": {
                      "name": "data-3f3413eb2833f12753d78976cb1cfb6e"
                    },
                    "mark": "bar",
                    "encoding": {
                      "x": {
                        "axis": {
                          "title": "Number of Records"
                        },
                        "field": "Record",
                        "title": "Number of Records",
                        "type": "quantitative"
                      },
                      "y": {
                        "axis": {
                          "labelOverlap": true,
                          "title": "Encephalopathy"
                        },
                        "field": "Encephalopathy",
                        "type": "nominal"
                      }
                    },
                    "height": 150,
                    "width": 160,
                    "$schema": "https://vega.github.io/schema/vega-lite/v4.17.0.json",
                    "datasets": {
                      "data-3f3413eb2833f12753d78976cb1cfb6e": [
                        {
                          "Encephalopathy": "Grade I/II",
                          "Record": 18
                        },
                        {
                          "Encephalopathy": "Grade III/IV",
                          "Record": 4
                        },
                        {
                          "Encephalopathy": "None",
                          "Record": 142
                        },
                        {
                          "Encephalopathy": null,
                          "Record": 1
                        }
                      ]
                    },
                    "vislib": "vegalite"
                  },
                  {
                    "config": {
                      "view": {
                        "continuousWidth": 400,
                        "continuousHeight": 300
                      },
                      "axis": {
                        "labelColor": "#505050",
                        "labelFont": "Helvetica Neue",
                        "labelFontSize": 9,
                        "labelFontWeight": 400,
                        "titleFont": "Helvetica Neue",
                        "titleFontSize": 11,
                        "titleFontWeight": 500
                      },
                      "legend": {
                        "labelFont": "Helvetica Neue",
                        "labelFontSize": 9,
                        "labelFontWeight": 400,
                        "titleFont": "Helvetica Neue",
                        "titleFontSize": 10,
                        "titleFontWeight": 500
                      },
                      "mark": {
                        "tooltip": {
                          "content": "encoding"
                        }
                      },
                      "title": {
                        "font": "Helvetica Neue",
                        "fontSize": 13,
                        "fontWeight": 500
                      }
                    },
                    "data": {
                      "name": "data-c4ceddd3278a78e253acfe6730fa1300"
                    },
                    "mark": "bar",
                    "encoding": {
                      "x": {
                        "axis": {
                          "title": "Number of Records"
                        },
                        "field": "Record",
                        "title": "Number of Records",
                        "type": "quantitative"
                      },
                      "y": {
                        "axis": {
                          "labelOverlap": true,
                          "title": "Gender"
                        },
                        "field": "Gender",
                        "type": "nominal"
                      }
                    },
                    "height": 150,
                    "width": 160,
                    "$schema": "https://vega.github.io/schema/vega-lite/v4.17.0.json",
                    "datasets": {
                      "data-c4ceddd3278a78e253acfe6730fa1300": [
                        {
                          "Gender": "Female",
                          "Record": 32
                        },
                        {
                          "Gender": "Male",
                          "Record": 133
                        }
                      ]
                    },
                    "vislib": "vegalite"
                  },
                  {
                    "config": {
                      "view": {
                        "continuousWidth": 400,
                        "continuousHeight": 300
                      },
                      "axis": {
                        "labelColor": "#505050",
                        "labelFont": "Helvetica Neue",
                        "labelFontSize": 9,
                        "labelFontWeight": 400,
                        "titleFont": "Helvetica Neue",
                        "titleFontSize": 11,
                        "titleFontWeight": 500
                      },
                      "legend": {
                        "labelFont": "Helvetica Neue",
                        "labelFontSize": 9,
                        "labelFontWeight": 400,
                        "titleFont": "Helvetica Neue",
                        "titleFontSize": 10,
                        "titleFontWeight": 500
                      },
                      "mark": {
                        "tooltip": {
                          "content": "encoding"
                        }
                      },
                      "title": {
                        "font": "Helvetica Neue",
                        "fontSize": 13,
                        "fontWeight": 500
                      }
                    },
                    "data": {
                      "name": "data-e1b39e44a587bf217525c0969a715a4a"
                    },
                    "mark": "bar",
                    "encoding": {
                      "x": {
                        "axis": {
                          "title": "Number of Records"
                        },
                        "field": "Record",
                        "title": "Number of Records",
                        "type": "quantitative"
                      },
                      "y": {
                        "axis": {
                          "labelOverlap": true,
                          "title": "HBeAg"
                        },
                        "field": "HBeAg",
                        "type": "nominal"
                      }
                    },
                    "height": 150,
                    "width": 160,
                    "$schema": "https://vega.github.io/schema/vega-lite/v4.17.0.json",
                    "datasets": {
                      "data-e1b39e44a587bf217525c0969a715a4a": [
                        {
                          "HBeAg": "No",
                          "Record": 126
                        },
                        {
                          "HBeAg": null,
                          "Record": 39
                        }
                      ]
                    },
                    "vislib": "vegalite"
                  },
                  {
                    "config": {
                      "view": {
                        "continuousWidth": 400,
                        "continuousHeight": 300
                      },
                      "axis": {
                        "labelColor": "#505050",
                        "labelFont": "Helvetica Neue",
                        "labelFontSize": 9,
                        "labelFontWeight": 400,
                        "titleFont": "Helvetica Neue",
                        "titleFontSize": 11,
                        "titleFontWeight": 500
                      },
                      "legend": {
                        "labelFont": "Helvetica Neue",
                        "labelFontSize": 9,
                        "labelFontWeight": 400,
                        "titleFont": "Helvetica Neue",
                        "titleFontSize": 10,
                        "titleFontWeight": 500
                      },
                      "mark": {
                        "tooltip": {
                          "content": "encoding"
                        }
                      },
                      "title": {
                        "font": "Helvetica Neue",
                        "fontSize": 13,
                        "fontWeight": 500
                      }
                    },
                    "data": {
                      "name": "data-aabaf0ddb692d917557e21abcc4d1adc"
                    },
                    "mark": "bar",
                    "encoding": {
                      "x": {
                        "axis": {
                          "title": "Number of Records"
                        },
                        "field": "Record",
                        "title": "Number of Records",
                        "type": "quantitative"
                      },
                      "y": {
                        "axis": {
                          "labelOverlap": true,
                          "title": "Alcohol"
                        },
                        "field": "Alcohol",
                        "type": "nominal"
                      }
                    },
                    "height": 150,
                    "width": 160,
                    "$schema": "https://vega.github.io/schema/vega-lite/v4.17.0.json",
                    "datasets": {
                      "data-aabaf0ddb692d917557e21abcc4d1adc": [
                        {
                          "Alcohol": "No",
                          "Record": 43
                        },
                        {
                          "Alcohol": "Yes",
                          "Record": 122
                        }
                      ]
                    },
                    "vislib": "vegalite"
                  },
                  {
                    "config": {
                      "view": {
                        "continuousWidth": 400,
                        "continuousHeight": 300
                      },
                      "axis": {
                        "labelColor": "#505050",
                        "labelFont": "Helvetica Neue",
                        "labelFontSize": 9,
                        "labelFontWeight": 400,
                        "titleFont": "Helvetica Neue",
                        "titleFontSize": 11,
                        "titleFontWeight": 500
                      },
                      "legend": {
                        "labelFont": "Helvetica Neue",
                        "labelFontSize": 9,
                        "labelFontWeight": 400,
                        "titleFont": "Helvetica Neue",
                        "titleFontSize": 10,
                        "titleFontWeight": 500
                      },
                      "mark": {
                        "tooltip": {
                          "content": "encoding"
                        }
                      },
                      "title": {
                        "font": "Helvetica Neue",
                        "fontSize": 13,
                        "fontWeight": 500
                      }
                    },
                    "data": {
                      "name": "data-495d2d4c38c805fa26b8fe7a7c283b0c"
                    },
                    "mark": "bar",
                    "encoding": {
                      "x": {
                        "axis": {
                          "title": "Number of Records"
                        },
                        "field": "Record",
                        "title": "Number of Records",
                        "type": "quantitative"
                      },
                      "y": {
                        "axis": {
                          "labelOverlap": true,
                          "title": "PS"
                        },
                        "field": "PS",
                        "type": "nominal"
                      }
                    },
                    "height": 150,
                    "width": 160,
                    "$schema": "https://vega.github.io/schema/vega-lite/v4.17.0.json",
                    "datasets": {
                      "data-495d2d4c38c805fa26b8fe7a7c283b0c": [
                        {
                          "PS": "Active",
                          "Record": 80
                        },
                        {
                          "PS": "Ambulatory",
                          "Record": 32
                        },
                        {
                          "PS": "Disabled",
                          "Record": 5
                        },
                        {
                          "PS": "Restricted",
                          "Record": 30
                        },
                        {
                          "PS": "Selfcare",
                          "Record": 18
                        }
                      ]
                    },
                    "vislib": "vegalite"
                  },
                  {
                    "config": {
                      "view": {
                        "continuousWidth": 400,
                        "continuousHeight": 300
                      },
                      "axis": {
                        "labelColor": "#505050",
                        "labelFont": "Helvetica Neue",
                        "labelFontSize": 9,
                        "labelFontWeight": 400,
                        "titleFont": "Helvetica Neue",
                        "titleFontSize": 11,
                        "titleFontWeight": 500
                      },
                      "legend": {
                        "labelFont": "Helvetica Neue",
                        "labelFontSize": 9,
                        "labelFontWeight": 400,
                        "titleFont": "Helvetica Neue",
                        "titleFontSize": 10,
                        "titleFontWeight": 500
                      },
                      "mark": {
                        "tooltip": {
                          "content": "encoding"
                        }
                      },
                      "title": {
                        "font": "Helvetica Neue",
                        "fontSize": 13,
                        "fontWeight": 500
                      }
                    },
                    "data": {
                      "name": "data-21b712a62f90d41cd05cace07a7aaaf6"
                    },
                    "mark": "bar",
                    "encoding": {
                      "x": {
                        "axis": {
                          "title": "Number of Records"
                        },
                        "field": "Record",
                        "title": "Number of Records",
                        "type": "quantitative"
                      },
                      "y": {
                        "axis": {
                          "labelOverlap": true,
                          "title": "Outcome"
                        },
                        "field": "Outcome",
                        "type": "nominal"
                      }
                    },
                    "height": 150,
                    "width": 160,
                    "$schema": "https://vega.github.io/schema/vega-lite/v4.17.0.json",
                    "datasets": {
                      "data-21b712a62f90d41cd05cace07a7aaaf6": [
                        {
                          "Outcome": "Alive",
                          "Record": 102
                        },
                        {
                          "Outcome": "Dead",
                          "Record": 63
                        }
                      ]
                    },
                    "vislib": "vegalite"
                  },
                  {
                    "config": {
                      "view": {
                        "continuousWidth": 400,
                        "continuousHeight": 300
                      },
                      "axis": {
                        "labelColor": "#505050",
                        "labelFont": "Helvetica Neue",
                        "labelFontSize": 9,
                        "labelFontWeight": 400,
                        "titleFont": "Helvetica Neue",
                        "titleFontSize": 11,
                        "titleFontWeight": 500
                      },
                      "legend": {
                        "labelFont": "Helvetica Neue",
                        "labelFontSize": 9,
                        "labelFontWeight": 400,
                        "titleFont": "Helvetica Neue",
                        "titleFontSize": 10,
                        "titleFontWeight": 500
                      },
                      "mark": {
                        "tooltip": {
                          "content": "encoding"
                        }
                      },
                      "title": {
                        "font": "Helvetica Neue",
                        "fontSize": 13,
                        "fontWeight": 500
                      }
                    },
                    "layer": [
                      {
                        "data": {
                          "name": "data-b1a94e6887074027821a60cd04686ad8"
                        },
                        "mark": "bar",
                        "encoding": {
                          "x": {
                            "axis": {
                              "title": "Number of Records"
                            },
                            "field": "Record",
                            "title": "Number of Records",
                            "type": "quantitative"
                          },
                          "y": {
                            "axis": {
                              "labelOverlap": true,
                              "title": "Hallmark"
                            },
                            "field": "Hallmark",
                            "sort": "-x",
                            "type": "nominal"
                          }
                        }
                      },
                      {
                        "data": {
                          "name": "data-b1a94e6887074027821a60cd04686ad8"
                        },
                        "mark": {
                          "type": "text",
                          "align": "right",
                          "color": "#ff8e04",
                          "fontSize": 11,
                          "text": "+ 155 more ...",
                          "x": 155,
                          "y": 142
                        }
                      }
                    ],
                    "height": 150,
                    "width": 160,
                    "$schema": "https://vega.github.io/schema/vega-lite/v4.17.0.json",
                    "datasets": {
                      "data-b1a94e6887074027821a60cd04686ad8": [
                        {
                          "Hallmark": "AAYes",
                          "Record": 1
                        },
                        {
                          "Hallmark": "ABYes",
                          "Record": 1
                        },
                        {
                          "Hallmark": "ACYes",
                          "Record": 1
                        },
                        {
                          "Hallmark": "ADYes",
                          "Record": 1
                        },
                        {
                          "Hallmark": "AEYes",
                          "Record": 1
                        },
                        {
                          "Hallmark": "AFYes",
                          "Record": 1
                        },
                        {
                          "Hallmark": "AGYes",
                          "Record": 1
                        },
                        {
                          "Hallmark": "AHYes",
                          "Record": 1
                        },
                        {
                          "Hallmark": "AINo",
                          "Record": 1
                        },
                        {
                          "Hallmark": "AJNo",
                          "Record": 1
                        }
                      ]
                    },
                    "vislib": "vegalite"
                  }
                ]
              }
            ],
            "selectedIntentIndex": {}
          }
        },
        "7144c9620a53489d926cc070aee9d795": {
          "model_module": "@jupyter-widgets/controls",
          "model_name": "ButtonModel",
          "model_module_version": "1.5.0",
          "state": {
            "_dom_classes": [],
            "_model_module": "@jupyter-widgets/controls",
            "_model_module_version": "1.5.0",
            "_model_name": "ButtonModel",
            "_view_count": null,
            "_view_module": "@jupyter-widgets/controls",
            "_view_module_version": "1.5.0",
            "_view_name": "ButtonView",
            "button_style": "",
            "description": "Toggle Pandas/Lux",
            "disabled": false,
            "icon": "",
            "layout": "IPY_MODEL_e23e6372b0d54213b660c7679a9cafcf",
            "style": "IPY_MODEL_40f42ec1564f4bf4ae320b239edaf3d7",
            "tooltip": ""
          }
        },
        "e23e6372b0d54213b660c7679a9cafcf": {
          "model_module": "@jupyter-widgets/base",
          "model_name": "LayoutModel",
          "model_module_version": "1.2.0",
          "state": {
            "_model_module": "@jupyter-widgets/base",
            "_model_module_version": "1.2.0",
            "_model_name": "LayoutModel",
            "_view_count": null,
            "_view_module": "@jupyter-widgets/base",
            "_view_module_version": "1.2.0",
            "_view_name": "LayoutView",
            "align_content": null,
            "align_items": null,
            "align_self": null,
            "border": null,
            "bottom": null,
            "display": null,
            "flex": null,
            "flex_flow": null,
            "grid_area": null,
            "grid_auto_columns": null,
            "grid_auto_flow": null,
            "grid_auto_rows": null,
            "grid_column": null,
            "grid_gap": null,
            "grid_row": null,
            "grid_template_areas": null,
            "grid_template_columns": null,
            "grid_template_rows": null,
            "height": null,
            "justify_content": null,
            "justify_items": null,
            "left": null,
            "margin": null,
            "max_height": null,
            "max_width": null,
            "min_height": null,
            "min_width": null,
            "object_fit": null,
            "object_position": null,
            "order": null,
            "overflow": null,
            "overflow_x": null,
            "overflow_y": null,
            "padding": null,
            "right": null,
            "top": "5px",
            "visibility": null,
            "width": "140px"
          }
        },
        "40f42ec1564f4bf4ae320b239edaf3d7": {
          "model_module": "@jupyter-widgets/controls",
          "model_name": "ButtonStyleModel",
          "model_module_version": "1.5.0",
          "state": {
            "_model_module": "@jupyter-widgets/controls",
            "_model_module_version": "1.5.0",
            "_model_name": "ButtonStyleModel",
            "_view_count": null,
            "_view_module": "@jupyter-widgets/base",
            "_view_module_version": "1.2.0",
            "_view_name": "StyleView",
            "button_color": null,
            "font_weight": ""
          }
        },
        "795fa6bdc071480ea3a6441a30281692": {
          "model_module": "@jupyter-widgets/output",
          "model_name": "OutputModel",
          "model_module_version": "1.0.0",
          "state": {
            "_dom_classes": [],
            "_model_module": "@jupyter-widgets/output",
            "_model_module_version": "1.0.0",
            "_model_name": "OutputModel",
            "_view_count": null,
            "_view_module": "@jupyter-widgets/output",
            "_view_module_version": "1.0.0",
            "_view_name": "OutputView",
            "layout": "IPY_MODEL_bb54d200a13941a4afb7f96280ffd631",
            "msg_id": "",
            "outputs": [
              {
                "output_type": "display_data",
                "data": {
                  "text/plain": "LuxWidget(current_vis={'config': {'view': {'continuousWidth': 400, 'continuousHeight': 300}, 'axis': {'labelCo…",
                  "application/vnd.jupyter.widget-view+json": {
                    "version_major": 2,
                    "version_minor": 0,
                    "model_id": "5d44cc5c30b84174b83a60a2c65104a6"
                  }
                },
                "metadata": {
                  "application/vnd.jupyter.widget-view+json": {
                    "colab": {
                      "custom_widget_manager": {
                        "url": "https://ssl.gstatic.com/colaboratory-static/widgets/colab-cdn-widget-manager/b3e629b1971e1542/manager.min.js"
                      }
                    }
                  }
                }
              }
            ]
          }
        },
        "bb54d200a13941a4afb7f96280ffd631": {
          "model_module": "@jupyter-widgets/base",
          "model_name": "LayoutModel",
          "model_module_version": "1.2.0",
          "state": {
            "_model_module": "@jupyter-widgets/base",
            "_model_module_version": "1.2.0",
            "_model_name": "LayoutModel",
            "_view_count": null,
            "_view_module": "@jupyter-widgets/base",
            "_view_module_version": "1.2.0",
            "_view_name": "LayoutView",
            "align_content": null,
            "align_items": null,
            "align_self": null,
            "border": null,
            "bottom": null,
            "display": null,
            "flex": null,
            "flex_flow": null,
            "grid_area": null,
            "grid_auto_columns": null,
            "grid_auto_flow": null,
            "grid_auto_rows": null,
            "grid_column": null,
            "grid_gap": null,
            "grid_row": null,
            "grid_template_areas": null,
            "grid_template_columns": null,
            "grid_template_rows": null,
            "height": null,
            "justify_content": null,
            "justify_items": null,
            "left": null,
            "margin": null,
            "max_height": null,
            "max_width": null,
            "min_height": null,
            "min_width": null,
            "object_fit": null,
            "object_position": null,
            "order": null,
            "overflow": null,
            "overflow_x": null,
            "overflow_y": null,
            "padding": null,
            "right": null,
            "top": null,
            "visibility": null,
            "width": null
          }
        },
        "5d44cc5c30b84174b83a60a2c65104a6": {
          "model_module": "luxwidget",
          "model_name": "LuxModel",
          "model_module_version": "0.1.11",
          "state": {
            "_dom_classes": [],
            "_model_module": "luxwidget",
            "_model_module_version": "0.1.11",
            "_model_name": "LuxModel",
            "_selectedVisIdxs": {},
            "_view_count": null,
            "_view_module": "luxwidget",
            "_view_module_version": "0.1.11",
            "_view_name": "LuxWidgetView",
            "all_column": false,
            "current_vis": {
              "config": {
                "view": {
                  "continuousWidth": 400,
                  "continuousHeight": 300
                },
                "axis": {
                  "labelColor": "#505050",
                  "labelFont": "Helvetica Neue",
                  "labelFontSize": 9,
                  "labelFontWeight": 400,
                  "titleFont": "Helvetica Neue",
                  "titleFontSize": 11,
                  "titleFontWeight": 500
                },
                "legend": {
                  "labelFont": "Helvetica Neue",
                  "labelFontSize": 9,
                  "labelFontWeight": 400,
                  "titleFont": "Helvetica Neue",
                  "titleFontSize": 10,
                  "titleFontWeight": 500
                },
                "mark": {
                  "tooltip": {
                    "content": "encoding"
                  }
                },
                "title": {
                  "font": "Helvetica Neue",
                  "fontSize": 13,
                  "fontWeight": 500
                }
              },
              "data": {
                "name": "data-5058731212f8f97d1526075a530be4f0"
              },
              "mark": "bar",
              "encoding": {
                "color": {
                  "field": "Encephalopathy",
                  "type": "nominal"
                },
                "x": {
                  "axis": {
                    "title": "Number of Records"
                  },
                  "field": "Record",
                  "title": "Number of Records",
                  "type": "quantitative"
                },
                "y": {
                  "axis": {
                    "labelOverlap": true,
                    "title": "PS"
                  },
                  "field": "PS",
                  "type": "nominal"
                }
              },
              "height": 150,
              "width": 160,
              "$schema": "https://vega.github.io/schema/vega-lite/v4.17.0.json",
              "datasets": {
                "data-5058731212f8f97d1526075a530be4f0": [
                  {
                    "PS": "Active",
                    "Encephalopathy": "None",
                    "Record": 77
                  },
                  {
                    "PS": "Active",
                    "Encephalopathy": "Grade III/IV",
                    "Record": 0
                  },
                  {
                    "PS": "Active",
                    "Encephalopathy": "Grade I/II",
                    "Record": 2
                  },
                  {
                    "PS": "Active",
                    "Encephalopathy": null,
                    "Record": 1
                  },
                  {
                    "PS": "Ambulatory",
                    "Encephalopathy": "None",
                    "Record": 26
                  },
                  {
                    "PS": "Ambulatory",
                    "Encephalopathy": "Grade III/IV",
                    "Record": 0
                  },
                  {
                    "PS": "Ambulatory",
                    "Encephalopathy": "Grade I/II",
                    "Record": 6
                  },
                  {
                    "PS": "Ambulatory",
                    "Encephalopathy": null,
                    "Record": 0
                  },
                  {
                    "PS": "Disabled",
                    "Encephalopathy": null,
                    "Record": 0
                  },
                  {
                    "PS": "Disabled",
                    "Encephalopathy": "Grade I/II",
                    "Record": 1
                  },
                  {
                    "PS": "Disabled",
                    "Encephalopathy": "None",
                    "Record": 2
                  },
                  {
                    "PS": "Disabled",
                    "Encephalopathy": "Grade III/IV",
                    "Record": 2
                  },
                  {
                    "PS": "Restricted",
                    "Encephalopathy": "Grade I/II",
                    "Record": 3
                  },
                  {
                    "PS": "Restricted",
                    "Encephalopathy": null,
                    "Record": 0
                  },
                  {
                    "PS": "Restricted",
                    "Encephalopathy": "None",
                    "Record": 27
                  },
                  {
                    "PS": "Restricted",
                    "Encephalopathy": "Grade III/IV",
                    "Record": 0
                  },
                  {
                    "PS": "Selfcare",
                    "Encephalopathy": "Grade I/II",
                    "Record": 6
                  },
                  {
                    "PS": "Selfcare",
                    "Encephalopathy": null,
                    "Record": 0
                  },
                  {
                    "PS": "Selfcare",
                    "Encephalopathy": "None",
                    "Record": 10
                  },
                  {
                    "PS": "Selfcare",
                    "Encephalopathy": "Grade III/IV",
                    "Record": 2
                  }
                ]
              },
              "vislib": "vegalite",
              "allcols": false
            },
            "data": [],
            "deletedIndices": {},
            "intent": "PS, Encephalopathy",
            "layout": "IPY_MODEL_182c15b4013d4e508d2fad18e85289e5",
            "message": "",
            "plotting_scale": 1,
            "recommendations": [
              {
                "action": "Enhance",
                "description": "Further breaking down current <p class=\"highlight-intent\">PS, Encephalopathy</p> intent by additional attribute.",
                "long_description": "Enhance adds an additional attribute as the color to break down the <p class=\"highlight-intent\">PS, Encephalopathy</p> distribution",
                "vspec": [
                  {
                    "config": {
                      "view": {
                        "continuousWidth": 400,
                        "continuousHeight": 300
                      },
                      "axis": {
                        "labelColor": "#505050",
                        "labelFont": "Helvetica Neue",
                        "labelFontSize": 9,
                        "labelFontWeight": 400,
                        "titleFont": "Helvetica Neue",
                        "titleFontSize": 11,
                        "titleFontWeight": 500
                      },
                      "legend": {
                        "labelFont": "Helvetica Neue",
                        "labelFontSize": 9,
                        "labelFontWeight": 400,
                        "titleFont": "Helvetica Neue",
                        "titleFontSize": 10,
                        "titleFontWeight": 500
                      },
                      "mark": {
                        "tooltip": {
                          "content": "encoding"
                        }
                      },
                      "title": {
                        "font": "Helvetica Neue",
                        "fontSize": 13,
                        "fontWeight": 500
                      }
                    },
                    "data": {
                      "name": "data-a34916dee4a1e06e4771bac58fe4a358"
                    },
                    "mark": "bar",
                    "encoding": {
                      "color": {
                        "field": "Encephalopathy",
                        "type": "nominal"
                      },
                      "x": {
                        "axis": {
                          "title": "Mean of Ferritin"
                        },
                        "field": "Ferritin",
                        "title": "Mean of Ferritin",
                        "type": "quantitative"
                      },
                      "y": {
                        "axis": {
                          "labelOverlap": true,
                          "title": "PS"
                        },
                        "field": "PS",
                        "type": "nominal"
                      }
                    },
                    "height": 150,
                    "width": 160,
                    "$schema": "https://vega.github.io/schema/vega-lite/v4.17.0.json",
                    "datasets": {
                      "data-a34916dee4a1e06e4771bac58fe4a358": [
                        {
                          "PS": "Active",
                          "Encephalopathy": "None",
                          "Ferritin": 407.0272727272727
                        },
                        {
                          "PS": "Active",
                          "Encephalopathy": "Grade III/IV",
                          "Ferritin": 0
                        },
                        {
                          "PS": "Active",
                          "Encephalopathy": "Grade I/II",
                          "Ferritin": 221.5
                        },
                        {
                          "PS": "Active",
                          "Encephalopathy": null,
                          "Ferritin": 0
                        },
                        {
                          "PS": "Ambulatory",
                          "Encephalopathy": "None",
                          "Ferritin": 233.21428571428572
                        },
                        {
                          "PS": "Ambulatory",
                          "Encephalopathy": "Grade III/IV",
                          "Ferritin": 0
                        },
                        {
                          "PS": "Ambulatory",
                          "Encephalopathy": "Grade I/II",
                          "Ferritin": 412.6666666666667
                        },
                        {
                          "PS": "Ambulatory",
                          "Encephalopathy": null,
                          "Ferritin": 0
                        },
                        {
                          "PS": "Disabled",
                          "Encephalopathy": null,
                          "Ferritin": 0
                        },
                        {
                          "PS": "Disabled",
                          "Encephalopathy": "Grade I/II",
                          "Ferritin": 832
                        },
                        {
                          "PS": "Disabled",
                          "Encephalopathy": "None",
                          "Ferritin": 870
                        },
                        {
                          "PS": "Disabled",
                          "Encephalopathy": "Grade III/IV",
                          "Ferritin": 2165
                        },
                        {
                          "PS": "Restricted",
                          "Encephalopathy": "Grade I/II",
                          "Ferritin": 212
                        },
                        {
                          "PS": "Restricted",
                          "Encephalopathy": null,
                          "Ferritin": 0
                        },
                        {
                          "PS": "Restricted",
                          "Encephalopathy": "None",
                          "Ferritin": 565.625
                        },
                        {
                          "PS": "Restricted",
                          "Encephalopathy": "Grade III/IV",
                          "Ferritin": 0
                        },
                        {
                          "PS": "Selfcare",
                          "Encephalopathy": "Grade I/II",
                          "Ferritin": 712.5
                        },
                        {
                          "PS": "Selfcare",
                          "Encephalopathy": null,
                          "Ferritin": 0
                        },
                        {
                          "PS": "Selfcare",
                          "Encephalopathy": "None",
                          "Ferritin": 401.15000000000003
                        },
                        {
                          "PS": "Selfcare",
                          "Encephalopathy": "Grade III/IV",
                          "Ferritin": 169.5
                        }
                      ]
                    },
                    "vislib": "vegalite"
                  },
                  {
                    "config": {
                      "view": {
                        "continuousWidth": 400,
                        "continuousHeight": 300
                      },
                      "axis": {
                        "labelColor": "#505050",
                        "labelFont": "Helvetica Neue",
                        "labelFontSize": 9,
                        "labelFontWeight": 400,
                        "titleFont": "Helvetica Neue",
                        "titleFontSize": 11,
                        "titleFontWeight": 500
                      },
                      "legend": {
                        "labelFont": "Helvetica Neue",
                        "labelFontSize": 9,
                        "labelFontWeight": 400,
                        "titleFont": "Helvetica Neue",
                        "titleFontSize": 10,
                        "titleFontWeight": 500
                      },
                      "mark": {
                        "tooltip": {
                          "content": "encoding"
                        }
                      },
                      "title": {
                        "font": "Helvetica Neue",
                        "fontSize": 13,
                        "fontWeight": 500
                      }
                    },
                    "data": {
                      "name": "data-413f814f5dafd821c42444c86cf31bce"
                    },
                    "mark": "bar",
                    "encoding": {
                      "color": {
                        "field": "Encephalopathy",
                        "type": "nominal"
                      },
                      "x": {
                        "axis": {
                          "title": "Mean of MCV"
                        },
                        "field": "MCV",
                        "title": "Mean of MCV",
                        "type": "quantitative"
                      },
                      "y": {
                        "axis": {
                          "labelOverlap": true,
                          "title": "PS"
                        },
                        "field": "PS",
                        "type": "nominal"
                      }
                    },
                    "height": 150,
                    "width": 160,
                    "$schema": "https://vega.github.io/schema/vega-lite/v4.17.0.json",
                    "datasets": {
                      "data-413f814f5dafd821c42444c86cf31bce": [
                        {
                          "PS": "Active",
                          "Encephalopathy": "None",
                          "MCV": 95.3051948051948
                        },
                        {
                          "PS": "Active",
                          "Encephalopathy": "Grade III/IV",
                          "MCV": 0
                        },
                        {
                          "PS": "Active",
                          "Encephalopathy": "Grade I/II",
                          "MCV": 95.15
                        },
                        {
                          "PS": "Active",
                          "Encephalopathy": null,
                          "MCV": 94.8
                        },
                        {
                          "PS": "Ambulatory",
                          "Encephalopathy": "None",
                          "MCV": 93.86538461538461
                        },
                        {
                          "PS": "Ambulatory",
                          "Encephalopathy": "Grade III/IV",
                          "MCV": 0
                        },
                        {
                          "PS": "Ambulatory",
                          "Encephalopathy": "Grade I/II",
                          "MCV": 98.16666666666667
                        },
                        {
                          "PS": "Ambulatory",
                          "Encephalopathy": null,
                          "MCV": 0
                        },
                        {
                          "PS": "Disabled",
                          "Encephalopathy": null,
                          "MCV": 0
                        },
                        {
                          "PS": "Disabled",
                          "Encephalopathy": "Grade I/II",
                          "MCV": 89.5
                        },
                        {
                          "PS": "Disabled",
                          "Encephalopathy": "None",
                          "MCV": 110.15
                        },
                        {
                          "PS": "Disabled",
                          "Encephalopathy": "Grade III/IV",
                          "MCV": 102.35
                        },
                        {
                          "PS": "Restricted",
                          "Encephalopathy": "Grade I/II",
                          "MCV": 96.60000000000001
                        },
                        {
                          "PS": "Restricted",
                          "Encephalopathy": null,
                          "MCV": 0
                        },
                        {
                          "PS": "Restricted",
                          "Encephalopathy": "None",
                          "MCV": 94.28518518518518
                        },
                        {
                          "PS": "Restricted",
                          "Encephalopathy": "Grade III/IV",
                          "MCV": 0
                        },
                        {
                          "PS": "Selfcare",
                          "Encephalopathy": "Grade I/II",
                          "MCV": 98.8
                        },
                        {
                          "PS": "Selfcare",
                          "Encephalopathy": null,
                          "MCV": 0
                        },
                        {
                          "PS": "Selfcare",
                          "Encephalopathy": "None",
                          "MCV": 90.34
                        },
                        {
                          "PS": "Selfcare",
                          "Encephalopathy": "Grade III/IV",
                          "MCV": 102.95
                        }
                      ]
                    },
                    "vislib": "vegalite"
                  },
                  {
                    "config": {
                      "view": {
                        "continuousWidth": 400,
                        "continuousHeight": 300
                      },
                      "axis": {
                        "labelColor": "#505050",
                        "labelFont": "Helvetica Neue",
                        "labelFontSize": 9,
                        "labelFontWeight": 400,
                        "titleFont": "Helvetica Neue",
                        "titleFontSize": 11,
                        "titleFontWeight": 500
                      },
                      "legend": {
                        "labelFont": "Helvetica Neue",
                        "labelFontSize": 9,
                        "labelFontWeight": 400,
                        "titleFont": "Helvetica Neue",
                        "titleFontSize": 10,
                        "titleFontWeight": 500
                      },
                      "mark": {
                        "tooltip": {
                          "content": "encoding"
                        }
                      },
                      "title": {
                        "font": "Helvetica Neue",
                        "fontSize": 13,
                        "fontWeight": 500
                      }
                    },
                    "data": {
                      "name": "data-d16245c12af876971ea2ea3029ad0ebc"
                    },
                    "mark": "bar",
                    "encoding": {
                      "color": {
                        "field": "Encephalopathy",
                        "type": "nominal"
                      },
                      "x": {
                        "axis": {
                          "title": "Mean of Age"
                        },
                        "field": "Age",
                        "title": "Mean of Age",
                        "type": "quantitative"
                      },
                      "y": {
                        "axis": {
                          "labelOverlap": true,
                          "title": "PS"
                        },
                        "field": "PS",
                        "type": "nominal"
                      }
                    },
                    "height": 150,
                    "width": 160,
                    "$schema": "https://vega.github.io/schema/vega-lite/v4.17.0.json",
                    "datasets": {
                      "data-d16245c12af876971ea2ea3029ad0ebc": [
                        {
                          "PS": "Active",
                          "Encephalopathy": "None",
                          "Age": 63.48051948051948
                        },
                        {
                          "PS": "Active",
                          "Encephalopathy": "Grade III/IV",
                          "Age": 0
                        },
                        {
                          "PS": "Active",
                          "Encephalopathy": "Grade I/II",
                          "Age": 67
                        },
                        {
                          "PS": "Active",
                          "Encephalopathy": null,
                          "Age": 57
                        },
                        {
                          "PS": "Ambulatory",
                          "Encephalopathy": "None",
                          "Age": 64.96153846153847
                        },
                        {
                          "PS": "Ambulatory",
                          "Encephalopathy": "Grade III/IV",
                          "Age": 0
                        },
                        {
                          "PS": "Ambulatory",
                          "Encephalopathy": "Grade I/II",
                          "Age": 68
                        },
                        {
                          "PS": "Ambulatory",
                          "Encephalopathy": null,
                          "Age": 0
                        },
                        {
                          "PS": "Disabled",
                          "Encephalopathy": null,
                          "Age": 0
                        },
                        {
                          "PS": "Disabled",
                          "Encephalopathy": "Grade I/II",
                          "Age": 76
                        },
                        {
                          "PS": "Disabled",
                          "Encephalopathy": "None",
                          "Age": 78.5
                        },
                        {
                          "PS": "Disabled",
                          "Encephalopathy": "Grade III/IV",
                          "Age": 63
                        },
                        {
                          "PS": "Restricted",
                          "Encephalopathy": "Grade I/II",
                          "Age": 58.333333333333336
                        },
                        {
                          "PS": "Restricted",
                          "Encephalopathy": null,
                          "Age": 0
                        },
                        {
                          "PS": "Restricted",
                          "Encephalopathy": "None",
                          "Age": 63.629629629629626
                        },
                        {
                          "PS": "Restricted",
                          "Encephalopathy": "Grade III/IV",
                          "Age": 0
                        },
                        {
                          "PS": "Selfcare",
                          "Encephalopathy": "Grade I/II",
                          "Age": 69.5
                        },
                        {
                          "PS": "Selfcare",
                          "Encephalopathy": null,
                          "Age": 0
                        },
                        {
                          "PS": "Selfcare",
                          "Encephalopathy": "None",
                          "Age": 70.5
                        },
                        {
                          "PS": "Selfcare",
                          "Encephalopathy": "Grade III/IV",
                          "Age": 62
                        }
                      ]
                    },
                    "vislib": "vegalite"
                  },
                  {
                    "config": {
                      "view": {
                        "continuousWidth": 400,
                        "continuousHeight": 300
                      },
                      "axis": {
                        "labelColor": "#505050",
                        "labelFont": "Helvetica Neue",
                        "labelFontSize": 9,
                        "labelFontWeight": 400,
                        "titleFont": "Helvetica Neue",
                        "titleFontSize": 11,
                        "titleFontWeight": 500
                      },
                      "legend": {
                        "labelFont": "Helvetica Neue",
                        "labelFontSize": 9,
                        "labelFontWeight": 400,
                        "titleFont": "Helvetica Neue",
                        "titleFontSize": 10,
                        "titleFontWeight": 500
                      },
                      "mark": {
                        "tooltip": {
                          "content": "encoding"
                        }
                      },
                      "title": {
                        "font": "Helvetica Neue",
                        "fontSize": 13,
                        "fontWeight": 500
                      }
                    },
                    "data": {
                      "name": "data-3c2cfab8d301711a5fc3e6e474b12cd9"
                    },
                    "mark": "bar",
                    "encoding": {
                      "color": {
                        "field": "Encephalopathy",
                        "type": "nominal"
                      },
                      "x": {
                        "axis": {
                          "title": "Mean of Total_Bil"
                        },
                        "field": "Total_Bil",
                        "title": "Mean of Total_Bil",
                        "type": "quantitative"
                      },
                      "y": {
                        "axis": {
                          "labelOverlap": true,
                          "title": "PS"
                        },
                        "field": "PS",
                        "type": "nominal"
                      }
                    },
                    "height": 150,
                    "width": 160,
                    "$schema": "https://vega.github.io/schema/vega-lite/v4.17.0.json",
                    "datasets": {
                      "data-3c2cfab8d301711a5fc3e6e474b12cd9": [
                        {
                          "PS": "Active",
                          "Encephalopathy": "None",
                          "Total_Bil": 2.0555999999999996
                        },
                        {
                          "PS": "Active",
                          "Encephalopathy": "Grade III/IV",
                          "Total_Bil": 0
                        },
                        {
                          "PS": "Active",
                          "Encephalopathy": "Grade I/II",
                          "Total_Bil": 2.25
                        },
                        {
                          "PS": "Active",
                          "Encephalopathy": null,
                          "Total_Bil": 1.1
                        },
                        {
                          "PS": "Ambulatory",
                          "Encephalopathy": "None",
                          "Total_Bil": 3.252
                        },
                        {
                          "PS": "Ambulatory",
                          "Encephalopathy": "Grade III/IV",
                          "Total_Bil": 0
                        },
                        {
                          "PS": "Ambulatory",
                          "Encephalopathy": "Grade I/II",
                          "Total_Bil": 7.1499999999999995
                        },
                        {
                          "PS": "Ambulatory",
                          "Encephalopathy": null,
                          "Total_Bil": 0
                        },
                        {
                          "PS": "Disabled",
                          "Encephalopathy": null,
                          "Total_Bil": 0
                        },
                        {
                          "PS": "Disabled",
                          "Encephalopathy": "Grade I/II",
                          "Total_Bil": 1.5
                        },
                        {
                          "PS": "Disabled",
                          "Encephalopathy": "None",
                          "Total_Bil": 4.55
                        },
                        {
                          "PS": "Disabled",
                          "Encephalopathy": "Grade III/IV",
                          "Total_Bil": 29.75
                        },
                        {
                          "PS": "Restricted",
                          "Encephalopathy": "Grade I/II",
                          "Total_Bil": 3
                        },
                        {
                          "PS": "Restricted",
                          "Encephalopathy": null,
                          "Total_Bil": 0
                        },
                        {
                          "PS": "Restricted",
                          "Encephalopathy": "None",
                          "Total_Bil": 3.08
                        },
                        {
                          "PS": "Restricted",
                          "Encephalopathy": "Grade III/IV",
                          "Total_Bil": 0
                        },
                        {
                          "PS": "Selfcare",
                          "Encephalopathy": "Grade I/II",
                          "Total_Bil": 4.283333333333333
                        },
                        {
                          "PS": "Selfcare",
                          "Encephalopathy": null,
                          "Total_Bil": 0
                        },
                        {
                          "PS": "Selfcare",
                          "Encephalopathy": "None",
                          "Total_Bil": 2.07
                        },
                        {
                          "PS": "Selfcare",
                          "Encephalopathy": "Grade III/IV",
                          "Total_Bil": 3.8
                        }
                      ]
                    },
                    "vislib": "vegalite"
                  },
                  {
                    "config": {
                      "view": {
                        "continuousWidth": 400,
                        "continuousHeight": 300
                      },
                      "axis": {
                        "labelColor": "#505050",
                        "labelFont": "Helvetica Neue",
                        "labelFontSize": 9,
                        "labelFontWeight": 400,
                        "titleFont": "Helvetica Neue",
                        "titleFontSize": 11,
                        "titleFontWeight": 500
                      },
                      "legend": {
                        "labelFont": "Helvetica Neue",
                        "labelFontSize": 9,
                        "labelFontWeight": 400,
                        "titleFont": "Helvetica Neue",
                        "titleFontSize": 10,
                        "titleFontWeight": 500
                      },
                      "mark": {
                        "tooltip": {
                          "content": "encoding"
                        }
                      },
                      "title": {
                        "font": "Helvetica Neue",
                        "fontSize": 13,
                        "fontWeight": 500
                      }
                    },
                    "data": {
                      "name": "data-34dfe0009e0af2a92b27a58662d66d66"
                    },
                    "mark": "bar",
                    "encoding": {
                      "color": {
                        "field": "Encephalopathy",
                        "type": "nominal"
                      },
                      "x": {
                        "axis": {
                          "title": "Mean of Dir_Bil"
                        },
                        "field": "Dir_Bil",
                        "title": "Mean of Dir_Bil",
                        "type": "quantitative"
                      },
                      "y": {
                        "axis": {
                          "labelOverlap": true,
                          "title": "PS"
                        },
                        "field": "PS",
                        "type": "nominal"
                      }
                    },
                    "height": 150,
                    "width": 160,
                    "$schema": "https://vega.github.io/schema/vega-lite/v4.17.0.json",
                    "datasets": {
                      "data-34dfe0009e0af2a92b27a58662d66d66": [
                        {
                          "PS": "Active",
                          "Encephalopathy": "None",
                          "Dir_Bil": 1.0486538461538462
                        },
                        {
                          "PS": "Active",
                          "Encephalopathy": "Grade III/IV",
                          "Dir_Bil": 0
                        },
                        {
                          "PS": "Active",
                          "Encephalopathy": "Grade I/II",
                          "Dir_Bil": 1.9
                        },
                        {
                          "PS": "Active",
                          "Encephalopathy": null,
                          "Dir_Bil": 0.3
                        },
                        {
                          "PS": "Ambulatory",
                          "Encephalopathy": "None",
                          "Dir_Bil": 2.4473684210526314
                        },
                        {
                          "PS": "Ambulatory",
                          "Encephalopathy": "Grade III/IV",
                          "Dir_Bil": 0
                        },
                        {
                          "PS": "Ambulatory",
                          "Encephalopathy": "Grade I/II",
                          "Dir_Bil": 4.2
                        },
                        {
                          "PS": "Ambulatory",
                          "Encephalopathy": null,
                          "Dir_Bil": 0
                        },
                        {
                          "PS": "Disabled",
                          "Encephalopathy": null,
                          "Dir_Bil": 0
                        },
                        {
                          "PS": "Disabled",
                          "Encephalopathy": "Grade I/II",
                          "Dir_Bil": 0.5
                        },
                        {
                          "PS": "Disabled",
                          "Encephalopathy": "None",
                          "Dir_Bil": 2
                        },
                        {
                          "PS": "Disabled",
                          "Encephalopathy": "Grade III/IV",
                          "Dir_Bil": 19.5
                        },
                        {
                          "PS": "Restricted",
                          "Encephalopathy": "Grade I/II",
                          "Dir_Bil": 1.1333333333333333
                        },
                        {
                          "PS": "Restricted",
                          "Encephalopathy": null,
                          "Dir_Bil": 0
                        },
                        {
                          "PS": "Restricted",
                          "Encephalopathy": "None",
                          "Dir_Bil": 2.0842105263157897
                        },
                        {
                          "PS": "Restricted",
                          "Encephalopathy": "Grade III/IV",
                          "Dir_Bil": 0
                        },
                        {
                          "PS": "Selfcare",
                          "Encephalopathy": "Grade I/II",
                          "Dir_Bil": 1.7166666666666668
                        },
                        {
                          "PS": "Selfcare",
                          "Encephalopathy": null,
                          "Dir_Bil": 0
                        },
                        {
                          "PS": "Selfcare",
                          "Encephalopathy": "None",
                          "Dir_Bil": 1.2375
                        },
                        {
                          "PS": "Selfcare",
                          "Encephalopathy": "Grade III/IV",
                          "Dir_Bil": 1.2999999999999998
                        }
                      ]
                    },
                    "vislib": "vegalite"
                  },
                  {
                    "config": {
                      "view": {
                        "continuousWidth": 400,
                        "continuousHeight": 300
                      },
                      "axis": {
                        "labelColor": "#505050",
                        "labelFont": "Helvetica Neue",
                        "labelFontSize": 9,
                        "labelFontWeight": 400,
                        "titleFont": "Helvetica Neue",
                        "titleFontSize": 11,
                        "titleFontWeight": 500
                      },
                      "legend": {
                        "labelFont": "Helvetica Neue",
                        "labelFontSize": 9,
                        "labelFontWeight": 400,
                        "titleFont": "Helvetica Neue",
                        "titleFontSize": 10,
                        "titleFontWeight": 500
                      },
                      "mark": {
                        "tooltip": {
                          "content": "encoding"
                        }
                      },
                      "title": {
                        "font": "Helvetica Neue",
                        "fontSize": 13,
                        "fontWeight": 500
                      }
                    },
                    "data": {
                      "name": "data-1880b47928e078551214f959ed1edd78"
                    },
                    "mark": "bar",
                    "encoding": {
                      "color": {
                        "field": "Encephalopathy",
                        "type": "nominal"
                      },
                      "x": {
                        "axis": {
                          "title": "Mean of Hemoglobin"
                        },
                        "field": "Hemoglobin",
                        "title": "Mean of Hemoglobin",
                        "type": "quantitative"
                      },
                      "y": {
                        "axis": {
                          "labelOverlap": true,
                          "title": "PS"
                        },
                        "field": "PS",
                        "type": "nominal"
                      }
                    },
                    "height": 150,
                    "width": 160,
                    "$schema": "https://vega.github.io/schema/vega-lite/v4.17.0.json",
                    "datasets": {
                      "data-1880b47928e078551214f959ed1edd78": [
                        {
                          "PS": "Active",
                          "Encephalopathy": "None",
                          "Hemoglobin": 13.644
                        },
                        {
                          "PS": "Active",
                          "Encephalopathy": "Grade III/IV",
                          "Hemoglobin": 0
                        },
                        {
                          "PS": "Active",
                          "Encephalopathy": "Grade I/II",
                          "Hemoglobin": 13.899999999999999
                        },
                        {
                          "PS": "Active",
                          "Encephalopathy": null,
                          "Hemoglobin": 16.4
                        },
                        {
                          "PS": "Ambulatory",
                          "Encephalopathy": "None",
                          "Hemoglobin": 12.315999999999999
                        },
                        {
                          "PS": "Ambulatory",
                          "Encephalopathy": "Grade III/IV",
                          "Hemoglobin": 0
                        },
                        {
                          "PS": "Ambulatory",
                          "Encephalopathy": "Grade I/II",
                          "Hemoglobin": 12.1
                        },
                        {
                          "PS": "Ambulatory",
                          "Encephalopathy": null,
                          "Hemoglobin": 0
                        },
                        {
                          "PS": "Disabled",
                          "Encephalopathy": null,
                          "Hemoglobin": 0
                        },
                        {
                          "PS": "Disabled",
                          "Encephalopathy": "Grade I/II",
                          "Hemoglobin": 14.3
                        },
                        {
                          "PS": "Disabled",
                          "Encephalopathy": "None",
                          "Hemoglobin": 13.1
                        },
                        {
                          "PS": "Disabled",
                          "Encephalopathy": "Grade III/IV",
                          "Hemoglobin": 12.75
                        },
                        {
                          "PS": "Restricted",
                          "Encephalopathy": "Grade I/II",
                          "Hemoglobin": 13.066666666666668
                        },
                        {
                          "PS": "Restricted",
                          "Encephalopathy": null,
                          "Hemoglobin": 0
                        },
                        {
                          "PS": "Restricted",
                          "Encephalopathy": "None",
                          "Hemoglobin": 12.296296296296296
                        },
                        {
                          "PS": "Restricted",
                          "Encephalopathy": "Grade III/IV",
                          "Hemoglobin": 0
                        },
                        {
                          "PS": "Selfcare",
                          "Encephalopathy": "Grade I/II",
                          "Hemoglobin": 12.283333333333333
                        },
                        {
                          "PS": "Selfcare",
                          "Encephalopathy": null,
                          "Hemoglobin": 0
                        },
                        {
                          "PS": "Selfcare",
                          "Encephalopathy": "None",
                          "Hemoglobin": 10.93
                        },
                        {
                          "PS": "Selfcare",
                          "Encephalopathy": "Grade III/IV",
                          "Hemoglobin": 9.100000000000001
                        }
                      ]
                    },
                    "vislib": "vegalite"
                  }
                ]
              },
              {
                "action": "Filter",
                "description": "Applying filters to the <p class='highlight-intent'>PS, Encephalopathy</p> intent.",
                "long_description": "Adding any filter while keeping the attributes on the x and y axes fixed. Visualizations are ranked based on interestingness",
                "vspec": [
                  {
                    "config": {
                      "view": {
                        "continuousWidth": 400,
                        "continuousHeight": 300
                      },
                      "axis": {
                        "labelColor": "#505050",
                        "labelFont": "Helvetica Neue",
                        "labelFontSize": 9,
                        "labelFontWeight": 400,
                        "titleFont": "Helvetica Neue",
                        "titleFontSize": 11,
                        "titleFontWeight": 500
                      },
                      "legend": {
                        "labelFont": "Helvetica Neue",
                        "labelFontSize": 9,
                        "labelFontWeight": 400,
                        "titleFont": "Helvetica Neue",
                        "titleFontSize": 10,
                        "titleFontWeight": 500
                      },
                      "mark": {
                        "tooltip": {
                          "content": "encoding"
                        }
                      },
                      "title": {
                        "font": "Helvetica Neue",
                        "fontSize": 13,
                        "fontWeight": 500
                      }
                    },
                    "data": {
                      "name": "data-06b9180a54d2f3f444f9cd6716be326e"
                    },
                    "mark": "bar",
                    "encoding": {
                      "x": {
                        "axis": {
                          "title": "Number of Records"
                        },
                        "field": "Record",
                        "title": "Number of Records",
                        "type": "quantitative"
                      },
                      "y": {
                        "axis": {
                          "labelOverlap": true,
                          "title": "PS"
                        },
                        "field": "PS",
                        "type": "nominal"
                      }
                    },
                    "height": 150,
                    "title": "Alcohol = No",
                    "width": 160,
                    "$schema": "https://vega.github.io/schema/vega-lite/v4.17.0.json",
                    "datasets": {
                      "data-06b9180a54d2f3f444f9cd6716be326e": [
                        {
                          "PS": "Active",
                          "Record": 25
                        },
                        {
                          "PS": "Ambulatory",
                          "Record": 7
                        },
                        {
                          "PS": "Disabled",
                          "Record": 1
                        },
                        {
                          "PS": "Restricted",
                          "Record": 9
                        },
                        {
                          "PS": "Selfcare",
                          "Record": 1
                        }
                      ]
                    },
                    "vislib": "vegalite"
                  },
                  {
                    "config": {
                      "view": {
                        "continuousWidth": 400,
                        "continuousHeight": 300
                      },
                      "axis": {
                        "labelColor": "#505050",
                        "labelFont": "Helvetica Neue",
                        "labelFontSize": 9,
                        "labelFontWeight": 400,
                        "titleFont": "Helvetica Neue",
                        "titleFontSize": 11,
                        "titleFontWeight": 500
                      },
                      "legend": {
                        "labelFont": "Helvetica Neue",
                        "labelFontSize": 9,
                        "labelFontWeight": 400,
                        "titleFont": "Helvetica Neue",
                        "titleFontSize": 10,
                        "titleFontWeight": 500
                      },
                      "mark": {
                        "tooltip": {
                          "content": "encoding"
                        }
                      },
                      "title": {
                        "font": "Helvetica Neue",
                        "fontSize": 13,
                        "fontWeight": 500
                      }
                    },
                    "data": {
                      "name": "data-b47d5381bb76ecab7c5e7ef65fb9274c"
                    },
                    "mark": "bar",
                    "encoding": {
                      "x": {
                        "axis": {
                          "title": "Number of Records"
                        },
                        "field": "Record",
                        "title": "Number of Records",
                        "type": "quantitative"
                      },
                      "y": {
                        "axis": {
                          "labelOverlap": true,
                          "title": "PS"
                        },
                        "field": "PS",
                        "type": "nominal"
                      }
                    },
                    "height": 150,
                    "title": "Gender = Male",
                    "width": 160,
                    "$schema": "https://vega.github.io/schema/vega-lite/v4.17.0.json",
                    "datasets": {
                      "data-b47d5381bb76ecab7c5e7ef65fb9274c": [
                        {
                          "PS": "Active",
                          "Record": 64
                        },
                        {
                          "PS": "Ambulatory",
                          "Record": 21
                        },
                        {
                          "PS": "Disabled",
                          "Record": 5
                        },
                        {
                          "PS": "Restricted",
                          "Record": 26
                        },
                        {
                          "PS": "Selfcare",
                          "Record": 17
                        }
                      ]
                    },
                    "vislib": "vegalite"
                  },
                  {
                    "config": {
                      "view": {
                        "continuousWidth": 400,
                        "continuousHeight": 300
                      },
                      "axis": {
                        "labelColor": "#505050",
                        "labelFont": "Helvetica Neue",
                        "labelFontSize": 9,
                        "labelFontWeight": 400,
                        "titleFont": "Helvetica Neue",
                        "titleFontSize": 11,
                        "titleFontWeight": 500
                      },
                      "legend": {
                        "labelFont": "Helvetica Neue",
                        "labelFontSize": 9,
                        "labelFontWeight": 400,
                        "titleFont": "Helvetica Neue",
                        "titleFontSize": 10,
                        "titleFontWeight": 500
                      },
                      "mark": {
                        "tooltip": {
                          "content": "encoding"
                        }
                      },
                      "title": {
                        "font": "Helvetica Neue",
                        "fontSize": 13,
                        "fontWeight": 500
                      }
                    },
                    "data": {
                      "name": "data-3f48a65be39aa9043f725fad05d8836d"
                    },
                    "mark": "bar",
                    "encoding": {
                      "x": {
                        "axis": {
                          "title": "Number of Records"
                        },
                        "field": "Record",
                        "title": "Number of Records",
                        "type": "quantitative"
                      },
                      "y": {
                        "axis": {
                          "labelOverlap": true,
                          "title": "PS"
                        },
                        "field": "PS",
                        "type": "nominal"
                      }
                    },
                    "height": 150,
                    "title": "Outcome = Alive",
                    "width": 160,
                    "$schema": "https://vega.github.io/schema/vega-lite/v4.17.0.json",
                    "datasets": {
                      "data-3f48a65be39aa9043f725fad05d8836d": [
                        {
                          "PS": "Active",
                          "Record": 63
                        },
                        {
                          "PS": "Ambulatory",
                          "Record": 17
                        },
                        {
                          "PS": "Disabled",
                          "Record": 0
                        },
                        {
                          "PS": "Restricted",
                          "Record": 16
                        },
                        {
                          "PS": "Selfcare",
                          "Record": 6
                        }
                      ]
                    },
                    "vislib": "vegalite"
                  },
                  {
                    "config": {
                      "view": {
                        "continuousWidth": 400,
                        "continuousHeight": 300
                      },
                      "axis": {
                        "labelColor": "#505050",
                        "labelFont": "Helvetica Neue",
                        "labelFontSize": 9,
                        "labelFontWeight": 400,
                        "titleFont": "Helvetica Neue",
                        "titleFontSize": 11,
                        "titleFontWeight": 500
                      },
                      "legend": {
                        "labelFont": "Helvetica Neue",
                        "labelFontSize": 9,
                        "labelFontWeight": 400,
                        "titleFont": "Helvetica Neue",
                        "titleFontSize": 10,
                        "titleFontWeight": 500
                      },
                      "mark": {
                        "tooltip": {
                          "content": "encoding"
                        }
                      },
                      "title": {
                        "font": "Helvetica Neue",
                        "fontSize": 13,
                        "fontWeight": 500
                      }
                    },
                    "data": {
                      "name": "data-30d2f4874b4d41bc3c2628c061bf8119"
                    },
                    "mark": "bar",
                    "encoding": {
                      "x": {
                        "axis": {
                          "title": "Number of Records"
                        },
                        "field": "Record",
                        "title": "Number of Records",
                        "type": "quantitative"
                      },
                      "y": {
                        "axis": {
                          "labelOverlap": true,
                          "title": "PS"
                        },
                        "field": "PS",
                        "type": "nominal"
                      }
                    },
                    "height": 150,
                    "title": "Outcome = Dead",
                    "width": 160,
                    "$schema": "https://vega.github.io/schema/vega-lite/v4.17.0.json",
                    "datasets": {
                      "data-30d2f4874b4d41bc3c2628c061bf8119": [
                        {
                          "PS": "Active",
                          "Record": 17
                        },
                        {
                          "PS": "Ambulatory",
                          "Record": 15
                        },
                        {
                          "PS": "Disabled",
                          "Record": 5
                        },
                        {
                          "PS": "Restricted",
                          "Record": 14
                        },
                        {
                          "PS": "Selfcare",
                          "Record": 12
                        }
                      ]
                    },
                    "vislib": "vegalite"
                  },
                  {
                    "config": {
                      "view": {
                        "continuousWidth": 400,
                        "continuousHeight": 300
                      },
                      "axis": {
                        "labelColor": "#505050",
                        "labelFont": "Helvetica Neue",
                        "labelFontSize": 9,
                        "labelFontWeight": 400,
                        "titleFont": "Helvetica Neue",
                        "titleFontSize": 11,
                        "titleFontWeight": 500
                      },
                      "legend": {
                        "labelFont": "Helvetica Neue",
                        "labelFontSize": 9,
                        "labelFontWeight": 400,
                        "titleFont": "Helvetica Neue",
                        "titleFontSize": 10,
                        "titleFontWeight": 500
                      },
                      "mark": {
                        "tooltip": {
                          "content": "encoding"
                        }
                      },
                      "title": {
                        "font": "Helvetica Neue",
                        "fontSize": 13,
                        "fontWeight": 500
                      }
                    },
                    "data": {
                      "name": "data-1b2677671ddb8661afa877e57c73dc6f"
                    },
                    "mark": "bar",
                    "encoding": {
                      "x": {
                        "axis": {
                          "title": "Number of Records"
                        },
                        "field": "Record",
                        "title": "Number of Records",
                        "type": "quantitative"
                      },
                      "y": {
                        "axis": {
                          "labelOverlap": true,
                          "title": "PS"
                        },
                        "field": "PS",
                        "type": "nominal"
                      }
                    },
                    "height": 150,
                    "title": "HBeAg = No",
                    "width": 160,
                    "$schema": "https://vega.github.io/schema/vega-lite/v4.17.0.json",
                    "datasets": {
                      "data-1b2677671ddb8661afa877e57c73dc6f": [
                        {
                          "PS": "Active",
                          "Record": 60
                        },
                        {
                          "PS": "Ambulatory",
                          "Record": 24
                        },
                        {
                          "PS": "Disabled",
                          "Record": 3
                        },
                        {
                          "PS": "Restricted",
                          "Record": 24
                        },
                        {
                          "PS": "Selfcare",
                          "Record": 15
                        }
                      ]
                    },
                    "vislib": "vegalite"
                  },
                  {
                    "config": {
                      "view": {
                        "continuousWidth": 400,
                        "continuousHeight": 300
                      },
                      "axis": {
                        "labelColor": "#505050",
                        "labelFont": "Helvetica Neue",
                        "labelFontSize": 9,
                        "labelFontWeight": 400,
                        "titleFont": "Helvetica Neue",
                        "titleFontSize": 11,
                        "titleFontWeight": 500
                      },
                      "legend": {
                        "labelFont": "Helvetica Neue",
                        "labelFontSize": 9,
                        "labelFontWeight": 400,
                        "titleFont": "Helvetica Neue",
                        "titleFontSize": 10,
                        "titleFontWeight": 500
                      },
                      "mark": {
                        "tooltip": {
                          "content": "encoding"
                        }
                      },
                      "title": {
                        "font": "Helvetica Neue",
                        "fontSize": 13,
                        "fontWeight": 500
                      }
                    },
                    "data": {
                      "name": "data-32bf4ed981a3b444ad3c064eaed97c4f"
                    },
                    "mark": "bar",
                    "encoding": {
                      "x": {
                        "axis": {
                          "title": "Number of Records"
                        },
                        "field": "Record",
                        "title": "Number of Records",
                        "type": "quantitative"
                      },
                      "y": {
                        "axis": {
                          "labelOverlap": true,
                          "title": "PS"
                        },
                        "field": "PS",
                        "type": "nominal"
                      }
                    },
                    "height": 150,
                    "title": "Alcohol = Yes",
                    "width": 160,
                    "$schema": "https://vega.github.io/schema/vega-lite/v4.17.0.json",
                    "datasets": {
                      "data-32bf4ed981a3b444ad3c064eaed97c4f": [
                        {
                          "PS": "Active",
                          "Record": 55
                        },
                        {
                          "PS": "Ambulatory",
                          "Record": 25
                        },
                        {
                          "PS": "Disabled",
                          "Record": 4
                        },
                        {
                          "PS": "Restricted",
                          "Record": 21
                        },
                        {
                          "PS": "Selfcare",
                          "Record": 17
                        }
                      ]
                    },
                    "vislib": "vegalite"
                  },
                  {
                    "config": {
                      "view": {
                        "continuousWidth": 400,
                        "continuousHeight": 300
                      },
                      "axis": {
                        "labelColor": "#505050",
                        "labelFont": "Helvetica Neue",
                        "labelFontSize": 9,
                        "labelFontWeight": 400,
                        "titleFont": "Helvetica Neue",
                        "titleFontSize": 11,
                        "titleFontWeight": 500
                      },
                      "legend": {
                        "labelFont": "Helvetica Neue",
                        "labelFontSize": 9,
                        "labelFontWeight": 400,
                        "titleFont": "Helvetica Neue",
                        "titleFontSize": 10,
                        "titleFontWeight": 500
                      },
                      "mark": {
                        "tooltip": {
                          "content": "encoding"
                        }
                      },
                      "title": {
                        "font": "Helvetica Neue",
                        "fontSize": 13,
                        "fontWeight": 500
                      }
                    },
                    "data": {
                      "name": "data-f5d75c8a5bcc5b4bd5a7e8823dcedc1f"
                    },
                    "mark": "bar",
                    "encoding": {
                      "x": {
                        "axis": {
                          "title": "Number of Records"
                        },
                        "field": "Record",
                        "title": "Number of Records",
                        "type": "quantitative"
                      },
                      "y": {
                        "axis": {
                          "labelOverlap": true,
                          "title": "PS"
                        },
                        "field": "PS",
                        "type": "nominal"
                      }
                    },
                    "height": 150,
                    "title": "Gender = Female",
                    "width": 160,
                    "$schema": "https://vega.github.io/schema/vega-lite/v4.17.0.json",
                    "datasets": {
                      "data-f5d75c8a5bcc5b4bd5a7e8823dcedc1f": [
                        {
                          "PS": "Active",
                          "Record": 16
                        },
                        {
                          "PS": "Ambulatory",
                          "Record": 11
                        },
                        {
                          "PS": "Disabled",
                          "Record": 0
                        },
                        {
                          "PS": "Restricted",
                          "Record": 4
                        },
                        {
                          "PS": "Selfcare",
                          "Record": 1
                        }
                      ]
                    },
                    "vislib": "vegalite"
                  },
                  {
                    "config": {
                      "view": {
                        "continuousWidth": 400,
                        "continuousHeight": 300
                      },
                      "axis": {
                        "labelColor": "#505050",
                        "labelFont": "Helvetica Neue",
                        "labelFontSize": 9,
                        "labelFontWeight": 400,
                        "titleFont": "Helvetica Neue",
                        "titleFontSize": 11,
                        "titleFontWeight": 500
                      },
                      "legend": {
                        "labelFont": "Helvetica Neue",
                        "labelFontSize": 9,
                        "labelFontWeight": 400,
                        "titleFont": "Helvetica Neue",
                        "titleFontSize": 10,
                        "titleFontWeight": 500
                      },
                      "mark": {
                        "tooltip": {
                          "content": "encoding"
                        }
                      },
                      "title": {
                        "font": "Helvetica Neue",
                        "fontSize": 13,
                        "fontWeight": 500
                      }
                    },
                    "data": {
                      "name": "data-96d4386571b88cd6d184905438f57ac7"
                    },
                    "mark": "bar",
                    "encoding": {
                      "x": {
                        "axis": {
                          "title": "Number of Records"
                        },
                        "field": "Record",
                        "title": "Number of Records",
                        "type": "quantitative"
                      },
                      "y": {
                        "axis": {
                          "labelOverlap": true,
                          "title": "PS"
                        },
                        "field": "PS",
                        "type": "nominal"
                      }
                    },
                    "height": 150,
                    "title": "HBeAg = nan",
                    "width": 160,
                    "$schema": "https://vega.github.io/schema/vega-lite/v4.17.0.json",
                    "datasets": {
                      "data-96d4386571b88cd6d184905438f57ac7": [
                        {
                          "PS": "Active",
                          "Record": 20
                        },
                        {
                          "PS": "Ambulatory",
                          "Record": 8
                        },
                        {
                          "PS": "Disabled",
                          "Record": 2
                        },
                        {
                          "PS": "Restricted",
                          "Record": 6
                        },
                        {
                          "PS": "Selfcare",
                          "Record": 3
                        }
                      ]
                    },
                    "vislib": "vegalite"
                  }
                ]
              },
              {
                "action": "Generalize",
                "description": "Remove an attribute or filter from <p class=\"highlight-intent\">PS, Encephalopathy</p>.",
                "long_description": "Remove one aspect of the Current Vis. We can either remove an attribute or filter from <p class=\"highlight-intent\">PS, Encephalopathy</p>.",
                "vspec": [
                  {
                    "config": {
                      "view": {
                        "continuousWidth": 400,
                        "continuousHeight": 300
                      },
                      "axis": {
                        "labelColor": "#505050",
                        "labelFont": "Helvetica Neue",
                        "labelFontSize": 9,
                        "labelFontWeight": 400,
                        "titleFont": "Helvetica Neue",
                        "titleFontSize": 11,
                        "titleFontWeight": 500
                      },
                      "legend": {
                        "labelFont": "Helvetica Neue",
                        "labelFontSize": 9,
                        "labelFontWeight": 400,
                        "titleFont": "Helvetica Neue",
                        "titleFontSize": 10,
                        "titleFontWeight": 500
                      },
                      "mark": {
                        "tooltip": {
                          "content": "encoding"
                        }
                      },
                      "title": {
                        "font": "Helvetica Neue",
                        "fontSize": 13,
                        "fontWeight": 500
                      }
                    },
                    "data": {
                      "name": "data-495d2d4c38c805fa26b8fe7a7c283b0c"
                    },
                    "mark": "bar",
                    "encoding": {
                      "x": {
                        "axis": {
                          "title": "Number of Records"
                        },
                        "field": "Record",
                        "title": "Number of Records",
                        "type": "quantitative"
                      },
                      "y": {
                        "axis": {
                          "labelOverlap": true,
                          "title": "PS"
                        },
                        "field": "PS",
                        "type": "nominal"
                      }
                    },
                    "height": 150,
                    "width": 160,
                    "$schema": "https://vega.github.io/schema/vega-lite/v4.17.0.json",
                    "datasets": {
                      "data-495d2d4c38c805fa26b8fe7a7c283b0c": [
                        {
                          "PS": "Active",
                          "Record": 80
                        },
                        {
                          "PS": "Ambulatory",
                          "Record": 32
                        },
                        {
                          "PS": "Disabled",
                          "Record": 5
                        },
                        {
                          "PS": "Restricted",
                          "Record": 30
                        },
                        {
                          "PS": "Selfcare",
                          "Record": 18
                        }
                      ]
                    },
                    "vislib": "vegalite"
                  },
                  {
                    "config": {
                      "view": {
                        "continuousWidth": 400,
                        "continuousHeight": 300
                      },
                      "axis": {
                        "labelColor": "#505050",
                        "labelFont": "Helvetica Neue",
                        "labelFontSize": 9,
                        "labelFontWeight": 400,
                        "titleFont": "Helvetica Neue",
                        "titleFontSize": 11,
                        "titleFontWeight": 500
                      },
                      "legend": {
                        "labelFont": "Helvetica Neue",
                        "labelFontSize": 9,
                        "labelFontWeight": 400,
                        "titleFont": "Helvetica Neue",
                        "titleFontSize": 10,
                        "titleFontWeight": 500
                      },
                      "mark": {
                        "tooltip": {
                          "content": "encoding"
                        }
                      },
                      "title": {
                        "font": "Helvetica Neue",
                        "fontSize": 13,
                        "fontWeight": 500
                      }
                    },
                    "data": {
                      "name": "data-3f3413eb2833f12753d78976cb1cfb6e"
                    },
                    "mark": "bar",
                    "encoding": {
                      "x": {
                        "axis": {
                          "title": "Number of Records"
                        },
                        "field": "Record",
                        "title": "Number of Records",
                        "type": "quantitative"
                      },
                      "y": {
                        "axis": {
                          "labelOverlap": true,
                          "title": "Encephalopathy"
                        },
                        "field": "Encephalopathy",
                        "type": "nominal"
                      }
                    },
                    "height": 150,
                    "width": 160,
                    "$schema": "https://vega.github.io/schema/vega-lite/v4.17.0.json",
                    "datasets": {
                      "data-3f3413eb2833f12753d78976cb1cfb6e": [
                        {
                          "Encephalopathy": "Grade I/II",
                          "Record": 18
                        },
                        {
                          "Encephalopathy": "Grade III/IV",
                          "Record": 4
                        },
                        {
                          "Encephalopathy": "None",
                          "Record": 142
                        },
                        {
                          "Encephalopathy": null,
                          "Record": 1
                        }
                      ]
                    },
                    "vislib": "vegalite"
                  }
                ]
              }
            ],
            "selectedIntentIndex": {}
          }
        },
        "182c15b4013d4e508d2fad18e85289e5": {
          "model_module": "@jupyter-widgets/base",
          "model_name": "LayoutModel",
          "model_module_version": "1.2.0",
          "state": {
            "_model_module": "@jupyter-widgets/base",
            "_model_module_version": "1.2.0",
            "_model_name": "LayoutModel",
            "_view_count": null,
            "_view_module": "@jupyter-widgets/base",
            "_view_module_version": "1.2.0",
            "_view_name": "LayoutView",
            "align_content": null,
            "align_items": null,
            "align_self": null,
            "border": null,
            "bottom": null,
            "display": null,
            "flex": null,
            "flex_flow": null,
            "grid_area": null,
            "grid_auto_columns": null,
            "grid_auto_flow": null,
            "grid_auto_rows": null,
            "grid_column": null,
            "grid_gap": null,
            "grid_row": null,
            "grid_template_areas": null,
            "grid_template_columns": null,
            "grid_template_rows": null,
            "height": null,
            "justify_content": null,
            "justify_items": null,
            "left": null,
            "margin": null,
            "max_height": null,
            "max_width": null,
            "min_height": null,
            "min_width": null,
            "object_fit": null,
            "object_position": null,
            "order": null,
            "overflow": null,
            "overflow_x": null,
            "overflow_y": null,
            "padding": null,
            "right": null,
            "top": null,
            "visibility": null,
            "width": null
          }
        }
      }
    }
  },
  "cells": [
    {
      "cell_type": "markdown",
      "source": [
        "# Installation\n",
        "To use lux, you can simply install the package from pip. To do this inside a notebook use the shell command (\"!\").\n",
        "\n",
        "\n"
      ],
      "metadata": {
        "id": "e8zIV94KQ9cT"
      }
    },
    {
      "cell_type": "code",
      "source": [
        "!pip install lux==0.5.1"
      ],
      "metadata": {
        "colab": {
          "base_uri": "https://localhost:8080/",
          "height": 1000
        },
        "id": "4xvV5IX0sYrb",
        "outputId": "f910bb0e-3d1d-44aa-9c12-36a92a5afe63"
      },
      "execution_count": 1,
      "outputs": [
        {
          "output_type": "stream",
          "name": "stdout",
          "text": [
            "Looking in indexes: https://pypi.org/simple, https://us-python.pkg.dev/colab-wheels/public/simple/\n",
            "Collecting lux==0.5.1\n",
            "  Downloading lux-0.5.1.tar.gz (14 kB)\n",
            "  Preparing metadata (setup.py) ... \u001b[?25l\u001b[?25hdone\n",
            "Collecting lux-api\n",
            "  Downloading lux-api-0.5.1.tar.gz (127 kB)\n",
            "\u001b[2K     \u001b[90m━━━━━━━━━━━━━━━━━━━━━━━━━━━━━━━━━━━━━━━\u001b[0m \u001b[32m127.0/127.0 KB\u001b[0m \u001b[31m3.1 MB/s\u001b[0m eta \u001b[36m0:00:00\u001b[0m\n",
            "\u001b[?25h  Installing build dependencies ... \u001b[?25l\u001b[?25hdone\n",
            "  Getting requirements to build wheel ... \u001b[?25l\u001b[?25hdone\n",
            "  Preparing metadata (pyproject.toml) ... \u001b[?25l\u001b[?25hdone\n",
            "Collecting lux-widget\n",
            "  Downloading lux-widget-0.1.11.tar.gz (2.5 MB)\n",
            "\u001b[2K     \u001b[90m━━━━━━━━━━━━━━━━━━━━━━━━━━━━━━━━━━━━━━━━\u001b[0m \u001b[32m2.5/2.5 MB\u001b[0m \u001b[31m33.9 MB/s\u001b[0m eta \u001b[36m0:00:00\u001b[0m\n",
            "\u001b[?25h  Preparing metadata (setup.py) ... \u001b[?25l\u001b[?25hdone\n",
            "Requirement already satisfied: scikit-learn>=0.22 in /usr/local/lib/python3.8/dist-packages (from lux-api->lux==0.5.1) (1.0.2)\n",
            "Collecting sh\n",
            "  Downloading sh-2.0.2-py3-none-any.whl (38 kB)\n",
            "Collecting iso3166\n",
            "  Downloading iso3166-2.1.1-py3-none-any.whl (9.8 kB)\n",
            "Requirement already satisfied: numpy>=1.16.5 in /usr/local/lib/python3.8/dist-packages (from lux-api->lux==0.5.1) (1.21.6)\n",
            "Requirement already satisfied: pandas in /usr/local/lib/python3.8/dist-packages (from lux-api->lux==0.5.1) (1.3.5)\n",
            "Collecting psutil>=5.9.0\n",
            "  Downloading psutil-5.9.4-cp36-abi3-manylinux_2_12_x86_64.manylinux2010_x86_64.manylinux_2_17_x86_64.manylinux2014_x86_64.whl (280 kB)\n",
            "\u001b[2K     \u001b[90m━━━━━━━━━━━━━━━━━━━━━━━━━━━━━━━━━━━━━━\u001b[0m \u001b[32m280.2/280.2 KB\u001b[0m \u001b[31m13.6 MB/s\u001b[0m eta \u001b[36m0:00:00\u001b[0m\n",
            "\u001b[?25hCollecting autopep8>=1.5\n",
            "  Downloading autopep8-2.0.1-py2.py3-none-any.whl (45 kB)\n",
            "\u001b[2K     \u001b[90m━━━━━━━━━━━━━━━━━━━━━━━━━━━━━━━━━━━━━━━━\u001b[0m \u001b[32m45.0/45.0 KB\u001b[0m \u001b[31m2.6 MB/s\u001b[0m eta \u001b[36m0:00:00\u001b[0m\n",
            "\u001b[?25hRequirement already satisfied: scipy>=1.3.3 in /usr/local/lib/python3.8/dist-packages (from lux-api->lux==0.5.1) (1.7.3)\n",
            "Requirement already satisfied: altair>=4.0.0 in /usr/local/lib/python3.8/dist-packages (from lux-api->lux==0.5.1) (4.2.2)\n",
            "Requirement already satisfied: matplotlib>=3.0.0 in /usr/local/lib/python3.8/dist-packages (from lux-api->lux==0.5.1) (3.2.2)\n",
            "Requirement already satisfied: notebook>=4.0.0 in /usr/local/lib/python3.8/dist-packages (from lux-widget->lux==0.5.1) (5.7.16)\n",
            "Requirement already satisfied: ipywidgets>=7.5.0 in /usr/local/lib/python3.8/dist-packages (from lux-widget->lux==0.5.1) (7.7.1)\n",
            "Requirement already satisfied: toolz in /usr/local/lib/python3.8/dist-packages (from altair>=4.0.0->lux-api->lux==0.5.1) (0.12.0)\n",
            "Requirement already satisfied: entrypoints in /usr/local/lib/python3.8/dist-packages (from altair>=4.0.0->lux-api->lux==0.5.1) (0.4)\n",
            "Requirement already satisfied: jsonschema>=3.0 in /usr/local/lib/python3.8/dist-packages (from altair>=4.0.0->lux-api->lux==0.5.1) (4.3.3)\n",
            "Requirement already satisfied: jinja2 in /usr/local/lib/python3.8/dist-packages (from altair>=4.0.0->lux-api->lux==0.5.1) (2.11.3)\n",
            "Requirement already satisfied: tomli in /usr/local/lib/python3.8/dist-packages (from autopep8>=1.5->lux-api->lux==0.5.1) (2.0.1)\n",
            "Collecting pycodestyle>=2.10.0\n",
            "  Downloading pycodestyle-2.10.0-py2.py3-none-any.whl (41 kB)\n",
            "\u001b[2K     \u001b[90m━━━━━━━━━━━━━━━━━━━━━━━━━━━━━━━━━━━━━━━━\u001b[0m \u001b[32m41.3/41.3 KB\u001b[0m \u001b[31m2.5 MB/s\u001b[0m eta \u001b[36m0:00:00\u001b[0m\n",
            "\u001b[?25hRequirement already satisfied: traitlets>=4.3.1 in /usr/local/lib/python3.8/dist-packages (from ipywidgets>=7.5.0->lux-widget->lux==0.5.1) (5.7.1)\n",
            "Requirement already satisfied: ipykernel>=4.5.1 in /usr/local/lib/python3.8/dist-packages (from ipywidgets>=7.5.0->lux-widget->lux==0.5.1) (5.3.4)\n",
            "Requirement already satisfied: ipython>=4.0.0 in /usr/local/lib/python3.8/dist-packages (from ipywidgets>=7.5.0->lux-widget->lux==0.5.1) (7.9.0)\n",
            "Requirement already satisfied: widgetsnbextension~=3.6.0 in /usr/local/lib/python3.8/dist-packages (from ipywidgets>=7.5.0->lux-widget->lux==0.5.1) (3.6.1)\n",
            "Requirement already satisfied: ipython-genutils~=0.2.0 in /usr/local/lib/python3.8/dist-packages (from ipywidgets>=7.5.0->lux-widget->lux==0.5.1) (0.2.0)\n",
            "Requirement already satisfied: jupyterlab-widgets>=1.0.0 in /usr/local/lib/python3.8/dist-packages (from ipywidgets>=7.5.0->lux-widget->lux==0.5.1) (3.0.5)\n",
            "Requirement already satisfied: kiwisolver>=1.0.1 in /usr/local/lib/python3.8/dist-packages (from matplotlib>=3.0.0->lux-api->lux==0.5.1) (1.4.4)\n",
            "Requirement already satisfied: pyparsing!=2.0.4,!=2.1.2,!=2.1.6,>=2.0.1 in /usr/local/lib/python3.8/dist-packages (from matplotlib>=3.0.0->lux-api->lux==0.5.1) (3.0.9)\n",
            "Requirement already satisfied: python-dateutil>=2.1 in /usr/local/lib/python3.8/dist-packages (from matplotlib>=3.0.0->lux-api->lux==0.5.1) (2.8.2)\n",
            "Requirement already satisfied: cycler>=0.10 in /usr/local/lib/python3.8/dist-packages (from matplotlib>=3.0.0->lux-api->lux==0.5.1) (0.11.0)\n",
            "Requirement already satisfied: nbformat in /usr/local/lib/python3.8/dist-packages (from notebook>=4.0.0->lux-widget->lux==0.5.1) (5.7.3)\n",
            "Requirement already satisfied: terminado>=0.8.1 in /usr/local/lib/python3.8/dist-packages (from notebook>=4.0.0->lux-widget->lux==0.5.1) (0.13.3)\n",
            "Requirement already satisfied: prometheus-client in /usr/local/lib/python3.8/dist-packages (from notebook>=4.0.0->lux-widget->lux==0.5.1) (0.16.0)\n",
            "Requirement already satisfied: pyzmq>=17 in /usr/local/lib/python3.8/dist-packages (from notebook>=4.0.0->lux-widget->lux==0.5.1) (23.2.1)\n",
            "Requirement already satisfied: jupyter-client<7.0.0,>=5.2.0 in /usr/local/lib/python3.8/dist-packages (from notebook>=4.0.0->lux-widget->lux==0.5.1) (6.1.12)\n",
            "Requirement already satisfied: jupyter-core>=4.4.0 in /usr/local/lib/python3.8/dist-packages (from notebook>=4.0.0->lux-widget->lux==0.5.1) (5.2.0)\n",
            "Requirement already satisfied: Send2Trash in /usr/local/lib/python3.8/dist-packages (from notebook>=4.0.0->lux-widget->lux==0.5.1) (1.8.0)\n",
            "Requirement already satisfied: nbconvert<6.0 in /usr/local/lib/python3.8/dist-packages (from notebook>=4.0.0->lux-widget->lux==0.5.1) (5.6.1)\n",
            "Requirement already satisfied: tornado<7,>=4.1 in /usr/local/lib/python3.8/dist-packages (from notebook>=4.0.0->lux-widget->lux==0.5.1) (6.0.4)\n",
            "Requirement already satisfied: pytz>=2017.3 in /usr/local/lib/python3.8/dist-packages (from pandas->lux-api->lux==0.5.1) (2022.7.1)\n",
            "Requirement already satisfied: joblib>=0.11 in /usr/local/lib/python3.8/dist-packages (from scikit-learn>=0.22->lux-api->lux==0.5.1) (1.2.0)\n",
            "Requirement already satisfied: threadpoolctl>=2.0.0 in /usr/local/lib/python3.8/dist-packages (from scikit-learn>=0.22->lux-api->lux==0.5.1) (3.1.0)\n",
            "Requirement already satisfied: setuptools>=18.5 in /usr/local/lib/python3.8/dist-packages (from ipython>=4.0.0->ipywidgets>=7.5.0->lux-widget->lux==0.5.1) (57.4.0)\n",
            "Requirement already satisfied: pickleshare in /usr/local/lib/python3.8/dist-packages (from ipython>=4.0.0->ipywidgets>=7.5.0->lux-widget->lux==0.5.1) (0.7.5)\n",
            "Requirement already satisfied: prompt-toolkit<2.1.0,>=2.0.0 in /usr/local/lib/python3.8/dist-packages (from ipython>=4.0.0->ipywidgets>=7.5.0->lux-widget->lux==0.5.1) (2.0.10)\n",
            "Requirement already satisfied: pexpect in /usr/local/lib/python3.8/dist-packages (from ipython>=4.0.0->ipywidgets>=7.5.0->lux-widget->lux==0.5.1) (4.8.0)\n",
            "Requirement already satisfied: backcall in /usr/local/lib/python3.8/dist-packages (from ipython>=4.0.0->ipywidgets>=7.5.0->lux-widget->lux==0.5.1) (0.2.0)\n",
            "Requirement already satisfied: pygments in /usr/local/lib/python3.8/dist-packages (from ipython>=4.0.0->ipywidgets>=7.5.0->lux-widget->lux==0.5.1) (2.6.1)\n",
            "Requirement already satisfied: decorator in /usr/local/lib/python3.8/dist-packages (from ipython>=4.0.0->ipywidgets>=7.5.0->lux-widget->lux==0.5.1) (4.4.2)\n",
            "Collecting jedi>=0.10\n",
            "  Downloading jedi-0.18.2-py2.py3-none-any.whl (1.6 MB)\n",
            "\u001b[2K     \u001b[90m━━━━━━━━━━━━━━━━━━━━━━━━━━━━━━━━━━━━━━━━\u001b[0m \u001b[32m1.6/1.6 MB\u001b[0m \u001b[31m50.6 MB/s\u001b[0m eta \u001b[36m0:00:00\u001b[0m\n",
            "\u001b[?25hRequirement already satisfied: MarkupSafe>=0.23 in /usr/local/lib/python3.8/dist-packages (from jinja2->altair>=4.0.0->lux-api->lux==0.5.1) (2.0.1)\n",
            "Requirement already satisfied: pyrsistent!=0.17.0,!=0.17.1,!=0.17.2,>=0.14.0 in /usr/local/lib/python3.8/dist-packages (from jsonschema>=3.0->altair>=4.0.0->lux-api->lux==0.5.1) (0.19.3)\n",
            "Requirement already satisfied: attrs>=17.4.0 in /usr/local/lib/python3.8/dist-packages (from jsonschema>=3.0->altair>=4.0.0->lux-api->lux==0.5.1) (22.2.0)\n",
            "Requirement already satisfied: importlib-resources>=1.4.0 in /usr/local/lib/python3.8/dist-packages (from jsonschema>=3.0->altair>=4.0.0->lux-api->lux==0.5.1) (5.10.2)\n",
            "Requirement already satisfied: platformdirs>=2.5 in /usr/local/lib/python3.8/dist-packages (from jupyter-core>=4.4.0->notebook>=4.0.0->lux-widget->lux==0.5.1) (3.0.0)\n",
            "Requirement already satisfied: pandocfilters>=1.4.1 in /usr/local/lib/python3.8/dist-packages (from nbconvert<6.0->notebook>=4.0.0->lux-widget->lux==0.5.1) (1.5.0)\n",
            "Requirement already satisfied: testpath in /usr/local/lib/python3.8/dist-packages (from nbconvert<6.0->notebook>=4.0.0->lux-widget->lux==0.5.1) (0.6.0)\n",
            "Requirement already satisfied: defusedxml in /usr/local/lib/python3.8/dist-packages (from nbconvert<6.0->notebook>=4.0.0->lux-widget->lux==0.5.1) (0.7.1)\n",
            "Requirement already satisfied: mistune<2,>=0.8.1 in /usr/local/lib/python3.8/dist-packages (from nbconvert<6.0->notebook>=4.0.0->lux-widget->lux==0.5.1) (0.8.4)\n",
            "Requirement already satisfied: bleach in /usr/local/lib/python3.8/dist-packages (from nbconvert<6.0->notebook>=4.0.0->lux-widget->lux==0.5.1) (6.0.0)\n",
            "Requirement already satisfied: fastjsonschema in /usr/local/lib/python3.8/dist-packages (from nbformat->notebook>=4.0.0->lux-widget->lux==0.5.1) (2.16.2)\n",
            "Requirement already satisfied: six>=1.5 in /usr/local/lib/python3.8/dist-packages (from python-dateutil>=2.1->matplotlib>=3.0.0->lux-api->lux==0.5.1) (1.15.0)\n",
            "Requirement already satisfied: ptyprocess in /usr/local/lib/python3.8/dist-packages (from terminado>=0.8.1->notebook>=4.0.0->lux-widget->lux==0.5.1) (0.7.0)\n",
            "Requirement already satisfied: zipp>=3.1.0 in /usr/local/lib/python3.8/dist-packages (from importlib-resources>=1.4.0->jsonschema>=3.0->altair>=4.0.0->lux-api->lux==0.5.1) (3.12.1)\n",
            "Requirement already satisfied: parso<0.9.0,>=0.8.0 in /usr/local/lib/python3.8/dist-packages (from jedi>=0.10->ipython>=4.0.0->ipywidgets>=7.5.0->lux-widget->lux==0.5.1) (0.8.3)\n",
            "Requirement already satisfied: wcwidth in /usr/local/lib/python3.8/dist-packages (from prompt-toolkit<2.1.0,>=2.0.0->ipython>=4.0.0->ipywidgets>=7.5.0->lux-widget->lux==0.5.1) (0.2.6)\n",
            "Requirement already satisfied: webencodings in /usr/local/lib/python3.8/dist-packages (from bleach->nbconvert<6.0->notebook>=4.0.0->lux-widget->lux==0.5.1) (0.5.1)\n",
            "Building wheels for collected packages: lux, lux-api, lux-widget\n",
            "  Building wheel for lux (setup.py) ... \u001b[?25l\u001b[?25hdone\n",
            "  Created wheel for lux: filename=lux-0.5.1-py3-none-any.whl size=11979 sha256=70481111531fb8e826d9e1a4be22245dc0f08721db45c091c22616ff8cf47bc8\n",
            "  Stored in directory: /root/.cache/pip/wheels/3c/3e/28/4d99341bd4539e1bee08a12951d12d7a179936a847ee6f53d4\n",
            "  Building wheel for lux-api (pyproject.toml) ... \u001b[?25l\u001b[?25hdone\n",
            "  Created wheel for lux-api: filename=lux_api-0.5.1-py3-none-any.whl size=185621 sha256=5da53865ca354857df3d194ad5c46804c64328ae80ee0ffd8f4d6bec60cbc25c\n",
            "  Stored in directory: /root/.cache/pip/wheels/58/c7/50/1cc05b708e6be379f40d0609f2878bbd89c947021b9a2c6085\n",
            "  Building wheel for lux-widget (setup.py) ... \u001b[?25l\u001b[?25hdone\n",
            "  Created wheel for lux-widget: filename=lux_widget-0.1.11-py3-none-any.whl size=2540460 sha256=ca2e3f09c284864fefd21bbed4b789d8eeba15fbf821fba17b3ea15403f89c0a\n",
            "  Stored in directory: /root/.cache/pip/wheels/e5/b4/32/50f87f9ee0473d4c3278a2b8ec8ea08f49d9ac08534fdb9efd\n",
            "Successfully built lux lux-api lux-widget\n",
            "Installing collected packages: sh, pycodestyle, psutil, jedi, iso3166, autopep8, lux-widget, lux-api, lux\n",
            "  Attempting uninstall: psutil\n",
            "    Found existing installation: psutil 5.4.8\n",
            "    Uninstalling psutil-5.4.8:\n",
            "      Successfully uninstalled psutil-5.4.8\n",
            "Successfully installed autopep8-2.0.1 iso3166-2.1.1 jedi-0.18.2 lux-0.5.1 lux-api-0.5.1 lux-widget-0.1.11 psutil-5.9.4 pycodestyle-2.10.0 sh-2.0.2\n"
          ]
        },
        {
          "output_type": "display_data",
          "data": {
            "application/vnd.colab-display-data+json": {
              "pip_warning": {
                "packages": [
                  "psutil"
                ]
              }
            }
          },
          "metadata": {}
        }
      ]
    },
    {
      "cell_type": "markdown",
      "source": [
        "# Getting started\n",
        "Once installed, you just need to `import` the module. Let's get started and import pandas, lux, and the HCC dataset, which we will use for this notebook:\n",
        "\n"
      ],
      "metadata": {
        "id": "m4wzJwGnRFB_"
      }
    },
    {
      "cell_type": "code",
      "source": [
        "import lux\n",
        "import pandas as pd\n",
        "\n",
        "from google.colab import output\n",
        "output.enable_custom_widget_manager()"
      ],
      "metadata": {
        "id": "rLNIEZvDslnh"
      },
      "execution_count": 1,
      "outputs": []
    },
    {
      "cell_type": "markdown",
      "source": [
        "# Read the data\n",
        "Don't forget to load the HCC dataset. Here we will read the file directly from our GitHub repository. However, you can first download the file and then upload it to your working directory and read it as `pd.read_csv('hcc.csv')`. See this post on different ways to load data into Google Colab https://towardsdatascience.com/7-ways-to-load-external-data-into-google-colab-7ba73e7d5fc7."
      ],
      "metadata": {
        "id": "5zAKhRxdRP2c"
      }
    },
    {
      "cell_type": "code",
      "source": [
        "df = pd.read_csv('https://raw.githubusercontent.com/Data-Centric-AI-Community/awesome-data-centric-ai/master/medium/data-profiling-tools/data/hcc.csv')"
      ],
      "metadata": {
        "id": "IgAcgGxXtkMK"
      },
      "execution_count": 2,
      "outputs": []
    },
    {
      "cell_type": "code",
      "source": [
        "df"
      ],
      "metadata": {
        "colab": {
          "base_uri": "https://localhost:8080/",
          "height": 394,
          "referenced_widgets": [
            "d6b652510a8542a1b2d45bca10a3ddd8",
            "9add1541406441b88995309176c3a0cb",
            "fd7235b2395b486b9d5c775c29c06494",
            "783759064df34c91b3bce086e82d847e",
            "e3bf2ad84359419d8fa38beb7ae432ee",
            "2362011b7c894670abae5ac159b88d1a",
            "1d14658d68cf4c63acb7eb34e882ccef"
          ]
        },
        "id": "3w2IdxLytlT_",
        "outputId": "391248d7-0d3e-47a7-8481-a1de8a5fa872"
      },
      "execution_count": 3,
      "outputs": [
        {
          "output_type": "display_data",
          "data": {
            "text/plain": [
              "Button(description='Toggle Pandas/Lux', layout=Layout(top='5px', width='140px'), style=ButtonStyle())"
            ],
            "application/vnd.jupyter.widget-view+json": {
              "version_major": 2,
              "version_minor": 0,
              "model_id": "d6b652510a8542a1b2d45bca10a3ddd8"
            }
          },
          "metadata": {
            "application/vnd.jupyter.widget-view+json": {
              "colab": {
                "custom_widget_manager": {
                  "url": "https://ssl.gstatic.com/colaboratory-static/widgets/colab-cdn-widget-manager/b3e629b1971e1542/manager.min.js"
                }
              }
            }
          }
        },
        {
          "output_type": "display_data",
          "data": {
            "text/plain": [
              "Output()"
            ],
            "application/vnd.jupyter.widget-view+json": {
              "version_major": 2,
              "version_minor": 0,
              "model_id": "783759064df34c91b3bce086e82d847e"
            }
          },
          "metadata": {
            "application/vnd.jupyter.widget-view+json": {
              "colab": {
                "custom_widget_manager": {
                  "url": "https://ssl.gstatic.com/colaboratory-static/widgets/colab-cdn-widget-manager/b3e629b1971e1542/manager.min.js"
                }
              }
            }
          }
        }
      ]
    },
    {
      "cell_type": "markdown",
      "source": [
        "# Additional Features"
      ],
      "metadata": {
        "id": "HYb9jUTuRWDB"
      }
    },
    {
      "cell_type": "code",
      "source": [
        "df.intent = [\"PS\", \"Encephalopathy\"]"
      ],
      "metadata": {
        "id": "0iD-Fqh6xPC6"
      },
      "execution_count": 4,
      "outputs": []
    },
    {
      "cell_type": "code",
      "source": [
        "df"
      ],
      "metadata": {
        "colab": {
          "base_uri": "https://localhost:8080/",
          "height": 390,
          "referenced_widgets": [
            "7144c9620a53489d926cc070aee9d795",
            "e23e6372b0d54213b660c7679a9cafcf",
            "40f42ec1564f4bf4ae320b239edaf3d7",
            "795fa6bdc071480ea3a6441a30281692",
            "bb54d200a13941a4afb7f96280ffd631",
            "5d44cc5c30b84174b83a60a2c65104a6",
            "182c15b4013d4e508d2fad18e85289e5"
          ]
        },
        "id": "y2zPZ3RFxlyG",
        "outputId": "b4e1b244-ec45-41d7-d441-3855f64d83e5"
      },
      "execution_count": 5,
      "outputs": [
        {
          "output_type": "display_data",
          "data": {
            "text/plain": [
              "Button(description='Toggle Pandas/Lux', layout=Layout(top='5px', width='140px'), style=ButtonStyle())"
            ],
            "application/vnd.jupyter.widget-view+json": {
              "version_major": 2,
              "version_minor": 0,
              "model_id": "7144c9620a53489d926cc070aee9d795"
            }
          },
          "metadata": {
            "application/vnd.jupyter.widget-view+json": {
              "colab": {
                "custom_widget_manager": {
                  "url": "https://ssl.gstatic.com/colaboratory-static/widgets/colab-cdn-widget-manager/b3e629b1971e1542/manager.min.js"
                }
              }
            }
          }
        },
        {
          "output_type": "display_data",
          "data": {
            "text/plain": [
              "Output()"
            ],
            "application/vnd.jupyter.widget-view+json": {
              "version_major": 2,
              "version_minor": 0,
              "model_id": "795fa6bdc071480ea3a6441a30281692"
            }
          },
          "metadata": {
            "application/vnd.jupyter.widget-view+json": {
              "colab": {
                "custom_widget_manager": {
                  "url": "https://ssl.gstatic.com/colaboratory-static/widgets/colab-cdn-widget-manager/b3e629b1971e1542/manager.min.js"
                }
              }
            }
          }
        }
      ]
    }
  ]
}